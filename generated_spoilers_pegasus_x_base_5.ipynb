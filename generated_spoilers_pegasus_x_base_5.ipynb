{
 "cells": [
  {
   "cell_type": "code",
   "execution_count": 1,
   "metadata": {
    "_cell_guid": "b1076dfc-b9ad-4769-8c92-a6c4dae69d19",
    "_uuid": "8f2839f25d086af736a60e9eeb907d3b93b6e0e5",
    "execution": {
     "iopub.execute_input": "2023-07-29T19:22:33.491222Z",
     "iopub.status.busy": "2023-07-29T19:22:33.490811Z",
     "iopub.status.idle": "2023-07-29T19:22:51.288983Z",
     "shell.execute_reply": "2023-07-29T19:22:51.287829Z",
     "shell.execute_reply.started": "2023-07-29T19:22:33.491188Z"
    }
   },
   "outputs": [
    {
     "name": "stdout",
     "output_type": "stream",
     "text": [
      "Requirement already satisfied: datasets in /opt/conda/lib/python3.10/site-packages (2.1.0)\n",
      "Collecting evaluate\n",
      "  Downloading evaluate-0.4.0-py3-none-any.whl (81 kB)\n",
      "\u001b[2K     \u001b[90m━━━━━━━━━━━━━━━━━━━━━━━━━━━━━━━━━━━━━━━━\u001b[0m \u001b[32m81.4/81.4 kB\u001b[0m \u001b[31m3.0 MB/s\u001b[0m eta \u001b[36m0:00:00\u001b[0m\n",
      "\u001b[?25hRequirement already satisfied: transformers in /opt/conda/lib/python3.10/site-packages (4.30.2)\n",
      "Collecting rouge-score\n",
      "  Downloading rouge_score-0.1.2.tar.gz (17 kB)\n",
      "  Preparing metadata (setup.py) ... \u001b[?25ldone\n",
      "\u001b[?25hRequirement already satisfied: nltk in /opt/conda/lib/python3.10/site-packages (3.2.4)\n",
      "Requirement already satisfied: numpy>=1.17 in /opt/conda/lib/python3.10/site-packages (from datasets) (1.23.5)\n",
      "Requirement already satisfied: pyarrow>=5.0.0 in /opt/conda/lib/python3.10/site-packages (from datasets) (11.0.0)\n",
      "Requirement already satisfied: dill in /opt/conda/lib/python3.10/site-packages (from datasets) (0.3.6)\n",
      "Requirement already satisfied: pandas in /opt/conda/lib/python3.10/site-packages (from datasets) (1.5.3)\n",
      "Requirement already satisfied: requests>=2.19.0 in /opt/conda/lib/python3.10/site-packages (from datasets) (2.31.0)\n",
      "Requirement already satisfied: tqdm>=4.62.1 in /opt/conda/lib/python3.10/site-packages (from datasets) (4.65.0)\n",
      "Requirement already satisfied: xxhash in /opt/conda/lib/python3.10/site-packages (from datasets) (3.2.0)\n",
      "Requirement already satisfied: multiprocess in /opt/conda/lib/python3.10/site-packages (from datasets) (0.70.14)\n",
      "Requirement already satisfied: fsspec[http]>=2021.05.0 in /opt/conda/lib/python3.10/site-packages (from datasets) (2023.6.0)\n",
      "Requirement already satisfied: aiohttp in /opt/conda/lib/python3.10/site-packages (from datasets) (3.8.4)\n",
      "Requirement already satisfied: huggingface-hub<1.0.0,>=0.1.0 in /opt/conda/lib/python3.10/site-packages (from datasets) (0.16.4)\n",
      "Requirement already satisfied: packaging in /opt/conda/lib/python3.10/site-packages (from datasets) (21.3)\n",
      "Requirement already satisfied: responses<0.19 in /opt/conda/lib/python3.10/site-packages (from datasets) (0.18.0)\n",
      "Requirement already satisfied: filelock in /opt/conda/lib/python3.10/site-packages (from transformers) (3.12.2)\n",
      "Requirement already satisfied: pyyaml>=5.1 in /opt/conda/lib/python3.10/site-packages (from transformers) (6.0)\n",
      "Requirement already satisfied: regex!=2019.12.17 in /opt/conda/lib/python3.10/site-packages (from transformers) (2023.6.3)\n",
      "Requirement already satisfied: tokenizers!=0.11.3,<0.14,>=0.11.1 in /opt/conda/lib/python3.10/site-packages (from transformers) (0.13.3)\n",
      "Requirement already satisfied: safetensors>=0.3.1 in /opt/conda/lib/python3.10/site-packages (from transformers) (0.3.1)\n",
      "Requirement already satisfied: absl-py in /opt/conda/lib/python3.10/site-packages (from rouge-score) (1.4.0)\n",
      "Requirement already satisfied: six>=1.14.0 in /opt/conda/lib/python3.10/site-packages (from rouge-score) (1.16.0)\n",
      "Requirement already satisfied: attrs>=17.3.0 in /opt/conda/lib/python3.10/site-packages (from aiohttp->datasets) (23.1.0)\n",
      "Requirement already satisfied: charset-normalizer<4.0,>=2.0 in /opt/conda/lib/python3.10/site-packages (from aiohttp->datasets) (3.1.0)\n",
      "Requirement already satisfied: multidict<7.0,>=4.5 in /opt/conda/lib/python3.10/site-packages (from aiohttp->datasets) (6.0.4)\n",
      "Requirement already satisfied: async-timeout<5.0,>=4.0.0a3 in /opt/conda/lib/python3.10/site-packages (from aiohttp->datasets) (4.0.2)\n",
      "Requirement already satisfied: yarl<2.0,>=1.0 in /opt/conda/lib/python3.10/site-packages (from aiohttp->datasets) (1.9.2)\n",
      "Requirement already satisfied: frozenlist>=1.1.1 in /opt/conda/lib/python3.10/site-packages (from aiohttp->datasets) (1.3.3)\n",
      "Requirement already satisfied: aiosignal>=1.1.2 in /opt/conda/lib/python3.10/site-packages (from aiohttp->datasets) (1.3.1)\n",
      "Requirement already satisfied: typing-extensions>=3.7.4.3 in /opt/conda/lib/python3.10/site-packages (from huggingface-hub<1.0.0,>=0.1.0->datasets) (4.6.3)\n",
      "Requirement already satisfied: pyparsing!=3.0.5,>=2.0.2 in /opt/conda/lib/python3.10/site-packages (from packaging->datasets) (3.0.9)\n",
      "Requirement already satisfied: idna<4,>=2.5 in /opt/conda/lib/python3.10/site-packages (from requests>=2.19.0->datasets) (3.4)\n",
      "Requirement already satisfied: urllib3<3,>=1.21.1 in /opt/conda/lib/python3.10/site-packages (from requests>=2.19.0->datasets) (1.26.15)\n",
      "Requirement already satisfied: certifi>=2017.4.17 in /opt/conda/lib/python3.10/site-packages (from requests>=2.19.0->datasets) (2023.5.7)\n",
      "Requirement already satisfied: python-dateutil>=2.8.1 in /opt/conda/lib/python3.10/site-packages (from pandas->datasets) (2.8.2)\n",
      "Requirement already satisfied: pytz>=2020.1 in /opt/conda/lib/python3.10/site-packages (from pandas->datasets) (2023.3)\n",
      "Building wheels for collected packages: rouge-score\n",
      "  Building wheel for rouge-score (setup.py) ... \u001b[?25ldone\n",
      "\u001b[?25h  Created wheel for rouge-score: filename=rouge_score-0.1.2-py3-none-any.whl size=24954 sha256=4c08f5158bc8130013f5d3d36b27a5258e953c5c1ec06b2ecf2977701f6e008f\n",
      "  Stored in directory: /root/.cache/pip/wheels/5f/dd/89/461065a73be61a532ff8599a28e9beef17985c9e9c31e541b4\n",
      "Successfully built rouge-score\n",
      "Installing collected packages: rouge-score, evaluate\n",
      "Successfully installed evaluate-0.4.0 rouge-score-0.1.2\n"
     ]
    }
   ],
   "source": [
    "! pip install datasets evaluate transformers rouge-score nltk"
   ]
  },
  {
   "cell_type": "code",
   "execution_count": 2,
   "metadata": {
    "execution": {
     "iopub.execute_input": "2023-07-29T19:22:51.293571Z",
     "iopub.status.busy": "2023-07-29T19:22:51.293266Z",
     "iopub.status.idle": "2023-07-29T19:23:27.412124Z",
     "shell.execute_reply": "2023-07-29T19:23:27.410879Z",
     "shell.execute_reply.started": "2023-07-29T19:22:51.293544Z"
    }
   },
   "outputs": [
    {
     "name": "stdout",
     "output_type": "stream",
     "text": [
      "Requirement already satisfied: transformers in /opt/conda/lib/python3.10/site-packages (4.30.2)\n",
      "Collecting transformers\n",
      "  Downloading transformers-4.31.0-py3-none-any.whl (7.4 MB)\n",
      "\u001b[2K     \u001b[90m━━━━━━━━━━━━━━━━━━━━━━━━━━━━━━━━━━━━━━━━\u001b[0m \u001b[32m7.4/7.4 MB\u001b[0m \u001b[31m54.6 MB/s\u001b[0m eta \u001b[36m0:00:00\u001b[0m00:01\u001b[0m00:01\u001b[0m\n",
      "\u001b[?25hRequirement already satisfied: filelock in /opt/conda/lib/python3.10/site-packages (from transformers) (3.12.2)\n",
      "Requirement already satisfied: huggingface-hub<1.0,>=0.14.1 in /opt/conda/lib/python3.10/site-packages (from transformers) (0.16.4)\n",
      "Requirement already satisfied: numpy>=1.17 in /opt/conda/lib/python3.10/site-packages (from transformers) (1.23.5)\n",
      "Requirement already satisfied: packaging>=20.0 in /opt/conda/lib/python3.10/site-packages (from transformers) (21.3)\n",
      "Requirement already satisfied: pyyaml>=5.1 in /opt/conda/lib/python3.10/site-packages (from transformers) (6.0)\n",
      "Requirement already satisfied: regex!=2019.12.17 in /opt/conda/lib/python3.10/site-packages (from transformers) (2023.6.3)\n",
      "Requirement already satisfied: requests in /opt/conda/lib/python3.10/site-packages (from transformers) (2.31.0)\n",
      "Requirement already satisfied: tokenizers!=0.11.3,<0.14,>=0.11.1 in /opt/conda/lib/python3.10/site-packages (from transformers) (0.13.3)\n",
      "Requirement already satisfied: safetensors>=0.3.1 in /opt/conda/lib/python3.10/site-packages (from transformers) (0.3.1)\n",
      "Requirement already satisfied: tqdm>=4.27 in /opt/conda/lib/python3.10/site-packages (from transformers) (4.65.0)\n",
      "Requirement already satisfied: fsspec in /opt/conda/lib/python3.10/site-packages (from huggingface-hub<1.0,>=0.14.1->transformers) (2023.6.0)\n",
      "Requirement already satisfied: typing-extensions>=3.7.4.3 in /opt/conda/lib/python3.10/site-packages (from huggingface-hub<1.0,>=0.14.1->transformers) (4.6.3)\n",
      "Requirement already satisfied: pyparsing!=3.0.5,>=2.0.2 in /opt/conda/lib/python3.10/site-packages (from packaging>=20.0->transformers) (3.0.9)\n",
      "Requirement already satisfied: charset-normalizer<4,>=2 in /opt/conda/lib/python3.10/site-packages (from requests->transformers) (3.1.0)\n",
      "Requirement already satisfied: idna<4,>=2.5 in /opt/conda/lib/python3.10/site-packages (from requests->transformers) (3.4)\n",
      "Requirement already satisfied: urllib3<3,>=1.21.1 in /opt/conda/lib/python3.10/site-packages (from requests->transformers) (1.26.15)\n",
      "Requirement already satisfied: certifi>=2017.4.17 in /opt/conda/lib/python3.10/site-packages (from requests->transformers) (2023.5.7)\n",
      "Installing collected packages: transformers\n",
      "  Attempting uninstall: transformers\n",
      "    Found existing installation: transformers 4.30.2\n",
      "    Uninstalling transformers-4.30.2:\n",
      "      Successfully uninstalled transformers-4.30.2\n",
      "Successfully installed transformers-4.31.0\n",
      "Requirement already satisfied: wandb in /opt/conda/lib/python3.10/site-packages (0.15.5)\n",
      "Collecting wandb\n",
      "  Downloading wandb-0.15.7-py3-none-any.whl (2.1 MB)\n",
      "\u001b[2K     \u001b[90m━━━━━━━━━━━━━━━━━━━━━━━━━━━━━━━━━━━━━━━━\u001b[0m \u001b[32m2.1/2.1 MB\u001b[0m \u001b[31m26.4 MB/s\u001b[0m eta \u001b[36m0:00:00\u001b[0m00:01\u001b[0m00:01\u001b[0m\n",
      "\u001b[?25hRequirement already satisfied: Click!=8.0.0,>=7.1 in /opt/conda/lib/python3.10/site-packages (from wandb) (8.1.3)\n",
      "Requirement already satisfied: GitPython!=3.1.29,>=1.0.0 in /opt/conda/lib/python3.10/site-packages (from wandb) (3.1.31)\n",
      "Requirement already satisfied: requests<3,>=2.0.0 in /opt/conda/lib/python3.10/site-packages (from wandb) (2.31.0)\n",
      "Requirement already satisfied: psutil>=5.0.0 in /opt/conda/lib/python3.10/site-packages (from wandb) (5.9.3)\n",
      "Requirement already satisfied: sentry-sdk>=1.0.0 in /opt/conda/lib/python3.10/site-packages (from wandb) (1.27.1)\n",
      "Requirement already satisfied: docker-pycreds>=0.4.0 in /opt/conda/lib/python3.10/site-packages (from wandb) (0.4.0)\n",
      "Requirement already satisfied: PyYAML in /opt/conda/lib/python3.10/site-packages (from wandb) (6.0)\n",
      "Requirement already satisfied: pathtools in /opt/conda/lib/python3.10/site-packages (from wandb) (0.1.2)\n",
      "Requirement already satisfied: setproctitle in /opt/conda/lib/python3.10/site-packages (from wandb) (1.3.2)\n",
      "Requirement already satisfied: setuptools in /opt/conda/lib/python3.10/site-packages (from wandb) (59.8.0)\n",
      "Requirement already satisfied: appdirs>=1.4.3 in /opt/conda/lib/python3.10/site-packages (from wandb) (1.4.4)\n",
      "Requirement already satisfied: protobuf!=4.21.0,<5,>=3.19.0 in /opt/conda/lib/python3.10/site-packages (from wandb) (3.20.3)\n",
      "Requirement already satisfied: six>=1.4.0 in /opt/conda/lib/python3.10/site-packages (from docker-pycreds>=0.4.0->wandb) (1.16.0)\n",
      "Requirement already satisfied: gitdb<5,>=4.0.1 in /opt/conda/lib/python3.10/site-packages (from GitPython!=3.1.29,>=1.0.0->wandb) (4.0.10)\n",
      "Requirement already satisfied: charset-normalizer<4,>=2 in /opt/conda/lib/python3.10/site-packages (from requests<3,>=2.0.0->wandb) (3.1.0)\n",
      "Requirement already satisfied: idna<4,>=2.5 in /opt/conda/lib/python3.10/site-packages (from requests<3,>=2.0.0->wandb) (3.4)\n",
      "Requirement already satisfied: urllib3<3,>=1.21.1 in /opt/conda/lib/python3.10/site-packages (from requests<3,>=2.0.0->wandb) (1.26.15)\n",
      "Requirement already satisfied: certifi>=2017.4.17 in /opt/conda/lib/python3.10/site-packages (from requests<3,>=2.0.0->wandb) (2023.5.7)\n",
      "Requirement already satisfied: smmap<6,>=3.0.1 in /opt/conda/lib/python3.10/site-packages (from gitdb<5,>=4.0.1->GitPython!=3.1.29,>=1.0.0->wandb) (5.0.0)\n",
      "Installing collected packages: wandb\n",
      "  Attempting uninstall: wandb\n",
      "    Found existing installation: wandb 0.15.5\n",
      "    Uninstalling wandb-0.15.5:\n",
      "      Successfully uninstalled wandb-0.15.5\n",
      "Successfully installed wandb-0.15.7\n"
     ]
    }
   ],
   "source": [
    "!pip install transformers --upgrade\n",
    "!pip install wandb --upgrade"
   ]
  },
  {
   "cell_type": "code",
   "execution_count": 3,
   "metadata": {
    "execution": {
     "iopub.execute_input": "2023-07-29T19:23:27.414904Z",
     "iopub.status.busy": "2023-07-29T19:23:27.414510Z",
     "iopub.status.idle": "2023-07-29T19:23:29.058084Z",
     "shell.execute_reply": "2023-07-29T19:23:29.056989Z",
     "shell.execute_reply.started": "2023-07-29T19:23:27.414866Z"
    }
   },
   "outputs": [
    {
     "name": "stdout",
     "output_type": "stream",
     "text": [
      "4.31.0\n"
     ]
    }
   ],
   "source": [
    "import transformers\n",
    "\n",
    "print(transformers.__version__)"
   ]
  },
  {
   "cell_type": "code",
   "execution_count": 4,
   "metadata": {
    "execution": {
     "iopub.execute_input": "2023-07-29T19:23:29.061810Z",
     "iopub.status.busy": "2023-07-29T19:23:29.061160Z",
     "iopub.status.idle": "2023-07-29T19:23:29.066321Z",
     "shell.execute_reply": "2023-07-29T19:23:29.065312Z",
     "shell.execute_reply.started": "2023-07-29T19:23:29.061772Z"
    }
   },
   "outputs": [],
   "source": [
    "# model_checkpoint = \"t5-base\"    #\"t5-small\", \"t5-base\", \"t5-larg\", \"t5-3b\", \"t5-11b\"\n",
    "# model_checkpoint = \"facebook/bart-base\"\n",
    "model_checkpoint = \"google/pegasus-x-base\""
   ]
  },
  {
   "cell_type": "code",
   "execution_count": 5,
   "metadata": {
    "execution": {
     "iopub.execute_input": "2023-07-29T19:23:29.068361Z",
     "iopub.status.busy": "2023-07-29T19:23:29.067791Z",
     "iopub.status.idle": "2023-07-29T19:23:36.884189Z",
     "shell.execute_reply": "2023-07-29T19:23:36.883014Z",
     "shell.execute_reply.started": "2023-07-29T19:23:29.068327Z"
    }
   },
   "outputs": [
    {
     "name": "stderr",
     "output_type": "stream",
     "text": [
      "/opt/conda/lib/python3.10/site-packages/scipy/__init__.py:146: UserWarning: A NumPy version >=1.16.5 and <1.23.0 is required for this version of SciPy (detected version 1.23.5\n",
      "  warnings.warn(f\"A NumPy version >={np_minversion} and <{np_maxversion}\"\n",
      "/opt/conda/lib/python3.10/site-packages/tensorflow_io/python/ops/__init__.py:98: UserWarning: unable to load libtensorflow_io_plugins.so: unable to open file: libtensorflow_io_plugins.so, from paths: ['/opt/conda/lib/python3.10/site-packages/tensorflow_io/python/ops/libtensorflow_io_plugins.so']\n",
      "caused by: ['/opt/conda/lib/python3.10/site-packages/tensorflow_io/python/ops/libtensorflow_io_plugins.so: undefined symbol: _ZN3tsl6StatusC1EN10tensorflow5error4CodeESt17basic_string_viewIcSt11char_traitsIcEENS_14SourceLocationE']\n",
      "  warnings.warn(f\"unable to load libtensorflow_io_plugins.so: {e}\")\n",
      "/opt/conda/lib/python3.10/site-packages/tensorflow_io/python/ops/__init__.py:104: UserWarning: file system plugins are not loaded: unable to open file: libtensorflow_io.so, from paths: ['/opt/conda/lib/python3.10/site-packages/tensorflow_io/python/ops/libtensorflow_io.so']\n",
      "caused by: ['/opt/conda/lib/python3.10/site-packages/tensorflow_io/python/ops/libtensorflow_io.so: undefined symbol: _ZTVN10tensorflow13GcsFileSystemE']\n",
      "  warnings.warn(f\"file system plugins are not loaded: {e}\")\n"
     ]
    }
   ],
   "source": [
    "import pandas as pd\n",
    "import os\n",
    "import json\n",
    "import numpy as np\n",
    "import tensorflow as tf\n",
    "from tensorflow import keras\n",
    "from tensorflow.keras.preprocessing.text import Tokenizer\n",
    "from tensorflow.keras.preprocessing.sequence import pad_sequences\n",
    "from tensorflow.keras.models import Model\n",
    "from tensorflow.keras.layers import Input, Dense, Embedding, Masking, LSTM\n",
    "from tensorflow.keras.optimizers import Adam"
   ]
  },
  {
   "cell_type": "code",
   "execution_count": 6,
   "metadata": {
    "execution": {
     "iopub.execute_input": "2023-07-29T19:23:36.886644Z",
     "iopub.status.busy": "2023-07-29T19:23:36.885887Z",
     "iopub.status.idle": "2023-07-29T19:23:37.346364Z",
     "shell.execute_reply": "2023-07-29T19:23:37.345309Z",
     "shell.execute_reply.started": "2023-07-29T19:23:36.886608Z"
    }
   },
   "outputs": [],
   "source": [
    "def load_dataset(file_name):\n",
    "    data = []\n",
    "    with open(file_name, encoding='utf8') as f:\n",
    "        for line in f:\n",
    "            example = json.loads(line)\n",
    "            post_text = example['postText'][0]\n",
    "            title = example['targetTitle']\n",
    "            paragraphs = ' '.join(example['targetParagraphs'])\n",
    "            spoiler = example['spoiler'][0]\n",
    "            data.append({'text': post_text + ' - ' + title + paragraphs, 'spoiler': spoiler})\n",
    "    return pd.DataFrame(data)\n",
    "\n",
    "def load_dataset_test(file_name):\n",
    "    data = []\n",
    "    with open(file_name, encoding='utf8') as f:\n",
    "        for line in f:\n",
    "            example = json.loads(line)\n",
    "            post_text = example['postText'][0]\n",
    "            title = example['targetTitle']\n",
    "            id = example['id']\n",
    "            paragraphs = ' '.join(example['targetParagraphs'])\n",
    "            # label = example['tags'][0] if 'tags' in example else None\n",
    "            # if label in ['phrase', 'multi', 'passage']:\n",
    "            data.append({'id': id, 'text': post_text + ' - ' + title + paragraphs})\n",
    "    return pd.DataFrame(data)\n",
    "\n",
    "test_data = load_dataset_test('/kaggle/input/mscitask1-spoiler-generation/test.jsonl')\n",
    "train_data = load_dataset('/kaggle/input/mscitask1-spoiler-generation/train.jsonl')\n",
    "validation_data = load_dataset('/kaggle/input/mscitask1-spoiler-generation/val.jsonl')\n",
    "# test_data = load_dataset_test('/kaggle/input/clickbait-detection-msci641-s23/test.jsonl')\n",
    "# all_datasets = pd.concat([test_data, train_data, validation_data])"
   ]
  },
  {
   "cell_type": "code",
   "execution_count": 7,
   "metadata": {
    "execution": {
     "iopub.execute_input": "2023-07-29T19:23:37.350341Z",
     "iopub.status.busy": "2023-07-29T19:23:37.350053Z",
     "iopub.status.idle": "2023-07-29T19:23:37.365880Z",
     "shell.execute_reply": "2023-07-29T19:23:37.364636Z",
     "shell.execute_reply.started": "2023-07-29T19:23:37.350311Z"
    }
   },
   "outputs": [
    {
     "name": "stdout",
     "output_type": "stream",
     "text": [
      "<class 'pandas.core.frame.DataFrame'>\n",
      "                                                text  \\\n",
      "0  Wes Welker Wanted Dinner With Tom Brady, But P...   \n",
      "1  NASA sets date for full recovery of ozone hole...   \n",
      "\n",
      "                               spoiler  \n",
      "0  how about that morning we go throw?  \n",
      "1                                 2070  \n",
      "<class 'pandas.core.frame.DataFrame'>\n",
      "   id                                               text\n",
      "0   0  He Tackles A Nurse At The Hospital. Then You S...\n",
      "1   1  Why you SHOULD be selfish at work - Why you SH...\n"
     ]
    }
   ],
   "source": [
    "print(type(train_data))\n",
    "print(train_data[:2])\n",
    "print(type(test_data))\n",
    "print(test_data[:2])"
   ]
  },
  {
   "cell_type": "code",
   "execution_count": 8,
   "metadata": {
    "execution": {
     "iopub.execute_input": "2023-07-29T19:23:37.368021Z",
     "iopub.status.busy": "2023-07-29T19:23:37.367597Z",
     "iopub.status.idle": "2023-07-29T19:23:37.375329Z",
     "shell.execute_reply": "2023-07-29T19:23:37.374219Z",
     "shell.execute_reply.started": "2023-07-29T19:23:37.367987Z"
    }
   },
   "outputs": [],
   "source": [
    "train_data = np.array(train_data)\n",
    "validation_data = np.array(validation_data)\n",
    "test_data = np.array(test_data)"
   ]
  },
  {
   "cell_type": "code",
   "execution_count": 9,
   "metadata": {
    "execution": {
     "iopub.execute_input": "2023-07-29T19:23:37.377476Z",
     "iopub.status.busy": "2023-07-29T19:23:37.376815Z",
     "iopub.status.idle": "2023-07-29T19:23:37.831712Z",
     "shell.execute_reply": "2023-07-29T19:23:37.829459Z",
     "shell.execute_reply.started": "2023-07-29T19:23:37.377442Z"
    }
   },
   "outputs": [
    {
     "name": "stdout",
     "output_type": "stream",
     "text": [
      "3200\n",
      "400\n",
      "400\n"
     ]
    }
   ],
   "source": [
    "characters = ['!','\"','#','$','%','&','(',')','*','+','/',':',';','<','=','>','@','^','`','|','~','\\t','[',']','{','}','\\\\','.','-']\n",
    "for i in range(len(train_data)):\n",
    "    for j in characters:\n",
    "        train_data[i][0] = train_data[i][0].replace(j,\"\")\n",
    "        train_data[i][1] = train_data[i][1].replace(j,\"\")\n",
    "\n",
    "for i in range(len(validation_data)):\n",
    "    for j in characters:\n",
    "        validation_data[i][0] = validation_data[i][0].replace(j,\"\")\n",
    "        validation_data[i][1] = validation_data[i][1].replace(j,\"\")\n",
    "        \n",
    "for i in range(len(test_data)):\n",
    "    for j in characters:\n",
    "        test_data[i][1] = test_data[i][1].replace(j,\"\")\n",
    "\n",
    "        \n",
    "print(len(train_data))\n",
    "print(len(validation_data))\n",
    "print(len(test_data))\n",
    "\n",
    "train_data = pd.DataFrame(train_data, columns=[\"text\", \"spoiler\"])\n",
    "validation_data = pd.DataFrame(validation_data, columns=[\"text\", \"spoiler\"])\n",
    "test_data = pd.DataFrame(test_data, columns=[\"id\", \"text\"])"
   ]
  },
  {
   "cell_type": "code",
   "execution_count": 10,
   "metadata": {
    "execution": {
     "iopub.execute_input": "2023-07-29T19:23:37.836942Z",
     "iopub.status.busy": "2023-07-29T19:23:37.836637Z",
     "iopub.status.idle": "2023-07-29T19:23:38.491433Z",
     "shell.execute_reply": "2023-07-29T19:23:38.490436Z",
     "shell.execute_reply.started": "2023-07-29T19:23:37.836916Z"
    }
   },
   "outputs": [],
   "source": [
    "train_data.to_csv('train_data.csv', index=False)\n",
    "validation_data.to_csv('validation_data.csv', index=False)\n",
    "test_data.to_csv('test_data.csv', index=False)"
   ]
  },
  {
   "cell_type": "code",
   "execution_count": 11,
   "metadata": {
    "execution": {
     "iopub.execute_input": "2023-07-29T19:23:38.493279Z",
     "iopub.status.busy": "2023-07-29T19:23:38.492845Z",
     "iopub.status.idle": "2023-07-29T19:23:40.274368Z",
     "shell.execute_reply": "2023-07-29T19:23:40.273426Z",
     "shell.execute_reply.started": "2023-07-29T19:23:38.493241Z"
    }
   },
   "outputs": [
    {
     "name": "stdout",
     "output_type": "stream",
     "text": [
      "Downloading and preparing dataset csv/default to /root/.cache/huggingface/datasets/csv/default-e447d03302ac1435/0.0.0/433e0ccc46f9880962cc2b12065189766fbb2bee57a221866138fb9203c83519...\n"
     ]
    },
    {
     "data": {
      "application/vnd.jupyter.widget-view+json": {
       "model_id": "28aec9957e574035843968768c42a340",
       "version_major": 2,
       "version_minor": 0
      },
      "text/plain": [
       "Downloading data files:   0%|          | 0/1 [00:00<?, ?it/s]"
      ]
     },
     "metadata": {},
     "output_type": "display_data"
    },
    {
     "data": {
      "application/vnd.jupyter.widget-view+json": {
       "model_id": "345c6dea3170486eb94726a94a80a963",
       "version_major": 2,
       "version_minor": 0
      },
      "text/plain": [
       "Extracting data files:   0%|          | 0/1 [00:00<?, ?it/s]"
      ]
     },
     "metadata": {},
     "output_type": "display_data"
    },
    {
     "name": "stderr",
     "output_type": "stream",
     "text": [
      "/opt/conda/lib/python3.10/site-packages/datasets/packaged_modules/csv/csv.py:154: FutureWarning: the 'mangle_dupe_cols' keyword is deprecated and will be removed in a future version. Please take steps to stop the use of 'mangle_dupe_cols'\n",
      "  csv_file_reader = pd.read_csv(file, iterator=True, dtype=dtype, **self.config.read_csv_kwargs)\n"
     ]
    },
    {
     "name": "stdout",
     "output_type": "stream",
     "text": [
      "Dataset csv downloaded and prepared to /root/.cache/huggingface/datasets/csv/default-e447d03302ac1435/0.0.0/433e0ccc46f9880962cc2b12065189766fbb2bee57a221866138fb9203c83519. Subsequent calls will reuse this data.\n"
     ]
    },
    {
     "data": {
      "application/vnd.jupyter.widget-view+json": {
       "model_id": "cd99c9172bd64fd3bfb9be57f517700a",
       "version_major": 2,
       "version_minor": 0
      },
      "text/plain": [
       "  0%|          | 0/1 [00:00<?, ?it/s]"
      ]
     },
     "metadata": {},
     "output_type": "display_data"
    },
    {
     "name": "stdout",
     "output_type": "stream",
     "text": [
      "Downloading and preparing dataset csv/default to /root/.cache/huggingface/datasets/csv/default-92e72df8ce99555e/0.0.0/433e0ccc46f9880962cc2b12065189766fbb2bee57a221866138fb9203c83519...\n"
     ]
    },
    {
     "data": {
      "application/vnd.jupyter.widget-view+json": {
       "model_id": "6b76d96481ab44abad9da19bb4ef945a",
       "version_major": 2,
       "version_minor": 0
      },
      "text/plain": [
       "Downloading data files:   0%|          | 0/1 [00:00<?, ?it/s]"
      ]
     },
     "metadata": {},
     "output_type": "display_data"
    },
    {
     "data": {
      "application/vnd.jupyter.widget-view+json": {
       "model_id": "376b959fc9d74aa7b2fdebc1521b0034",
       "version_major": 2,
       "version_minor": 0
      },
      "text/plain": [
       "Extracting data files:   0%|          | 0/1 [00:00<?, ?it/s]"
      ]
     },
     "metadata": {},
     "output_type": "display_data"
    },
    {
     "name": "stdout",
     "output_type": "stream",
     "text": [
      "Dataset csv downloaded and prepared to /root/.cache/huggingface/datasets/csv/default-92e72df8ce99555e/0.0.0/433e0ccc46f9880962cc2b12065189766fbb2bee57a221866138fb9203c83519. Subsequent calls will reuse this data.\n"
     ]
    },
    {
     "name": "stderr",
     "output_type": "stream",
     "text": [
      "/opt/conda/lib/python3.10/site-packages/datasets/packaged_modules/csv/csv.py:154: FutureWarning: the 'mangle_dupe_cols' keyword is deprecated and will be removed in a future version. Please take steps to stop the use of 'mangle_dupe_cols'\n",
      "  csv_file_reader = pd.read_csv(file, iterator=True, dtype=dtype, **self.config.read_csv_kwargs)\n"
     ]
    },
    {
     "data": {
      "application/vnd.jupyter.widget-view+json": {
       "model_id": "736c096f3acc4e3388f932a8910fac0b",
       "version_major": 2,
       "version_minor": 0
      },
      "text/plain": [
       "  0%|          | 0/1 [00:00<?, ?it/s]"
      ]
     },
     "metadata": {},
     "output_type": "display_data"
    },
    {
     "name": "stdout",
     "output_type": "stream",
     "text": [
      "Downloading and preparing dataset csv/default to /root/.cache/huggingface/datasets/csv/default-bfe08148769efe88/0.0.0/433e0ccc46f9880962cc2b12065189766fbb2bee57a221866138fb9203c83519...\n"
     ]
    },
    {
     "data": {
      "application/vnd.jupyter.widget-view+json": {
       "model_id": "0621950b91b24bafa28cb30b36352565",
       "version_major": 2,
       "version_minor": 0
      },
      "text/plain": [
       "Downloading data files:   0%|          | 0/1 [00:00<?, ?it/s]"
      ]
     },
     "metadata": {},
     "output_type": "display_data"
    },
    {
     "data": {
      "application/vnd.jupyter.widget-view+json": {
       "model_id": "b71b63f1390648eca110982adcf8fc97",
       "version_major": 2,
       "version_minor": 0
      },
      "text/plain": [
       "Extracting data files:   0%|          | 0/1 [00:00<?, ?it/s]"
      ]
     },
     "metadata": {},
     "output_type": "display_data"
    },
    {
     "name": "stdout",
     "output_type": "stream",
     "text": [
      "Dataset csv downloaded and prepared to /root/.cache/huggingface/datasets/csv/default-bfe08148769efe88/0.0.0/433e0ccc46f9880962cc2b12065189766fbb2bee57a221866138fb9203c83519. Subsequent calls will reuse this data.\n"
     ]
    },
    {
     "name": "stderr",
     "output_type": "stream",
     "text": [
      "/opt/conda/lib/python3.10/site-packages/datasets/packaged_modules/csv/csv.py:154: FutureWarning: the 'mangle_dupe_cols' keyword is deprecated and will be removed in a future version. Please take steps to stop the use of 'mangle_dupe_cols'\n",
      "  csv_file_reader = pd.read_csv(file, iterator=True, dtype=dtype, **self.config.read_csv_kwargs)\n"
     ]
    },
    {
     "data": {
      "application/vnd.jupyter.widget-view+json": {
       "model_id": "fab2b098966b4f5eaef71870d5193ed8",
       "version_major": 2,
       "version_minor": 0
      },
      "text/plain": [
       "  0%|          | 0/1 [00:00<?, ?it/s]"
      ]
     },
     "metadata": {},
     "output_type": "display_data"
    }
   ],
   "source": [
    "from datasets import load_dataset\n",
    "import datasets\n",
    "\n",
    "dataset_file_train = '/kaggle/working/train_data.csv'\n",
    "dataset_file_valid = '/kaggle/working/validation_data.csv'\n",
    "data_file_test = '/kaggle/working/test_data.csv'\n",
    "\n",
    "train_data = load_dataset('csv', data_files=dataset_file_train)\n",
    "val_data = load_dataset('csv', data_files=dataset_file_valid)\n",
    "test_data = load_dataset('csv', data_files=data_file_test)\n"
   ]
  },
  {
   "cell_type": "code",
   "execution_count": 12,
   "metadata": {
    "execution": {
     "iopub.execute_input": "2023-07-29T19:23:40.276670Z",
     "iopub.status.busy": "2023-07-29T19:23:40.276054Z",
     "iopub.status.idle": "2023-07-29T19:23:40.282267Z",
     "shell.execute_reply": "2023-07-29T19:23:40.281188Z",
     "shell.execute_reply.started": "2023-07-29T19:23:40.276633Z"
    }
   },
   "outputs": [
    {
     "name": "stdout",
     "output_type": "stream",
     "text": [
      "DatasetDict({\n",
      "    train: Dataset({\n",
      "        features: ['text', 'spoiler'],\n",
      "        num_rows: 3200\n",
      "    })\n",
      "})\n",
      "DatasetDict({\n",
      "    train: Dataset({\n",
      "        features: ['text', 'spoiler'],\n",
      "        num_rows: 400\n",
      "    })\n",
      "})\n",
      "DatasetDict({\n",
      "    train: Dataset({\n",
      "        features: ['id', 'text'],\n",
      "        num_rows: 400\n",
      "    })\n",
      "})\n"
     ]
    }
   ],
   "source": [
    "print(train_data)\n",
    "print(val_data)\n",
    "print(test_data)"
   ]
  },
  {
   "cell_type": "code",
   "execution_count": 13,
   "metadata": {
    "execution": {
     "iopub.execute_input": "2023-07-29T19:23:40.284511Z",
     "iopub.status.busy": "2023-07-29T19:23:40.283835Z",
     "iopub.status.idle": "2023-07-29T19:23:40.320794Z",
     "shell.execute_reply": "2023-07-29T19:23:40.319675Z",
     "shell.execute_reply.started": "2023-07-29T19:23:40.284475Z"
    }
   },
   "outputs": [
    {
     "data": {
      "text/plain": [
       "{'text': 'Wes Welker Wanted Dinner With Tom Brady, But Patriots QB Had Better Idea  Wes Welker Wanted Dinner With Tom Brady, But Patriots QB Had A Better IdeaIt’ll be just like old times this weekend for Tom Brady and Wes Welker Welker revealed Friday morning on a Miami radio station that he contacted Brady because he’ll be in town for Sunday’s game between the New England Patriots and Miami Dolphins at Gillette Stadium It seemed like a perfect opportunity for the two to catch up But Brady’s definition of catching up involves far more than just a meal In fact, it involves some literal catching as the Patriots quarterback looks to stay sharp during his fourgame Deflategate suspension I hit him up to do dinner Saturday night He’s like, ‘I’m going to be flying in from Ann Arbor later after the MichiganColorado football game, but how about that morning we go throw?’  Welker said on WQAM, per The Boston Globe And I’m just sitting there, I’m like, ‘I was just thinking about dinner, but yeah, sure I’ll get over there early and we can throw a little bit’  Welker was one of Brady’s favorite targets for six seasons from 2007 to 2012 It’s understandable him and Brady want to meet with both being in the same area But Brady typically is all business during football season Welker probably should have known what he was getting into when reaching out to his buddy That’s the only thing we really have planned, Welker said of his upcoming workout with Brady It’s just funny I’m sitting there trying to have dinner ‘Hey, get your ass up here and let’s go throw’ I’m like, ‘Aw jeez, man’ He’s going to have me running like 2minute drills in his backyard or something Maybe Brady will put a good word in for Welker down in Foxboro if the former Patriots wide receiver impresses him enough',\n",
       " 'spoiler': 'how about that morning we go throw?'}"
      ]
     },
     "execution_count": 13,
     "metadata": {},
     "output_type": "execute_result"
    }
   ],
   "source": [
    "train_data[\"train\"][0]"
   ]
  },
  {
   "cell_type": "code",
   "execution_count": 14,
   "metadata": {
    "execution": {
     "iopub.execute_input": "2023-07-29T19:23:40.323163Z",
     "iopub.status.busy": "2023-07-29T19:23:40.322802Z",
     "iopub.status.idle": "2023-07-29T19:23:40.333465Z",
     "shell.execute_reply": "2023-07-29T19:23:40.332362Z",
     "shell.execute_reply.started": "2023-07-29T19:23:40.323130Z"
    }
   },
   "outputs": [],
   "source": [
    "import random\n",
    "import pandas as pd\n",
    "from IPython.display import display, HTML\n",
    "\n",
    "def show_random_elements(dataset, num_examples=5):\n",
    "    assert num_examples <= len(dataset), \"Can't pick more elements than there are in the dataset.\"\n",
    "    picks = []\n",
    "    for _ in range(num_examples):\n",
    "        pick = random.randint(0, len(dataset)-1)\n",
    "        while pick in picks:\n",
    "            pick = random.randint(0, len(dataset)-1)\n",
    "        picks.append(pick)\n",
    "    \n",
    "    df = pd.DataFrame(dataset[picks])\n",
    "    for column, typ in dataset.features.items():\n",
    "        if isinstance(typ, datasets.ClassLabel):\n",
    "            df[column] = df[column].transform(lambda i: typ.names[i])\n",
    "    display(HTML(df.to_html()))"
   ]
  },
  {
   "cell_type": "code",
   "execution_count": 15,
   "metadata": {
    "execution": {
     "iopub.execute_input": "2023-07-29T19:23:40.335747Z",
     "iopub.status.busy": "2023-07-29T19:23:40.335309Z",
     "iopub.status.idle": "2023-07-29T19:23:40.358723Z",
     "shell.execute_reply": "2023-07-29T19:23:40.357421Z",
     "shell.execute_reply.started": "2023-07-29T19:23:40.335713Z"
    }
   },
   "outputs": [
    {
     "data": {
      "text/html": [
       "<table border=\"1\" class=\"dataframe\">\n",
       "  <thead>\n",
       "    <tr style=\"text-align: right;\">\n",
       "      <th></th>\n",
       "      <th>text</th>\n",
       "      <th>spoiler</th>\n",
       "    </tr>\n",
       "  </thead>\n",
       "  <tbody>\n",
       "    <tr>\n",
       "      <th>0</th>\n",
       "      <td>No One Will Believe Wayne Rooney's Latest Statistic  No One Will Believe Wayne Rooney's Latest StatisticTheSPORTbible httpwwwthesportbiblecom httpwwwthesportbiblecomassetsimagesthemelogosvg 1 day ago 33K Shares Featured Image credit PA It may have been a pretty dire season for Wayne Rooney, so far, with the Manchester United and England captain being dropped to the bench by club and country, but somehow the United number 10 has proven himself to be twice the player Arsenal playmaker Mesut Ozil is Sort of In laying on Zlatan Ibrahimovic's first goal against Swansea, this afternoon, Rooney registered his fourth assist of the season, which is double the amount Mesut Ozil currently has to his name for the current campaign Ozil has made a name for himself with his ability to assist his Arsenal teammates, claiming his second of the season during the North London derby, today However, Rooney deserves a fair amount of credit for being far from his best and still chipping in with a few assists during what has been a difficult season for Jose Mourinho's team Rooney now has 100 Premier League assists to his name, with only Frank Lampard and Rooney's former United teammate Ryan Giggs ahead of him in the all time leader's list 100 UP Wayne Rooney moves onto 100 assists in the Premier League Only Ryan Giggs 162  Frank Lampard 102 have more PL pictwittercomRWo6mhEBtX  Premier League premierleague November 6, 2016 This season, Rooney has has four assists in the league against Southampton, Hull and two v Swansea while Arsenal's Mesut Ozil has two EPL assists this season against Sunderland and Tottenham, As you can imagine, Twitter had something to say on the matter Wayne Rooney our worst player has more assists than 'world class' mesut ozil Makes you think  Nitish Bassi Nitishbassi November 6, 2016 Wayne Rooney  507 mins played 4 assists Ozil  800 mins played 1 assist MUFC  Vinny VK DatBoyVinny November 6, 2016 Rooney has more assists than ozil this season, look lads tears in my eyes  Nik ffsmemphis November 6, 2016 Rooney having a stinker of a season yet has more assists than ozil who's in the form of his life  King Of Torts _ikaka November 6, 2016 HT 101 Great Goals</td>\n",
       "      <td>Wayne Rooney our worst player has more assists than 'world class' mesut ozil</td>\n",
       "    </tr>\n",
       "    <tr>\n",
       "      <th>1</th>\n",
       "      <td>Stephen Hawking Has Some Beautiful Advice For People Who Suffer From Depression  Stephen Hawking Has Some Beautiful Advice For People Who Suffer From DepressionWorldrenowned scientist Stephen Hawking is known for providing us with complex yet invaluable insights into space, time, and the nittygritty of theoretical physics However, in a recent talk, the iconic physicist applied his brilliant mind to a more emotional matter Hawking gave a poignant message to people suffering from depression, making a poetic comparison between depression and a black hole – no matter how dark they seem, neither are impossible to escape Hawking said The message of this lecture is that black holes ain't as black as they are painted They are not the eternal prisons they were once thought Things can get out of a black hole both on the outside and possibly to another universe So if you feel you are in a black hole, don't give up – there's a way out He gave the speech in front of a crowd of over 400 people on Thursday evening, January 7, as part of the Reith lecture at the Royal Institute in London The lecture was scheduled for November last year, but had to be postponed due to Hawking’s poor health Hawking, who turned 74 the day after the lecture, has lived with motor neuron disease for almost 53 years – despite being told he had just two years to live when diagnosed in 1963 Speaking to the same audience, his daughter Lucy noted Hawking’s incredible mental fitness – both intellectually and emotionally He has a very enviable wish to keep going and the ability to summon all his reserves, all his energy, all his mental focus and press them all into that goal of keeping going, she said But not just to keep going for the purposes of survival but to transcend this by producing extraordinary work – writing books, giving lectures, inspiring other people with neurodegenerative and other disabilities For those lucky enough to have access to BBC Radio 4 , you’ll be able to listen to the full lecture through two broadcasts on January 26 and February 2 at 9 am Main image credit NASA HQ PHOTOFlickr CC BYNCND 20</td>\n",
       "      <td>Things can get out of a black hole both on the outside and possibly to another universe So if you feel you are in a black hole, don't give up – there's a way out</td>\n",
       "    </tr>\n",
       "    <tr>\n",
       "      <th>2</th>\n",
       "      <td>How to drive a sixton potato without causing a fivecar mashup  How To Drive A SixTon Potato Without Causing A FiveCar MashupDo you wish your job offered more opportunities to travel, but also had more to do with a giant potato? Maybe a job driving the Big Idaho Potato Truck is the career you’ve been looking for The promotional vehicle, which consists of a semi cab hauling a 12foottall replica potato, travels around the United States to draw attention to the prize spuds of Idaho Operated by the Idaho Potato Commission, the truck is currently on its fifth annual tour of the country Funding concerns mean this could be the last year, but a recent, unexpected endorsement from Kobe Bryant—he namedropped the truck in an ESPN interview—may have helped secure its future To find out what life on the road with the Big Potato is really like we spoke with Larry Bathe, who is not only the current driver of the trailer, but has been with the project since the very beginning The Big Idaho Potato Truck first hit the road in 2012, as a promotional tour commemorating the 75th anniversary of the Idaho Potato Commission As Bathe told us, the idea for the truck came from Linda Kaufman of marketing company Foerstel Design, who was inspired by an old novelty postcard that showed an impossibly massive potato on the back of a flatbed Bathe, a lifelong truck driver, was brought in to help figure out exactly how to create and pilot a giant potato around the country Originally, the huge tater was set to be 16 feet tall, and hold a museum inside, but at that scale it wouldn’t have fit under most bridges The potato creators scaled the tater back to its current 12foottall size, and began to test drive it, which is when Bathe first took the wheel The truck did its first ninemonth tour in 2012, mostly visiting grocery stores to hand out information on Idaho spuds That was supposed to be the extent of its service celebrating the Potato Commission’s anniversary, but the vehicle proved so popular that it was allowed to hit the road again in 2013 More and more venues began requesting that the truck make an appearance, from Nascar events to the Kentucky Derby After the Big Idaho Potato Truck’s second tour it had gained so much notice that the program was given a threeyear contract, 2016 being its final guaranteed year Some people love it in the commission, and some people don’t, or at least they act like they don’t, says Bathe But in the end we win them over pretty easily Despite yearly funding worries, the Big Idaho Potato Truck continues chugging along Having turned down the first two tours to be with his family, Bathe returned to the truck tour in 2014 He has driven the potato every year since According to Bathe, driving around with the heavy carb load is both challenging and rewarding The potato is 12 feet wide and 28 feet long, making it nearly impossible to see what’s directly behind it It’s difficult for mirrors to see behind it, so I don’t have an idea of the traffic pattern behind the truck, says Bathe Turning the huge tater is also a challenge, that Bathe nearly always has to navigate by instinct and experience But the driver of the Big Idaho Potato Truck is not alone There are also two other ambassadors on board who look after the logistics of the tour In addition to the responsibility to interact with the public that each of the potato team shares, one of the ambassadors takes care of photography, video, and other documentation, while the other looks after social media and managing the venues and locations It takes a team to drive a sixton potato All three of the team ride in the cab while they are on the road, but the Big Potato itself isn’t empty You can’t have something that can’t be inspected inside, be as big as that potato, says Bathe To allow for this, there is a door in the potato that leads to the hollow insides which have been fitted with shelves and lockers for the potato team to store their stuff Even with the close quarters and the challenges of driving a giant potato around, Bathe loves his gig The amount of people that wave at you every day when you’re driving the Big Idaho Potato is just outrageous, he says I get thumbs up, waves, people taking pictures It’s just a feelgood job Since each year could possibly be the last for the truck, its overseers have ended up filling the positions last minute But Bathe hopes that this will change as the popularity of the Big Potato Truck grows, along with its crew Oscar Mayer’s promotional, gianthotdogshaped Wienermobile is 80 years old, Bathe points out The Big Potato is just five years old It’s just getting going</td>\n",
       "      <td>by instinct and experience</td>\n",
       "    </tr>\n",
       "    <tr>\n",
       "      <th>3</th>\n",
       "      <td>Jim Harbaugh pissed himself waiting to meet a baseball player  Jim Harbaugh Once Pissed Himself To Get A Picture With A BallplayerTim Kawakami sat down with Jim Harbaugh to talk about his love for baseball and two stories immediately stick out First, he says he pissed himself as a fiveyearold waiting for a chance to meet and get a picture with the Cleveland Indians first baseman after a game Harbaugh also says there is a picture of him wearing the piss pants, which the world absolutely needs Second, he is a straightup lunatic about foul balls Let's deal with the incontinence first Harbaugh and his brother John, who he says was seven at the time, went down to the field level at the old Municipal Stadium after the game to try to meet a baseball player Then nature called And there was–I think it was a first baseman named McGraw note can't find a player named McGraw on the late1960s Indians, but the blurriness is understandable he was 5 Might've been a third baseman Anyway, I know we entered the field from the firstbase side, just to get a picture with him Just to get a Polaroid picture And I had to go to the bathroom really bad So I had to make a decision Me and my brother were like 20 people from actually being able to go on to the field and take a picture with the player right by the firstbase bag And it was either go to the bathroom and not get a picture, or do it right there in my pants So I chose to go in my pants and my parents have this picture of a big ring right here points to an obvious place on the front of his pants  I've got to get my parents to see if they can get that picture I've seen it through the years I'm the only one that really notices the visible dampness–there it is The visible dampness Shudders Don't be distracted by the pee anecdote and miss out on Jim Harbaugh, Foul Ball Nut, though He loves getting foul balls at games and is deadly serious about what actually counts as a foul ball There exist in the world 20 Official Jim Harbaugh foul balls stashed away, and who knows how many other lesser balls Q Those cameras caught you in Arizona with your glove just dying to get a foul ball Just seems like you were thinking the whole game, I've got to get a ball' HARBAUGH Yeah, I was very disappointed I didn't get a ball That's just every time I've ever gone to a baseball game, that's my main focus Going and getting a ball Q You must've gotten one or two in your life HARBAUGH Oh yeah, I've got 20 Got my 20th at a Giants game a year or two ago Q Foul ball? HARBAUGH Yeah, I don't count those other ones It's got to be in play, during a game, not batting practice Not the kind where the third baseman runs off and tosses it into the stands Legit Q Not from the ball girl HARBAUGH No, that is not counted That is not counted at all Tim, have you lost your mind? That is not counted at all At all Also not counted? College foul balls Harbaugh has some from his time at Stanford, but they don't count For a foul ball to count towards the Harbaugh 20, it's got to be a major league, nonbatting practice, ingame used foul ball Not some trash from the ball girl We're trying to live in a world with rules, here</td>\n",
       "      <td>Cleveland Indians first baseman</td>\n",
       "    </tr>\n",
       "    <tr>\n",
       "      <th>4</th>\n",
       "      <td>Teenage actress Abigail Breslin reportedly has a much older boyfriend  Abigail Breslin Dating All Time Low Member Jack Barakat REPORTBoy, do they grow up fast Former Little Miss Sunshine star Abigail Breslin reportedly has an older boyfriend According to Us Weekly, Breslin, 17, is dating All Time Low guitarist and backing vocalist, Jack Barakat, 25 He joined her at the premiere party for her new movie, Ender's Game, on Oct 28 in Los Angeles The couple has been keeping a low profile, according to Us Weekly's source, though the musician recently visited the actress on the set of her upcoming movie, Maggie The fact that the pair is keeping the relationship quiet might have something to do with their age difference, although Breslin does turn 18 this coming April According to the magazine, the pair met at one of the musician's shows in April 2013, although it's unclear as to when the relationship began Barakat previously dated Playboy model and Girls Next Door star Holly Madison for 10 months after meeting on Twitter in 2010 While we weren't aware that Breslin had been romantically involved with anyone in the past, her Twitter account says otherwise and makes us wonder who else in Hollywood Breslin has dated</td>\n",
       "      <td>Jack Barakat, 25</td>\n",
       "    </tr>\n",
       "  </tbody>\n",
       "</table>"
      ],
      "text/plain": [
       "<IPython.core.display.HTML object>"
      ]
     },
     "metadata": {},
     "output_type": "display_data"
    }
   ],
   "source": [
    "show_random_elements(train_data[\"train\"])"
   ]
  },
  {
   "cell_type": "code",
   "execution_count": 16,
   "metadata": {
    "execution": {
     "iopub.execute_input": "2023-07-29T19:23:40.361178Z",
     "iopub.status.busy": "2023-07-29T19:23:40.360650Z",
     "iopub.status.idle": "2023-07-29T19:23:56.652916Z",
     "shell.execute_reply": "2023-07-29T19:23:56.651841Z",
     "shell.execute_reply.started": "2023-07-29T19:23:40.361137Z"
    }
   },
   "outputs": [
    {
     "name": "stdout",
     "output_type": "stream",
     "text": [
      "Requirement already satisfied: nltk in /opt/conda/lib/python3.10/site-packages (3.2.4)\n",
      "Collecting nltk\n",
      "  Downloading nltk-3.8.1-py3-none-any.whl (1.5 MB)\n",
      "\u001b[2K     \u001b[90m━━━━━━━━━━━━━━━━━━━━━━━━━━━━━━━━━━━━━━━━\u001b[0m \u001b[32m1.5/1.5 MB\u001b[0m \u001b[31m15.1 MB/s\u001b[0m eta \u001b[36m0:00:00\u001b[0ma \u001b[36m0:00:01\u001b[0m\n",
      "\u001b[?25hRequirement already satisfied: click in /opt/conda/lib/python3.10/site-packages (from nltk) (8.1.3)\n",
      "Requirement already satisfied: joblib in /opt/conda/lib/python3.10/site-packages (from nltk) (1.2.0)\n",
      "Requirement already satisfied: regex>=2021.8.3 in /opt/conda/lib/python3.10/site-packages (from nltk) (2023.6.3)\n",
      "Requirement already satisfied: tqdm in /opt/conda/lib/python3.10/site-packages (from nltk) (4.65.0)\n",
      "Installing collected packages: nltk\n",
      "  Attempting uninstall: nltk\n",
      "    Found existing installation: nltk 3.2.4\n",
      "    Uninstalling nltk-3.2.4:\n",
      "      Successfully uninstalled nltk-3.2.4\n",
      "\u001b[31mERROR: pip's dependency resolver does not currently take into account all the packages that are installed. This behaviour is the source of the following dependency conflicts.\n",
      "preprocessing 0.1.13 requires nltk==3.2.4, but you have nltk 3.8.1 which is incompatible.\u001b[0m\u001b[31m\n",
      "\u001b[0mSuccessfully installed nltk-3.8.1\n"
     ]
    },
    {
     "data": {
      "application/vnd.jupyter.widget-view+json": {
       "model_id": "60dc165b7c144895a394b2e6fb51bfbe",
       "version_major": 2,
       "version_minor": 0
      },
      "text/plain": [
       "Downloading builder script:   0%|          | 0.00/2.16k [00:00<?, ?B/s]"
      ]
     },
     "metadata": {},
     "output_type": "display_data"
    },
    {
     "data": {
      "application/vnd.jupyter.widget-view+json": {
       "model_id": "c04edc9b8cd4414c8965d2cfaff944bd",
       "version_major": 2,
       "version_minor": 0
      },
      "text/plain": [
       "Downloading builder script:   0%|          | 0.00/2.20k [00:00<?, ?B/s]"
      ]
     },
     "metadata": {},
     "output_type": "display_data"
    },
    {
     "name": "stderr",
     "output_type": "stream",
     "text": [
      "[nltk_data] Downloading package wordnet to /usr/share/nltk_data...\n",
      "[nltk_data]   Package wordnet is already up-to-date!\n",
      "[nltk_data] Downloading package punkt to /usr/share/nltk_data...\n",
      "[nltk_data]   Package punkt is already up-to-date!\n",
      "[nltk_data] Downloading package omw-1.4 to /usr/share/nltk_data...\n"
     ]
    }
   ],
   "source": [
    "from datasets import load_metric\n",
    "!pip install -U nltk\n",
    "metric = load_metric(\"rouge\")\n",
    "metric_meteor = load_metric(\"meteor\")"
   ]
  },
  {
   "cell_type": "code",
   "execution_count": 17,
   "metadata": {
    "execution": {
     "iopub.execute_input": "2023-07-29T19:23:56.655179Z",
     "iopub.status.busy": "2023-07-29T19:23:56.654793Z",
     "iopub.status.idle": "2023-07-29T19:23:56.930906Z",
     "shell.execute_reply": "2023-07-29T19:23:56.929681Z",
     "shell.execute_reply.started": "2023-07-29T19:23:56.655141Z"
    }
   },
   "outputs": [
    {
     "name": "stdout",
     "output_type": "stream",
     "text": [
      "{'rouge1': AggregateScore(low=Score(precision=1.0, recall=1.0, fmeasure=1.0), mid=Score(precision=1.0, recall=1.0, fmeasure=1.0), high=Score(precision=1.0, recall=1.0, fmeasure=1.0)), 'rouge2': AggregateScore(low=Score(precision=1.0, recall=1.0, fmeasure=1.0), mid=Score(precision=1.0, recall=1.0, fmeasure=1.0), high=Score(precision=1.0, recall=1.0, fmeasure=1.0)), 'rougeL': AggregateScore(low=Score(precision=1.0, recall=1.0, fmeasure=1.0), mid=Score(precision=1.0, recall=1.0, fmeasure=1.0), high=Score(precision=1.0, recall=1.0, fmeasure=1.0)), 'rougeLsum': AggregateScore(low=Score(precision=1.0, recall=1.0, fmeasure=1.0), mid=Score(precision=1.0, recall=1.0, fmeasure=1.0), high=Score(precision=1.0, recall=1.0, fmeasure=1.0))}\n",
      "{'meteor': 0.9375}\n"
     ]
    }
   ],
   "source": [
    "fake_preds = [\"hello there\", \"general kenobi\"]\n",
    "fake_labels = [\"hello there\", \"general kenobi\"]\n",
    "print(metric.compute(predictions=fake_preds, references=fake_labels))\n",
    "print(metric_meteor.compute(predictions=fake_preds, references=fake_labels))"
   ]
  },
  {
   "cell_type": "code",
   "execution_count": 18,
   "metadata": {
    "execution": {
     "iopub.execute_input": "2023-07-29T19:23:56.933152Z",
     "iopub.status.busy": "2023-07-29T19:23:56.932732Z",
     "iopub.status.idle": "2023-07-29T19:23:58.405602Z",
     "shell.execute_reply": "2023-07-29T19:23:58.404580Z",
     "shell.execute_reply.started": "2023-07-29T19:23:56.933112Z"
    }
   },
   "outputs": [
    {
     "data": {
      "application/vnd.jupyter.widget-view+json": {
       "model_id": "4361cffe0e03474fa29c633fc508398a",
       "version_major": 2,
       "version_minor": 0
      },
      "text/plain": [
       "Downloading (…)okenizer_config.json:   0%|          | 0.00/2.02k [00:00<?, ?B/s]"
      ]
     },
     "metadata": {},
     "output_type": "display_data"
    },
    {
     "data": {
      "application/vnd.jupyter.widget-view+json": {
       "model_id": "b4e457459789445a84cf14dac06dbfd5",
       "version_major": 2,
       "version_minor": 0
      },
      "text/plain": [
       "Downloading spiece.model:   0%|          | 0.00/1.91M [00:00<?, ?B/s]"
      ]
     },
     "metadata": {},
     "output_type": "display_data"
    },
    {
     "data": {
      "application/vnd.jupyter.widget-view+json": {
       "model_id": "1ee2afacafa84d07ada805a0acc2ef4d",
       "version_major": 2,
       "version_minor": 0
      },
      "text/plain": [
       "Downloading (…)/main/tokenizer.json:   0%|          | 0.00/6.60M [00:00<?, ?B/s]"
      ]
     },
     "metadata": {},
     "output_type": "display_data"
    },
    {
     "data": {
      "application/vnd.jupyter.widget-view+json": {
       "model_id": "d220ca1dfda24bd6bcddd31ceacbb5eb",
       "version_major": 2,
       "version_minor": 0
      },
      "text/plain": [
       "Downloading (…)cial_tokens_map.json:   0%|          | 0.00/1.77k [00:00<?, ?B/s]"
      ]
     },
     "metadata": {},
     "output_type": "display_data"
    }
   ],
   "source": [
    "from transformers import AutoTokenizer\n",
    "    \n",
    "tokenizer = AutoTokenizer.from_pretrained(model_checkpoint)"
   ]
  },
  {
   "cell_type": "code",
   "execution_count": 19,
   "metadata": {
    "execution": {
     "iopub.execute_input": "2023-07-29T19:23:58.407461Z",
     "iopub.status.busy": "2023-07-29T19:23:58.407085Z",
     "iopub.status.idle": "2023-07-29T19:23:58.420608Z",
     "shell.execute_reply": "2023-07-29T19:23:58.419597Z",
     "shell.execute_reply.started": "2023-07-29T19:23:58.407426Z"
    }
   },
   "outputs": [
    {
     "data": {
      "text/plain": [
       "{'input_ids': [8087, 108, 136, 156, 5577, 147, 1], 'attention_mask': [1, 1, 1, 1, 1, 1, 1]}"
      ]
     },
     "execution_count": 19,
     "metadata": {},
     "output_type": "execute_result"
    }
   ],
   "source": [
    "tokenizer(\"Hello, this one sentence!\")"
   ]
  },
  {
   "cell_type": "code",
   "execution_count": 20,
   "metadata": {
    "execution": {
     "iopub.execute_input": "2023-07-29T19:23:58.422831Z",
     "iopub.status.busy": "2023-07-29T19:23:58.422110Z",
     "iopub.status.idle": "2023-07-29T19:23:58.431243Z",
     "shell.execute_reply": "2023-07-29T19:23:58.430409Z",
     "shell.execute_reply.started": "2023-07-29T19:23:58.422797Z"
    }
   },
   "outputs": [
    {
     "data": {
      "text/plain": [
       "{'input_ids': [[8087, 108, 136, 156, 5577, 147, 1], [182, 117, 372, 5577, 107, 1]], 'attention_mask': [[1, 1, 1, 1, 1, 1, 1], [1, 1, 1, 1, 1, 1]]}"
      ]
     },
     "execution_count": 20,
     "metadata": {},
     "output_type": "execute_result"
    }
   ],
   "source": [
    "tokenizer([\"Hello, this one sentence!\", \"This is another sentence.\"])"
   ]
  },
  {
   "cell_type": "code",
   "execution_count": 21,
   "metadata": {
    "execution": {
     "iopub.execute_input": "2023-07-29T19:23:58.433186Z",
     "iopub.status.busy": "2023-07-29T19:23:58.432496Z",
     "iopub.status.idle": "2023-07-29T19:23:58.441370Z",
     "shell.execute_reply": "2023-07-29T19:23:58.440524Z",
     "shell.execute_reply.started": "2023-07-29T19:23:58.433155Z"
    }
   },
   "outputs": [
    {
     "name": "stdout",
     "output_type": "stream",
     "text": [
      "{'input_ids': [[8087, 108, 136, 156, 5577, 147, 1], [182, 117, 372, 5577, 107, 1]], 'attention_mask': [[1, 1, 1, 1, 1, 1, 1], [1, 1, 1, 1, 1, 1]]}\n"
     ]
    }
   ],
   "source": [
    "print(tokenizer(text_target=[\"Hello, this one sentence!\", \"This is another sentence.\"]))"
   ]
  },
  {
   "cell_type": "code",
   "execution_count": 22,
   "metadata": {
    "execution": {
     "iopub.execute_input": "2023-07-29T19:23:58.442990Z",
     "iopub.status.busy": "2023-07-29T19:23:58.442478Z",
     "iopub.status.idle": "2023-07-29T19:23:58.451619Z",
     "shell.execute_reply": "2023-07-29T19:23:58.450456Z",
     "shell.execute_reply.started": "2023-07-29T19:23:58.442957Z"
    }
   },
   "outputs": [],
   "source": [
    "if model_checkpoint in [\"t5-small\", \"t5-base\", \"t5-larg\", \"t5-3b\", \"t5-11b\"]:\n",
    "    prefix = \"summarize: \"\n",
    "else:\n",
    "    prefix = \"\""
   ]
  },
  {
   "cell_type": "code",
   "execution_count": 23,
   "metadata": {
    "execution": {
     "iopub.execute_input": "2023-07-29T19:23:58.453581Z",
     "iopub.status.busy": "2023-07-29T19:23:58.452989Z",
     "iopub.status.idle": "2023-07-29T19:23:58.463647Z",
     "shell.execute_reply": "2023-07-29T19:23:58.462933Z",
     "shell.execute_reply.started": "2023-07-29T19:23:58.453534Z"
    }
   },
   "outputs": [],
   "source": [
    "max_input_length = 1024\n",
    "max_target_length = 128\n",
    "\n",
    "def preprocess_function(examples):\n",
    "    inputs = [prefix + doc for doc in examples[\"text\"]]\n",
    "    model_inputs = tokenizer(inputs, max_length=max_input_length, truncation=True)\n",
    "\n",
    "    # Setup the tokenizer for targets\n",
    "    labels = tokenizer(text_target=examples[\"spoiler\"], max_length=max_target_length, truncation=True)\n",
    "\n",
    "    model_inputs[\"labels\"] = labels[\"input_ids\"]\n",
    "    return model_inputs\n",
    "\n",
    "def preprocess_function_test(examples):\n",
    "    inputs = [prefix + doc for doc in examples[\"text\"]]\n",
    "    model_inputs = tokenizer(inputs, max_length=max_input_length, truncation=True)\n",
    "\n",
    "    return model_inputs"
   ]
  },
  {
   "cell_type": "code",
   "execution_count": 24,
   "metadata": {
    "execution": {
     "iopub.execute_input": "2023-07-29T19:23:58.465741Z",
     "iopub.status.busy": "2023-07-29T19:23:58.464759Z",
     "iopub.status.idle": "2023-07-29T19:23:58.489029Z",
     "shell.execute_reply": "2023-07-29T19:23:58.488142Z",
     "shell.execute_reply.started": "2023-07-29T19:23:58.465707Z"
    }
   },
   "outputs": [
    {
     "data": {
      "text/plain": [
       "{'input_ids': [[184, 116, 1354, 82069, 31163, 11029, 441, 3227, 16139, 108, 343, 15954, 21569, 9371, 6660, 13232, 184, 116, 1354, 82069, 31163, 11029, 441, 3227, 16139, 108, 343, 15954, 21569, 9371, 202, 6660, 13232, 362, 123, 267, 129, 188, 172, 459, 488, 136, 1339, 118, 3227, 16139, 111, 184, 116, 1354, 82069, 1354, 82069, 3264, 1197, 1039, 124, 114, 4977, 2413, 2088, 120, 178, 6668, 16139, 262, 178, 123, 267, 129, 115, 1120, 118, 1342, 123, 116, 389, 317, 109, 351, 2159, 15954, 111, 4977, 30075, 134, 49480, 7060, 168, 2669, 172, 114, 512, 730, 118, 109, 228, 112, 2602, 164, 343, 16139, 123, 116, 3955, 113, 8054, 164, 3576, 571, 154, 197, 188, 114, 2276, 222, 617, 108, 126, 3576, 181, 18645, 8054, 130, 109, 15954, 11730, 978, 112, 753, 4565, 333, 169, 541, 6310, 23397, 13925, 7932, 6558, 125, 1194, 342, 164, 112, 171, 1921, 1327, 565, 285, 123, 116, 172, 108, 402, 187, 123, 208, 313, 112, 129, 4185, 115, 135, 6549, 18818, 678, 244, 109, 3604, 38949, 2418, 389, 108, 155, 199, 160, 120, 1039, 145, 275, 3377, 152, 123, 1354, 82069, 243, 124, 1354, 1885, 7835, 108, 446, 139, 3457, 14407, 325, 125, 123, 208, 188, 2537, 186, 108, 125, 123, 208, 172, 108, 402, 187, 140, 188, 1234, 160, 1921, 108, 155, 10036, 108, 334, 125, 123, 267, 179, 204, 186, 616, 111, 145, 137, 3377, 114, 332, 588, 123, 1354, 82069, 140, 156, 113, 16139, 123, 116, 928, 5128, 118, 1029, 4991, 135, 4001, 112, 2246, 168, 123, 116, 14974, 342, 111, 16139, 245, 112, 670, 122, 302, 270, 115, 109, 310, 345, 343, 16139, 2222, 117, 149, 260, 333, 2418, 578, 1354, 82069, 864, 246, 133, 606, 180, 178, 140, 509, 190, 173, 4379, 165, 112, 169, 13347, 485, 123, 116, 109, 209, 474, 145, 288, 133, 2771, 108, 1354, 82069, 243, 113, 169, 2713, 4877, 122, 16139, 168, 123, 116, 188, 3765, 125, 123, 208, 2537, 186, 847, 112, 133, 1921, 402, 7579, 108, 179, 128, 130, 116, 164, 264, 111, 538, 123, 116, 275, 3377, 123, 125, 123, 208, 172, 108, 402, 42907, 12103, 8128, 108, 729, 123, 285, 123, 116, 313, 112, 133, 213, 850, 172, 280, 4860, 18348, 115, 169, 5869, 132, 364, 3183, 16139, 138, 414, 114, 234, 1172, 115, 118, 1354, 82069, 308, 115, 5122, 22818, 175, 109, 1319, 15954, 827, 8297, 51940, 342, 505, 1], [9172, 2120, 796, 118, 357, 2597, 113, 26795, 3699, 17895, 222, 53010, 17184, 53288, 413, 1819, 3128, 9142, 1060, 110, 81713, 9172, 81713, 117, 11368, 164, 112, 129, 114, 255, 232, 118, 5158, 2774, 485, 131, 116, 173, 9172, 4182, 127, 18972, 109, 3699, 115, 109, 26795, 2865, 382, 1477, 193, 114, 357, 2597, 19027, 1487, 153, 5295, 108, 115, 663, 112, 176, 4469, 108, 115, 114, 2583, 1900, 333, 109, 1450, 655, 72431, 2539, 988, 115, 1212, 3730, 139, 320, 113, 4182, 2304, 1740, 134, 109, 3568, 5349, 113, 109, 26795, 3699, 108, 162, 148, 12148, 115, 302, 628, 111, 3370, 381, 109, 3618, 113, 109, 10153, 16458, 115, 13181, 139, 2158, 9390, 203, 49818, 64262, 1105, 135, 303, 5084, 108, 172, 110, 34988, 1313, 92910, 116, 60328, 116, 108, 120, 1295, 308, 190, 22335, 115, 109, 2909, 2918, 111, 4855, 109, 26795, 2865, 322, 374, 120, 108, 277, 1099, 113, 22335, 115, 109, 2918, 133, 3482, 8408, 130, 114, 711, 113, 109, 6985, 108, 126, 131, 116, 314, 783, 112, 4542, 183, 112, 114, 6338, 26795, 2865, 53010, 4343, 122, 1934, 633, 111, 114, 1599, 916, 713, 113, 26795, 127, 146, 4213, 1812, 113, 2597, 32414, 112, 109, 1214, 22335, 5088, 108, 8423, 26159, 8457, 113, 9172, 131, 116, 48281, 4108, 10715, 900, 3436, 115, 114, 636, 16912, 485, 13183, 117, 172, 847, 112, 630, 180, 131, 116, 1401, 122, 128, 439, 131, 116, 1507, 347, 8021, 109, 8557, 3054, 108, 109, 4182, 697, 109, 205, 909, 26795, 3699, 852, 108, 330, 302, 109, 1368, 3699, 521, 108, 115, 10235, 111, 156, 113, 109, 9211, 4343, 108, 115, 5951, 127, 3654, 640, 112, 1403, 11409, 7213, 133, 109, 986, 112, 696, 26795, 115, 423, 9212, 108, 2448, 10006, 109, 3699, 181, 231, 108, 277, 7315, 112, 2105, 126, 115, 536, 654, 109, 1171, 108, 126, 117, 7213, 111, 4374, 120, 127, 288, 8300, 199, 461, 109, 26795, 3699, 117, 108, 26159, 8457, 898, 109, 6442, 3249, 21126, 1574, 1403, 117, 1214, 112, 129, 109, 36255, 2634, 115, 109, 26795, 3699, 131, 116, 628, 430, 55038, 134, 162, 491, 60328, 116, 138, 133, 3876, 505, 130, 114, 711, 113, 109, 10153, 16458, 112, 460, 11146, 1060, 110, 81713, 108, 802, 108, 109, 26795, 3699, 117, 1214, 112, 133, 266, 114, 357, 2597, 168, 123, 116, 146, 313, 112, 129, 114, 2291, 1978, 108, 26159, 8457, 34964, 109, 2726, 3072, 3421, 353, 138, 129, 181, 18620, 115, 109, 1018, 108, 155, 1380, 109, 3012, 117, 15763, 1]], 'attention_mask': [[1, 1, 1, 1, 1, 1, 1, 1, 1, 1, 1, 1, 1, 1, 1, 1, 1, 1, 1, 1, 1, 1, 1, 1, 1, 1, 1, 1, 1, 1, 1, 1, 1, 1, 1, 1, 1, 1, 1, 1, 1, 1, 1, 1, 1, 1, 1, 1, 1, 1, 1, 1, 1, 1, 1, 1, 1, 1, 1, 1, 1, 1, 1, 1, 1, 1, 1, 1, 1, 1, 1, 1, 1, 1, 1, 1, 1, 1, 1, 1, 1, 1, 1, 1, 1, 1, 1, 1, 1, 1, 1, 1, 1, 1, 1, 1, 1, 1, 1, 1, 1, 1, 1, 1, 1, 1, 1, 1, 1, 1, 1, 1, 1, 1, 1, 1, 1, 1, 1, 1, 1, 1, 1, 1, 1, 1, 1, 1, 1, 1, 1, 1, 1, 1, 1, 1, 1, 1, 1, 1, 1, 1, 1, 1, 1, 1, 1, 1, 1, 1, 1, 1, 1, 1, 1, 1, 1, 1, 1, 1, 1, 1, 1, 1, 1, 1, 1, 1, 1, 1, 1, 1, 1, 1, 1, 1, 1, 1, 1, 1, 1, 1, 1, 1, 1, 1, 1, 1, 1, 1, 1, 1, 1, 1, 1, 1, 1, 1, 1, 1, 1, 1, 1, 1, 1, 1, 1, 1, 1, 1, 1, 1, 1, 1, 1, 1, 1, 1, 1, 1, 1, 1, 1, 1, 1, 1, 1, 1, 1, 1, 1, 1, 1, 1, 1, 1, 1, 1, 1, 1, 1, 1, 1, 1, 1, 1, 1, 1, 1, 1, 1, 1, 1, 1, 1, 1, 1, 1, 1, 1, 1, 1, 1, 1, 1, 1, 1, 1, 1, 1, 1, 1, 1, 1, 1, 1, 1, 1, 1, 1, 1, 1, 1, 1, 1, 1, 1, 1, 1, 1, 1, 1, 1, 1, 1, 1, 1, 1, 1, 1, 1, 1, 1, 1, 1, 1, 1, 1, 1, 1, 1, 1, 1, 1, 1, 1, 1, 1, 1, 1, 1, 1, 1, 1, 1, 1, 1, 1, 1, 1, 1, 1, 1, 1, 1, 1, 1, 1, 1, 1, 1, 1, 1, 1, 1, 1, 1, 1, 1, 1, 1, 1, 1, 1, 1, 1, 1, 1, 1, 1, 1, 1, 1, 1, 1, 1, 1, 1, 1, 1, 1, 1, 1, 1, 1, 1, 1, 1, 1, 1, 1, 1, 1, 1, 1, 1, 1, 1, 1, 1, 1, 1, 1, 1, 1, 1, 1, 1, 1], [1, 1, 1, 1, 1, 1, 1, 1, 1, 1, 1, 1, 1, 1, 1, 1, 1, 1, 1, 1, 1, 1, 1, 1, 1, 1, 1, 1, 1, 1, 1, 1, 1, 1, 1, 1, 1, 1, 1, 1, 1, 1, 1, 1, 1, 1, 1, 1, 1, 1, 1, 1, 1, 1, 1, 1, 1, 1, 1, 1, 1, 1, 1, 1, 1, 1, 1, 1, 1, 1, 1, 1, 1, 1, 1, 1, 1, 1, 1, 1, 1, 1, 1, 1, 1, 1, 1, 1, 1, 1, 1, 1, 1, 1, 1, 1, 1, 1, 1, 1, 1, 1, 1, 1, 1, 1, 1, 1, 1, 1, 1, 1, 1, 1, 1, 1, 1, 1, 1, 1, 1, 1, 1, 1, 1, 1, 1, 1, 1, 1, 1, 1, 1, 1, 1, 1, 1, 1, 1, 1, 1, 1, 1, 1, 1, 1, 1, 1, 1, 1, 1, 1, 1, 1, 1, 1, 1, 1, 1, 1, 1, 1, 1, 1, 1, 1, 1, 1, 1, 1, 1, 1, 1, 1, 1, 1, 1, 1, 1, 1, 1, 1, 1, 1, 1, 1, 1, 1, 1, 1, 1, 1, 1, 1, 1, 1, 1, 1, 1, 1, 1, 1, 1, 1, 1, 1, 1, 1, 1, 1, 1, 1, 1, 1, 1, 1, 1, 1, 1, 1, 1, 1, 1, 1, 1, 1, 1, 1, 1, 1, 1, 1, 1, 1, 1, 1, 1, 1, 1, 1, 1, 1, 1, 1, 1, 1, 1, 1, 1, 1, 1, 1, 1, 1, 1, 1, 1, 1, 1, 1, 1, 1, 1, 1, 1, 1, 1, 1, 1, 1, 1, 1, 1, 1, 1, 1, 1, 1, 1, 1, 1, 1, 1, 1, 1, 1, 1, 1, 1, 1, 1, 1, 1, 1, 1, 1, 1, 1, 1, 1, 1, 1, 1, 1, 1, 1, 1, 1, 1, 1, 1, 1, 1, 1, 1, 1, 1, 1, 1, 1, 1, 1, 1, 1, 1, 1, 1, 1, 1, 1, 1, 1, 1, 1, 1, 1, 1, 1, 1, 1, 1, 1, 1, 1, 1, 1, 1, 1, 1, 1, 1, 1, 1, 1, 1, 1, 1, 1, 1, 1, 1, 1, 1, 1, 1, 1, 1, 1, 1, 1, 1, 1, 1, 1, 1, 1, 1, 1, 1, 1, 1, 1, 1, 1, 1, 1, 1, 1, 1, 1, 1, 1, 1, 1, 1, 1, 1, 1, 1, 1, 1, 1, 1, 1, 1, 1, 1, 1, 1, 1, 1, 1, 1, 1, 1, 1, 1]], 'labels': [[199, 160, 120, 1039, 145, 275, 3377, 152, 1], [110, 81713, 1]]}"
      ]
     },
     "execution_count": 24,
     "metadata": {},
     "output_type": "execute_result"
    }
   ],
   "source": [
    "# print(preprocess_function(train_data[:1]))\n",
    "# len(preprocess_function(train_data[:1])[0]['input_ids'][0])\n",
    "preprocess_function(train_data['train'][:2])"
   ]
  },
  {
   "cell_type": "code",
   "execution_count": 25,
   "metadata": {
    "execution": {
     "iopub.execute_input": "2023-07-29T19:23:58.492949Z",
     "iopub.status.busy": "2023-07-29T19:23:58.490098Z",
     "iopub.status.idle": "2023-07-29T19:23:58.506676Z",
     "shell.execute_reply": "2023-07-29T19:23:58.505729Z",
     "shell.execute_reply.started": "2023-07-29T19:23:58.492923Z"
    }
   },
   "outputs": [
    {
     "data": {
      "text/plain": [
       "{'input_ids': [[285, 53777, 116, 202, 13825, 654, 139, 3348, 1249, 226, 1883, 463, 131, 116, 651, 139, 6533, 3516, 413, 139, 208, 14139, 13825, 50503, 5938, 434, 1006, 14902, 34265, 116, 285, 1526, 4925, 4522, 202, 35914, 676, 119, 311, 160, 128, 234, 594, 108, 223, 341, 331, 112, 653, 199, 22675, 271, 192, 129, 347, 183, 108, 199, 157, 193, 119, 6021, 111, 3344, 173, 119, 217, 126, 108, 111, 199, 157, 127, 186, 112, 337, 119, 115, 189, 1288, 226, 218, 254, 854, 681, 109, 906, 492, 180, 192, 125, 171, 118, 183, 115, 935, 152, 321, 1202, 1019, 1623, 8747, 62882, 108, 109, 1140, 117, 586, 186, 117, 705, 220, 2516, 112, 180, 178, 192, 171, 118, 169, 594, 412, 108, 173, 169, 13347, 12379, 21691, 1772, 11055, 108, 114, 2412, 1019, 1623, 6400, 134, 33143, 436, 13090, 115, 4287, 9746, 108, 5583, 108, 374, 1847, 115, 217, 113, 114, 8934, 108, 62882, 595, 123, 144, 5493, 112, 258, 165, 175, 178, 256, 6816, 156, 113, 169, 398, 126, 1552, 165, 108, 178, 140, 114, 1311, 285, 1159, 112, 2989, 169, 1151, 122, 109, 234, 990, 108, 111, 368, 167, 115, 109, 205, 2462, 230, 222, 136, 2864, 6201, 108, 62882, 5406, 190, 109, 2241, 241, 21691, 1772, 11055, 659, 285, 148, 16782, 111, 114, 1243, 115, 561, 120, 9263, 108, 41126, 12454, 217, 113, 114, 8934, 108, 245, 2643, 152, 168, 1045, 172, 109, 758, 729, 117, 708, 109, 9337, 6566, 139, 1171, 21691, 1772, 11055, 6659, 342, 108, 178, 32657, 5033, 308, 190, 6920, 285, 137, 6361, 697, 169, 234, 3383, 146, 209, 358, 178, 179, 114, 8934, 108, 155, 178, 2368, 120, 178, 163, 148, 114, 255, 1151, 170, 138, 129, 141, 169, 477, 224, 3517, 111, 3900, 139, 1283, 113, 271, 111, 109, 1283, 113, 7193, 127, 302, 20769, 1], [1807, 119, 34280, 129, 19681, 134, 201, 1807, 119, 34280, 129, 19681, 134, 201, 22844, 536, 138, 756, 112, 1034, 6317, 420, 46013, 33880, 131, 111, 137, 1303, 128, 1010, 284, 131, 216, 329, 270, 3825, 112, 225, 536, 269, 145, 225, 2260, 325, 115, 109, 4333, 2193, 128, 397, 269, 274, 113, 128, 4134, 117, 432, 684, 130, 19681, 5225, 343, 177, 473, 649, 270, 38680, 134, 201, 137, 56603, 14379, 134, 109, 5524, 113, 128, 282, 9680, 5185, 128, 1012, 113, 300, 1704, 924, 222, 142, 974, 118, 139, 7364, 1423, 3465, 108, 37627, 760, 113, 109, 502, 113, 4900, 4609, 108, 982, 5262, 6365, 111, 37627, 2184, 8434, 9119, 40968, 26536, 326, 1697, 109, 1034, 6317, 420, 46013, 33880, 131, 322, 697, 120, 84063, 134, 201, 2326, 112, 25550, 108, 111, 34581, 432, 15987, 109, 200, 119, 2685, 112, 225, 1034, 3595, 361, 2645, 127, 109, 205, 2324, 200, 115, 1636, 108, 157, 123, 216, 163, 134, 109, 2502, 887, 118, 33880, 131, 108, 109, 3802, 2021, 115, 139, 7364, 1423, 3465, 1034, 676, 157, 272, 123, 144, 1480, 1118, 108, 153, 4313, 115, 536, 137, 1007, 183, 112, 393, 42802, 111, 47467, 108, 1251, 893, 115, 153, 201, 1203, 108, 111, 749, 154, 1743, 111, 3775, 134, 238, 131, 108, 157, 243, 222, 153, 767, 35847, 473, 108, 3802, 982, 6365, 111, 1263, 26536, 326, 4525, 114, 499, 113, 1665, 614, 335, 323, 642, 135, 114, 692, 3047, 122, 154, 197, 4087, 2082, 115, 1370, 720, 109, 787, 654, 109, 388, 113, 109, 232, 157, 1049, 183, 574, 160, 153, 1014, 112, 1360, 536, 2310, 2743, 1608, 109, 3802, 112, 7582, 199, 210, 153, 392, 192, 171, 115, 153, 7100, 134, 109, 370, 113, 109, 232, 1063, 117, 114, 2630, 906, 135, 153, 804, 108, 9229, 115, 1423, 20834, 305, 7621, 10707, 326, 416, 2816, 173, 126, 2887, 205, 280, 4925, 115, 114, 230, 120, 117, 115, 128, 282, 820, 111, 23211, 128, 282, 644, 1040, 296, 1414, 131, 144, 129, 4304, 112, 3984, 201, 112, 176, 200, 173, 119, 272, 131, 144, 133, 166, 384, 202, 31276, 11058, 128, 979, 286, 118, 771, 112, 225, 223, 200, 115, 114, 612, 13794, 371, 714, 316, 44282, 3783, 113, 166, 112, 1132, 880, 197, 557, 126, 149, 109, 166, 168, 131, 267, 193, 119, 154, 25642, 111, 957, 530, 11309, 200, 170, 209, 248, 157, 131, 267, 5188, 128, 644, 6531, 7364, 1423, 3465, 9031, 120, 119, 131, 216, 1703, 114, 13754, 755, 108, 111, 119, 131, 261, 19076, 112, 753, 244, 399, 156, 242, 114, 396, 112, 225, 156, 113, 128, 392, 108, 5296, 108, 927, 169, 1301, 113, 13754, 285, 6937, 175, 119, 131, 267, 163, 225, 169, 1151, 10825, 108, 170, 875, 131, 144, 115, 128, 755, 463, 192, 119, 171, 152, 114, 9923, 114, 1910, 244, 6800, 1617, 112, 225, 10825, 108, 167, 119, 137, 340, 630, 169, 819, 397, 3027, 28060, 10825, 112, 2051, 115, 124, 128, 13754, 2551, 122, 5296, 2895, 8132, 5296, 120, 126, 131, 116, 948, 120, 178, 1728, 112, 225, 10825, 108, 155, 178, 288, 397, 112, 777, 124, 169, 282, 201, 115, 385, 112, 2602, 164, 3138, 8132, 5296, 120, 10825, 246, 854, 169, 282, 2118, 118, 225, 33572, 108, 109, 7560, 122, 2082, 170, 5586, 114, 368, 109, 3741, 115, 153, 370, 113, 232, 7100, 139, 2082, 170, 2998, 1118, 111, 195, 478, 38680, 419, 153, 392, 340, 3937, 1034, 18058, 2097, 8429, 12535, 1118, 847, 112, 225, 688, 122, 290, 1320, 131, 108, 109, 3802, 243, 222, 109, 370, 108, 157, 195, 9881, 109, 221, 392, 157, 869, 112, 225, 1089, 209, 115, 1703, 108, 155, 38680, 200, 4512, 205, 115, 26570, 111, 258, 1118, 23671, 115, 6195, 111, 3231, 112, 4462, 153, 282, 1203, 130, 114, 711, 2310, 473, 163, 2375, 200, 170, 1480, 153, 282, 166, 137, 361, 109, 205, 300, 1704, 4332, 2310, 201, 939, 126, 131, 116, 160, 11297, 166, 167, 173, 119, 225, 176, 200, 119, 272, 131, 144, 323, 681, 247, 115, 109, 366, 982, 6365, 111, 1263, 26536, 326, 2599, 120, 119, 217, 112, 1173, 339, 662, 341, 173, 1132, 112, 176, 200, 1034, 5655, 9563, 160, 199, 119, 225, 108, 173, 119, 225, 108, 111, 2901, 119, 225, 131, 566, 156, 137, 129, 293, 149, 109, 166, 112, 225, 176, 200, 1]], 'attention_mask': [[1, 1, 1, 1, 1, 1, 1, 1, 1, 1, 1, 1, 1, 1, 1, 1, 1, 1, 1, 1, 1, 1, 1, 1, 1, 1, 1, 1, 1, 1, 1, 1, 1, 1, 1, 1, 1, 1, 1, 1, 1, 1, 1, 1, 1, 1, 1, 1, 1, 1, 1, 1, 1, 1, 1, 1, 1, 1, 1, 1, 1, 1, 1, 1, 1, 1, 1, 1, 1, 1, 1, 1, 1, 1, 1, 1, 1, 1, 1, 1, 1, 1, 1, 1, 1, 1, 1, 1, 1, 1, 1, 1, 1, 1, 1, 1, 1, 1, 1, 1, 1, 1, 1, 1, 1, 1, 1, 1, 1, 1, 1, 1, 1, 1, 1, 1, 1, 1, 1, 1, 1, 1, 1, 1, 1, 1, 1, 1, 1, 1, 1, 1, 1, 1, 1, 1, 1, 1, 1, 1, 1, 1, 1, 1, 1, 1, 1, 1, 1, 1, 1, 1, 1, 1, 1, 1, 1, 1, 1, 1, 1, 1, 1, 1, 1, 1, 1, 1, 1, 1, 1, 1, 1, 1, 1, 1, 1, 1, 1, 1, 1, 1, 1, 1, 1, 1, 1, 1, 1, 1, 1, 1, 1, 1, 1, 1, 1, 1, 1, 1, 1, 1, 1, 1, 1, 1, 1, 1, 1, 1, 1, 1, 1, 1, 1, 1, 1, 1, 1, 1, 1, 1, 1, 1, 1, 1, 1, 1, 1, 1, 1, 1, 1, 1, 1, 1, 1, 1, 1, 1, 1, 1, 1, 1, 1, 1, 1, 1, 1, 1, 1, 1, 1, 1, 1, 1, 1, 1, 1, 1, 1, 1, 1, 1, 1, 1, 1, 1, 1, 1, 1, 1, 1, 1, 1, 1, 1, 1, 1, 1, 1, 1, 1, 1, 1, 1, 1, 1, 1, 1, 1, 1, 1, 1, 1, 1, 1, 1, 1, 1, 1, 1, 1, 1, 1, 1], [1, 1, 1, 1, 1, 1, 1, 1, 1, 1, 1, 1, 1, 1, 1, 1, 1, 1, 1, 1, 1, 1, 1, 1, 1, 1, 1, 1, 1, 1, 1, 1, 1, 1, 1, 1, 1, 1, 1, 1, 1, 1, 1, 1, 1, 1, 1, 1, 1, 1, 1, 1, 1, 1, 1, 1, 1, 1, 1, 1, 1, 1, 1, 1, 1, 1, 1, 1, 1, 1, 1, 1, 1, 1, 1, 1, 1, 1, 1, 1, 1, 1, 1, 1, 1, 1, 1, 1, 1, 1, 1, 1, 1, 1, 1, 1, 1, 1, 1, 1, 1, 1, 1, 1, 1, 1, 1, 1, 1, 1, 1, 1, 1, 1, 1, 1, 1, 1, 1, 1, 1, 1, 1, 1, 1, 1, 1, 1, 1, 1, 1, 1, 1, 1, 1, 1, 1, 1, 1, 1, 1, 1, 1, 1, 1, 1, 1, 1, 1, 1, 1, 1, 1, 1, 1, 1, 1, 1, 1, 1, 1, 1, 1, 1, 1, 1, 1, 1, 1, 1, 1, 1, 1, 1, 1, 1, 1, 1, 1, 1, 1, 1, 1, 1, 1, 1, 1, 1, 1, 1, 1, 1, 1, 1, 1, 1, 1, 1, 1, 1, 1, 1, 1, 1, 1, 1, 1, 1, 1, 1, 1, 1, 1, 1, 1, 1, 1, 1, 1, 1, 1, 1, 1, 1, 1, 1, 1, 1, 1, 1, 1, 1, 1, 1, 1, 1, 1, 1, 1, 1, 1, 1, 1, 1, 1, 1, 1, 1, 1, 1, 1, 1, 1, 1, 1, 1, 1, 1, 1, 1, 1, 1, 1, 1, 1, 1, 1, 1, 1, 1, 1, 1, 1, 1, 1, 1, 1, 1, 1, 1, 1, 1, 1, 1, 1, 1, 1, 1, 1, 1, 1, 1, 1, 1, 1, 1, 1, 1, 1, 1, 1, 1, 1, 1, 1, 1, 1, 1, 1, 1, 1, 1, 1, 1, 1, 1, 1, 1, 1, 1, 1, 1, 1, 1, 1, 1, 1, 1, 1, 1, 1, 1, 1, 1, 1, 1, 1, 1, 1, 1, 1, 1, 1, 1, 1, 1, 1, 1, 1, 1, 1, 1, 1, 1, 1, 1, 1, 1, 1, 1, 1, 1, 1, 1, 1, 1, 1, 1, 1, 1, 1, 1, 1, 1, 1, 1, 1, 1, 1, 1, 1, 1, 1, 1, 1, 1, 1, 1, 1, 1, 1, 1, 1, 1, 1, 1, 1, 1, 1, 1, 1, 1, 1, 1, 1, 1, 1, 1, 1, 1, 1, 1, 1, 1, 1, 1, 1, 1, 1, 1, 1, 1, 1, 1, 1, 1, 1, 1, 1, 1, 1, 1, 1, 1, 1, 1, 1, 1, 1, 1, 1, 1, 1, 1, 1, 1, 1, 1, 1, 1, 1, 1, 1, 1, 1, 1, 1, 1, 1, 1, 1, 1, 1, 1, 1, 1, 1, 1, 1, 1, 1, 1, 1, 1, 1, 1, 1, 1, 1, 1, 1, 1, 1, 1, 1, 1, 1, 1, 1, 1, 1, 1, 1, 1, 1, 1, 1, 1, 1, 1, 1, 1, 1, 1, 1, 1, 1, 1, 1, 1, 1, 1, 1, 1, 1, 1, 1, 1, 1, 1, 1, 1, 1, 1, 1, 1, 1, 1, 1, 1, 1, 1, 1, 1, 1, 1, 1, 1, 1, 1, 1, 1, 1, 1, 1, 1, 1, 1, 1, 1, 1, 1, 1, 1, 1, 1, 1, 1, 1, 1, 1, 1, 1, 1, 1, 1, 1, 1, 1, 1, 1, 1, 1, 1, 1, 1, 1, 1, 1, 1, 1, 1, 1, 1, 1, 1, 1, 1, 1, 1, 1, 1, 1, 1, 1, 1, 1, 1, 1, 1, 1, 1, 1, 1, 1, 1, 1, 1, 1, 1, 1, 1, 1, 1, 1, 1, 1, 1, 1, 1, 1, 1, 1, 1, 1, 1, 1, 1, 1, 1, 1, 1, 1, 1, 1, 1, 1, 1, 1, 1, 1, 1, 1, 1, 1, 1, 1, 1, 1, 1, 1, 1, 1, 1, 1, 1, 1, 1, 1, 1, 1, 1, 1, 1, 1, 1, 1, 1, 1, 1, 1, 1, 1, 1, 1, 1, 1, 1, 1, 1, 1, 1, 1, 1, 1, 1, 1, 1, 1, 1, 1, 1, 1, 1, 1, 1, 1, 1, 1, 1, 1, 1, 1, 1, 1, 1, 1, 1, 1, 1, 1, 1, 1, 1, 1, 1, 1, 1, 1, 1, 1, 1, 1, 1, 1]]}"
      ]
     },
     "execution_count": 25,
     "metadata": {},
     "output_type": "execute_result"
    }
   ],
   "source": [
    "preprocess_function_test(test_data['train'][:2])"
   ]
  },
  {
   "cell_type": "code",
   "execution_count": 26,
   "metadata": {
    "execution": {
     "iopub.execute_input": "2023-07-29T19:23:58.508220Z",
     "iopub.status.busy": "2023-07-29T19:23:58.507969Z",
     "iopub.status.idle": "2023-07-29T19:23:58.513413Z",
     "shell.execute_reply": "2023-07-29T19:23:58.512445Z",
     "shell.execute_reply.started": "2023-07-29T19:23:58.508192Z"
    }
   },
   "outputs": [],
   "source": [
    "# temp_var = preprocess_function(train_data)"
   ]
  },
  {
   "cell_type": "code",
   "execution_count": 27,
   "metadata": {
    "execution": {
     "iopub.execute_input": "2023-07-29T19:23:58.516049Z",
     "iopub.status.busy": "2023-07-29T19:23:58.515171Z",
     "iopub.status.idle": "2023-07-29T19:24:08.308134Z",
     "shell.execute_reply": "2023-07-29T19:24:08.307054Z",
     "shell.execute_reply.started": "2023-07-29T19:23:58.515995Z"
    }
   },
   "outputs": [
    {
     "name": "stdout",
     "output_type": "stream",
     "text": [
      "<class 'datasets.dataset_dict.DatasetDict'>\n"
     ]
    },
    {
     "data": {
      "application/vnd.jupyter.widget-view+json": {
       "model_id": "6d7ae3c753b6422a82449d413c862f2f",
       "version_major": 2,
       "version_minor": 0
      },
      "text/plain": [
       "  0%|          | 0/4 [00:00<?, ?ba/s]"
      ]
     },
     "metadata": {},
     "output_type": "display_data"
    },
    {
     "data": {
      "application/vnd.jupyter.widget-view+json": {
       "model_id": "722e8f08588d4510a6ac458b73457318",
       "version_major": 2,
       "version_minor": 0
      },
      "text/plain": [
       "  0%|          | 0/1 [00:00<?, ?ba/s]"
      ]
     },
     "metadata": {},
     "output_type": "display_data"
    },
    {
     "data": {
      "application/vnd.jupyter.widget-view+json": {
       "model_id": "1d0bea32d1584b2392036004df0fb427",
       "version_major": 2,
       "version_minor": 0
      },
      "text/plain": [
       "  0%|          | 0/1 [00:00<?, ?ba/s]"
      ]
     },
     "metadata": {},
     "output_type": "display_data"
    }
   ],
   "source": [
    "print(type(train_data))\n",
    "\n",
    "\n",
    "# train_data_tokenized = preprocess_function(train_data)\n",
    "# test_data_tokenized = preprocess_function_test(test_data)\n",
    "# validation_data_tokenized = preprocess_function(validation_data)\n",
    "\n",
    "train_datasets = train_data.map(preprocess_function, batched=True)\n",
    "validation_datasets = val_data.map(preprocess_function, batched=True)\n",
    "test_datasets = test_data.map(preprocess_function_test, batched=True)"
   ]
  },
  {
   "cell_type": "code",
   "execution_count": 28,
   "metadata": {
    "execution": {
     "iopub.execute_input": "2023-07-29T19:24:08.315179Z",
     "iopub.status.busy": "2023-07-29T19:24:08.314851Z",
     "iopub.status.idle": "2023-07-29T19:24:08.319579Z",
     "shell.execute_reply": "2023-07-29T19:24:08.318454Z",
     "shell.execute_reply.started": "2023-07-29T19:24:08.315152Z"
    }
   },
   "outputs": [],
   "source": [
    "# validation_data_tokenized"
   ]
  },
  {
   "cell_type": "code",
   "execution_count": 29,
   "metadata": {
    "execution": {
     "iopub.execute_input": "2023-07-29T19:24:08.321997Z",
     "iopub.status.busy": "2023-07-29T19:24:08.321312Z",
     "iopub.status.idle": "2023-07-29T19:24:08.377506Z",
     "shell.execute_reply": "2023-07-29T19:24:08.376448Z",
     "shell.execute_reply.started": "2023-07-29T19:24:08.321959Z"
    }
   },
   "outputs": [],
   "source": [
    "# from datasets import Dataset, DatasetDict\n",
    "# # train_data_tokenized = train_data_tokenized\n",
    "# # validation_data_tokenized = validation_data_tokenized\n",
    "# # test_data_tokenized = test_data_tokenized\n",
    "\n",
    "# # Creating the DatasetDict\n",
    "# train_dataset_dict = DatasetDict({\n",
    "#     'train': train_data_tokenized\n",
    "# })\n",
    "\n",
    "# validation_dataset_dict = DatasetDict({\n",
    "#     'validation': validation_data_tokenized\n",
    "# })\n",
    "\n",
    "# # Printing the dataset_dict\n",
    "# # print(dataset_dict['train'])"
   ]
  },
  {
   "cell_type": "code",
   "execution_count": 30,
   "metadata": {
    "execution": {
     "iopub.execute_input": "2023-07-29T19:24:08.379600Z",
     "iopub.status.busy": "2023-07-29T19:24:08.379172Z",
     "iopub.status.idle": "2023-07-29T19:24:08.390557Z",
     "shell.execute_reply": "2023-07-29T19:24:08.389510Z",
     "shell.execute_reply.started": "2023-07-29T19:24:08.379566Z"
    }
   },
   "outputs": [],
   "source": [
    "# print(validation_dataset_dict['validation'])"
   ]
  },
  {
   "cell_type": "code",
   "execution_count": 31,
   "metadata": {
    "execution": {
     "iopub.execute_input": "2023-07-29T19:24:08.391989Z",
     "iopub.status.busy": "2023-07-29T19:24:08.391732Z",
     "iopub.status.idle": "2023-07-29T19:24:24.482419Z",
     "shell.execute_reply": "2023-07-29T19:24:24.481442Z",
     "shell.execute_reply.started": "2023-07-29T19:24:08.391966Z"
    }
   },
   "outputs": [
    {
     "data": {
      "application/vnd.jupyter.widget-view+json": {
       "model_id": "b3415f5a3206471bb699cc828927d135",
       "version_major": 2,
       "version_minor": 0
      },
      "text/plain": [
       "Downloading (…)lve/main/config.json:   0%|          | 0.00/1.49k [00:00<?, ?B/s]"
      ]
     },
     "metadata": {},
     "output_type": "display_data"
    },
    {
     "data": {
      "application/vnd.jupyter.widget-view+json": {
       "model_id": "003eb100d14941ac9708501832b4c903",
       "version_major": 2,
       "version_minor": 0
      },
      "text/plain": [
       "Downloading pytorch_model.bin:   0%|          | 0.00/1.09G [00:00<?, ?B/s]"
      ]
     },
     "metadata": {},
     "output_type": "display_data"
    },
    {
     "data": {
      "application/vnd.jupyter.widget-view+json": {
       "model_id": "fdb0254b2fed49928968e9e8b6b317da",
       "version_major": 2,
       "version_minor": 0
      },
      "text/plain": [
       "Downloading (…)neration_config.json:   0%|          | 0.00/262 [00:00<?, ?B/s]"
      ]
     },
     "metadata": {},
     "output_type": "display_data"
    }
   ],
   "source": [
    "from transformers import AutoModelForSeq2SeqLM, DataCollatorForSeq2Seq, Seq2SeqTrainingArguments, Seq2SeqTrainer\n",
    "\n",
    "model = AutoModelForSeq2SeqLM.from_pretrained(model_checkpoint)\n",
    "\n",
    "# Load model directly\n",
    "# from transformers import AutoModel\n",
    "# model_longformer = AutoModel.from_pretrained(\"allenai/longformer-base-4096\")"
   ]
  },
  {
   "cell_type": "code",
   "execution_count": 32,
   "metadata": {
    "execution": {
     "iopub.execute_input": "2023-07-29T19:24:24.484766Z",
     "iopub.status.busy": "2023-07-29T19:24:24.484109Z",
     "iopub.status.idle": "2023-07-29T19:24:24.585198Z",
     "shell.execute_reply": "2023-07-29T19:24:24.582703Z",
     "shell.execute_reply.started": "2023-07-29T19:24:24.484729Z"
    }
   },
   "outputs": [],
   "source": [
    "batch_size = 1    #for T5-small it is 16, for bart base, I am keeping it 4\n",
    "gradient_accumulation_steps = 1  # Use gradient accumulation to effectively increase the batch size\n",
    "\n",
    "model_name = model_checkpoint.split(\"/\")[-1]\n",
    "args = Seq2SeqTrainingArguments(\n",
    "    f\"{model_name}-finetuned-xsum\",\n",
    "    evaluation_strategy = \"epoch\",\n",
    "    learning_rate=2e-5,    #2e-5 or any value can be used here\n",
    "    per_device_train_batch_size=batch_size,\n",
    "    per_device_eval_batch_size=batch_size,\n",
    "    gradient_accumulation_steps=gradient_accumulation_steps,  # Add gradient accumulation\n",
    "    weight_decay=0.01,\n",
    "    save_total_limit=3,\n",
    "    num_train_epochs=5,\n",
    "    predict_with_generate=True,\n",
    "    fp16=True,\n",
    "    push_to_hub=False,\n",
    ")"
   ]
  },
  {
   "cell_type": "code",
   "execution_count": 33,
   "metadata": {
    "execution": {
     "iopub.execute_input": "2023-07-29T19:24:24.588704Z",
     "iopub.status.busy": "2023-07-29T19:24:24.588294Z",
     "iopub.status.idle": "2023-07-29T19:24:28.849810Z",
     "shell.execute_reply": "2023-07-29T19:24:28.848716Z",
     "shell.execute_reply.started": "2023-07-29T19:24:24.588666Z"
    }
   },
   "outputs": [],
   "source": [
    "data_collator = DataCollatorForSeq2Seq(tokenizer, model=model)\n",
    "# data_collator_longformer = DataCollatorForSeq2Seq(tokenizer, model=model_longformer)"
   ]
  },
  {
   "cell_type": "code",
   "execution_count": 34,
   "metadata": {
    "execution": {
     "iopub.execute_input": "2023-07-29T19:24:28.851924Z",
     "iopub.status.busy": "2023-07-29T19:24:28.851542Z",
     "iopub.status.idle": "2023-07-29T19:24:28.866532Z",
     "shell.execute_reply": "2023-07-29T19:24:28.865202Z",
     "shell.execute_reply.started": "2023-07-29T19:24:28.851870Z"
    }
   },
   "outputs": [],
   "source": [
    "import nltk\n",
    "import numpy as np\n",
    "\n",
    "#     # Round numeric values in the \"result\" dictionary\n",
    "#     rounded_result = {k: round(float(v), 4) if isinstance(v, (int, float)) else v for k, v in result.items()}\n",
    "#     rounded_result_meteor = {k: round(float(v), 4) if isinstance(v, (int, float)) else v for k, v in result_meteor.items()}\n",
    "    \n",
    "\n",
    "def compute_metrics(eval_pred):\n",
    "    predictions, labels = eval_pred\n",
    "    decoded_preds = tokenizer.batch_decode(predictions, skip_special_tokens=True)\n",
    "    # Replace -100 in the labels as we can't decode them.\n",
    "    labels = np.where(labels != -100, labels, tokenizer.pad_token_id)\n",
    "    decoded_labels = tokenizer.batch_decode(labels, skip_special_tokens=True)\n",
    "    \n",
    "    # Rouge expects a newline after each sentence\n",
    "    decoded_preds = [\"\\n\".join(nltk.sent_tokenize(pred.strip())) for pred in decoded_preds]\n",
    "    decoded_labels = [\"\\n\".join(nltk.sent_tokenize(label.strip())) for label in decoded_labels]\n",
    "    \n",
    "    # Note that other metrics may not have a `use_aggregator` parameter\n",
    "    # and thus will return a list, computing a metric for each sentence.\n",
    "    result = metric.compute(predictions=decoded_preds, references=decoded_labels, use_stemmer=True, use_aggregator=True)\n",
    "    result_meteor = metric_meteor.compute(predictions=decoded_preds, references=decoded_labels)\n",
    "    # Convert tuples to strings to avoid TypeError during rounding\n",
    "    result = {key: str(value) if isinstance(value, tuple) else value for key, value in result.items()}\n",
    "    result_meteor = {key: str(value) if isinstance(value, tuple) else value for key, value in result_meteor.items()}\n",
    "    \n",
    "    # Add mean generated length\n",
    "    prediction_lens = [np.count_nonzero(pred != tokenizer.pad_token_id) for pred in predictions]\n",
    "    result[\"gen_len\"] = np.mean(prediction_lens)\n",
    "    \n",
    "#     # Round numeric values in the \"result\" dictionary\n",
    "#     rounded_result = {k: round(float(v), 4) if isinstance(v, (int, float)) else v for k, v in result.items()}\n",
    "#     rounded_result_meteor = {k: round(float(v), 4) if isinstance(v, (int, float)) else v for k, v in result_meteor.items()}\n",
    "    \n",
    "    result = {key: str(value) if isinstance(value, tuple) else value for key, value in result.items()}\n",
    "    result_meteor = {key: str(value) if isinstance(value, tuple) else value for key, value in result_meteor.items()}\n",
    "    \n",
    "    merged_result = {**result, **result_meteor}\n",
    "    \n",
    "    merged_result = {key: str(value) if isinstance(value, tuple) else value for key, value in merged_result.items()}\n",
    "\n",
    "    return merged_result\n",
    "#     return rounded_result, rounded_result_meteor\n"
   ]
  },
  {
   "cell_type": "code",
   "execution_count": 35,
   "metadata": {
    "execution": {
     "iopub.execute_input": "2023-07-29T19:24:28.868434Z",
     "iopub.status.busy": "2023-07-29T19:24:28.868053Z",
     "iopub.status.idle": "2023-07-29T19:24:28.882490Z",
     "shell.execute_reply": "2023-07-29T19:24:28.881428Z",
     "shell.execute_reply.started": "2023-07-29T19:24:28.868357Z"
    }
   },
   "outputs": [],
   "source": [
    "def compute_metrics_meteor(eval_pred):\n",
    "    predictions, labels = eval_pred\n",
    "    decoded_preds = tokenizer.batch_decode(predictions, skip_special_tokens=True)\n",
    "    # Replace -100 in the labels as we can't decode them.\n",
    "    labels = np.where(labels != -100, labels, tokenizer.pad_token_id)\n",
    "    decoded_labels = tokenizer.batch_decode(labels, skip_special_tokens=True)\n",
    "\n",
    "    # Rouge expects a newline after each sentence\n",
    "    decoded_preds = [\"\\n\".join(nltk.sent_tokenize(pred.strip())) for pred in decoded_preds]\n",
    "    decoded_labels = [\"\\n\".join(nltk.sent_tokenize(label.strip())) for label in decoded_labels]\n",
    "\n",
    "    # Note that other metrics may not have a `use_aggregator` parameter\n",
    "    # and thus will return a list, computing a metric for each sentence.\n",
    "    result = metric_meteor.compute(predictions=decoded_preds, references=decoded_labels)\n",
    "\n",
    "    # Convert tuples to strings to avoid TypeError during rounding\n",
    "    result = {key: str(value) if isinstance(value, tuple) else value for key, value in result.items()}\n",
    "\n",
    "    # Add mean generated length\n",
    "    prediction_lens = [np.count_nonzero(pred != tokenizer.pad_token_id) for pred in predictions]\n",
    "    result[\"gen_len\"] = np.mean(prediction_lens)\n",
    "\n",
    "    # Round numeric values in the \"result\" dictionary\n",
    "    rounded_result = {k: round(float(v), 4) if isinstance(v, (int, float)) else v for k, v in result.items()}\n",
    "\n",
    "    return rounded_result\n"
   ]
  },
  {
   "cell_type": "code",
   "execution_count": 36,
   "metadata": {
    "execution": {
     "iopub.execute_input": "2023-07-29T19:24:28.886163Z",
     "iopub.status.busy": "2023-07-29T19:24:28.885278Z",
     "iopub.status.idle": "2023-07-29T19:24:34.394877Z",
     "shell.execute_reply": "2023-07-29T19:24:34.393870Z",
     "shell.execute_reply.started": "2023-07-29T19:24:28.886084Z"
    }
   },
   "outputs": [],
   "source": [
    "trainer = Seq2SeqTrainer(\n",
    "    model,\n",
    "    args,\n",
    "    train_dataset=train_datasets['train'],\n",
    "    eval_dataset=validation_datasets['train'],\n",
    "    data_collator=data_collator,\n",
    "    tokenizer=tokenizer,\n",
    "    compute_metrics=compute_metrics\n",
    ")\n",
    "\n",
    "# trainer_longformer = Seq2SeqTrainer(\n",
    "#     model_longformer,\n",
    "#     args,\n",
    "#     train_dataset=train_datasets['train'],\n",
    "#     eval_dataset=validation_datasets['train'],\n",
    "#     data_collator=data_collator_longformer,\n",
    "#     tokenizer=tokenizer,\n",
    "#     compute_metrics=compute_metrics_meteor\n",
    "# )"
   ]
  },
  {
   "cell_type": "code",
   "execution_count": 37,
   "metadata": {
    "execution": {
     "iopub.execute_input": "2023-07-29T19:24:34.396776Z",
     "iopub.status.busy": "2023-07-29T19:24:34.396292Z",
     "iopub.status.idle": "2023-07-29T22:28:11.077723Z",
     "shell.execute_reply": "2023-07-29T22:28:11.076452Z",
     "shell.execute_reply.started": "2023-07-29T19:24:34.396741Z"
    }
   },
   "outputs": [
    {
     "name": "stderr",
     "output_type": "stream",
     "text": [
      "/opt/conda/lib/python3.10/site-packages/transformers/optimization.py:411: FutureWarning: This implementation of AdamW is deprecated and will be removed in a future version. Use the PyTorch implementation torch.optim.AdamW instead, or set `no_deprecation_warning=True` to disable this warning\n",
      "  warnings.warn(\n",
      "\u001b[34m\u001b[1mwandb\u001b[0m: Logging into wandb.ai. (Learn how to deploy a W&B server locally: https://wandb.me/wandb-server)\n",
      "\u001b[34m\u001b[1mwandb\u001b[0m: You can find your API key in your browser here: https://wandb.ai/authorize\n",
      "\u001b[34m\u001b[1mwandb\u001b[0m: Paste an API key from your profile and hit enter, or press ctrl+c to quit:"
     ]
    },
    {
     "name": "stdin",
     "output_type": "stream",
     "text": [
      "  ········································\n"
     ]
    },
    {
     "name": "stderr",
     "output_type": "stream",
     "text": [
      "\u001b[34m\u001b[1mwandb\u001b[0m: Appending key for api.wandb.ai to your netrc file: /root/.netrc\n"
     ]
    },
    {
     "data": {
      "text/html": [
       "Tracking run with wandb version 0.15.7"
      ],
      "text/plain": [
       "<IPython.core.display.HTML object>"
      ]
     },
     "metadata": {},
     "output_type": "display_data"
    },
    {
     "data": {
      "text/html": [
       "Run data is saved locally in <code>/kaggle/working/wandb/run-20230729_193517-ryk34okr</code>"
      ],
      "text/plain": [
       "<IPython.core.display.HTML object>"
      ]
     },
     "metadata": {},
     "output_type": "display_data"
    },
    {
     "data": {
      "text/html": [
       "Syncing run <strong><a href='https://wandb.ai/sushilkumar-yadav/huggingface/runs/ryk34okr' target=\"_blank\">icy-donkey-15</a></strong> to <a href='https://wandb.ai/sushilkumar-yadav/huggingface' target=\"_blank\">Weights & Biases</a> (<a href='https://wandb.me/run' target=\"_blank\">docs</a>)<br/>"
      ],
      "text/plain": [
       "<IPython.core.display.HTML object>"
      ]
     },
     "metadata": {},
     "output_type": "display_data"
    },
    {
     "data": {
      "text/html": [
       " View project at <a href='https://wandb.ai/sushilkumar-yadav/huggingface' target=\"_blank\">https://wandb.ai/sushilkumar-yadav/huggingface</a>"
      ],
      "text/plain": [
       "<IPython.core.display.HTML object>"
      ]
     },
     "metadata": {},
     "output_type": "display_data"
    },
    {
     "data": {
      "text/html": [
       " View run at <a href='https://wandb.ai/sushilkumar-yadav/huggingface/runs/ryk34okr' target=\"_blank\">https://wandb.ai/sushilkumar-yadav/huggingface/runs/ryk34okr</a>"
      ],
      "text/plain": [
       "<IPython.core.display.HTML object>"
      ]
     },
     "metadata": {},
     "output_type": "display_data"
    },
    {
     "name": "stderr",
     "output_type": "stream",
     "text": [
      "You're using a PegasusTokenizerFast tokenizer. Please note that with a fast tokenizer, using the `__call__` method is faster than using a method to encode the text followed by a call to the `pad` method to get a padded encoding.\n",
      "/opt/conda/lib/python3.10/site-packages/torch/nn/parallel/_functions.py:68: UserWarning: Was asked to gather along dimension 0, but all input tensors were scalars; will instead unsqueeze and return a vector.\n",
      "  warnings.warn('Was asked to gather along dimension 0, but all '\n"
     ]
    },
    {
     "data": {
      "text/html": [
       "\n",
       "    <div>\n",
       "      \n",
       "      <progress value='8000' max='8000' style='width:300px; height:20px; vertical-align: middle;'></progress>\n",
       "      [8000/8000 2:52:14, Epoch 5/5]\n",
       "    </div>\n",
       "    <table border=\"1\" class=\"dataframe\">\n",
       "  <thead>\n",
       " <tr style=\"text-align: left;\">\n",
       "      <th>Epoch</th>\n",
       "      <th>Training Loss</th>\n",
       "      <th>Validation Loss</th>\n",
       "      <th>Rouge1</th>\n",
       "      <th>Rouge2</th>\n",
       "      <th>Rougel</th>\n",
       "      <th>Rougelsum</th>\n",
       "      <th>Gen Len</th>\n",
       "      <th>Meteor</th>\n",
       "    </tr>\n",
       "  </thead>\n",
       "  <tbody>\n",
       "    <tr>\n",
       "      <td>1</td>\n",
       "      <td>1.264700</td>\n",
       "      <td>0.980652</td>\n",
       "      <td>AggregateScore(low=Score(precision=0.24628097910713675, recall=0.41986237118493025, fmeasure=0.22990848732744718), mid=Score(precision=0.2862022726578733, recall=0.46188258431096557, fmeasure=0.2653623879957385), high=Score(precision=0.3249143592888828, recall=0.5019671405980572, fmeasure=0.30028857612104465))</td>\n",
       "      <td>AggregateScore(low=Score(precision=0.14806040423252875, recall=0.23929296270855183, fmeasure=0.13946881464651714), mid=Score(precision=0.18308328655451628, recall=0.2817589084478894, fmeasure=0.17230127204381274), high=Score(precision=0.21678151116577288, recall=0.323251102794603, fmeasure=0.20194104979804048))</td>\n",
       "      <td>AggregateScore(low=Score(precision=0.2430645607874304, recall=0.4038452872871756, fmeasure=0.22500901782789468), mid=Score(precision=0.2803297853732496, recall=0.4436819979531053, fmeasure=0.25795069770919465), high=Score(precision=0.3194574933392108, recall=0.48446578961584347, fmeasure=0.29254127369869576))</td>\n",
       "      <td>AggregateScore(low=Score(precision=0.23966740044618806, recall=0.4010994405916909, fmeasure=0.22146066757758617), mid=Score(precision=0.2798645119214068, recall=0.4443353935454596, fmeasure=0.2577542860391422), high=Score(precision=0.31887215490981824, recall=0.486833748173268, fmeasure=0.2932378748407193))</td>\n",
       "      <td>44.187500</td>\n",
       "      <td>0.261643</td>\n",
       "    </tr>\n",
       "    <tr>\n",
       "      <td>2</td>\n",
       "      <td>0.979700</td>\n",
       "      <td>0.910863</td>\n",
       "      <td>AggregateScore(low=Score(precision=0.22862190311691918, recall=0.5955972867995483, fmeasure=0.23963356064871089), mid=Score(precision=0.26582002787129155, recall=0.6362516587023884, fmeasure=0.27576230853326567), high=Score(precision=0.30471204801781426, recall=0.6760755142240837, fmeasure=0.3110834803397294))</td>\n",
       "      <td>AggregateScore(low=Score(precision=0.14810619805034622, recall=0.38765329143276267, fmeasure=0.15688884462644329), mid=Score(precision=0.17948693430640447, recall=0.4363519529623744, fmeasure=0.18805618954680658), high=Score(precision=0.21274689088863857, recall=0.48319940003809236, fmeasure=0.21963048229393684))</td>\n",
       "      <td>AggregateScore(low=Score(precision=0.2232455326946719, recall=0.5705462040864219, fmeasure=0.23539468059251803), mid=Score(precision=0.2615321393139576, recall=0.6106389991166343, fmeasure=0.2696626376770601), high=Score(precision=0.3000187884200645, recall=0.6504502996179476, fmeasure=0.3036208840399516))</td>\n",
       "      <td>AggregateScore(low=Score(precision=0.22483826208704782, recall=0.5683872174033404, fmeasure=0.2339612361666698), mid=Score(precision=0.26105646790711473, recall=0.6091422904767065, fmeasure=0.2678712160974015), high=Score(precision=0.3004533680275738, recall=0.6509082791953084, fmeasure=0.30463375597269515))</td>\n",
       "      <td>90.942500</td>\n",
       "      <td>0.301366</td>\n",
       "    </tr>\n",
       "    <tr>\n",
       "      <td>3</td>\n",
       "      <td>0.805700</td>\n",
       "      <td>0.904674</td>\n",
       "      <td>AggregateScore(low=Score(precision=0.2586079778805374, recall=0.5710597204610669, fmeasure=0.26153105963836276), mid=Score(precision=0.2981327336985621, recall=0.6109280804596432, fmeasure=0.300465609949633), high=Score(precision=0.33597077397952674, recall=0.651342970548212, fmeasure=0.33543563310845953))</td>\n",
       "      <td>AggregateScore(low=Score(precision=0.15982170677495108, recall=0.3645420421756696, fmeasure=0.16306572407263853), mid=Score(precision=0.19262496439621657, recall=0.4103737079888205, fmeasure=0.19634974084825085), high=Score(precision=0.22818731783827567, recall=0.4583549894983925, fmeasure=0.22975049355249566))</td>\n",
       "      <td>AggregateScore(low=Score(precision=0.25561289088205646, recall=0.5513253211642193, fmeasure=0.2592533310822096), mid=Score(precision=0.29451239470439217, recall=0.5924679233363203, fmeasure=0.2947803897181004), high=Score(precision=0.33327492771906503, recall=0.6294394663158751, fmeasure=0.3315271016714977))</td>\n",
       "      <td>AggregateScore(low=Score(precision=0.25661046944649, recall=0.5460630924921959, fmeasure=0.25862777755802835), mid=Score(precision=0.29481964355607765, recall=0.5909083727150113, fmeasure=0.2950511211734774), high=Score(precision=0.33316010857944, recall=0.6296523788158012, fmeasure=0.3302688654942524))</td>\n",
       "      <td>79.440000</td>\n",
       "      <td>0.311641</td>\n",
       "    </tr>\n",
       "    <tr>\n",
       "      <td>4</td>\n",
       "      <td>0.707600</td>\n",
       "      <td>0.909750</td>\n",
       "      <td>AggregateScore(low=Score(precision=0.2848288246030056, recall=0.5599035225088015, fmeasure=0.2906600297761948), mid=Score(precision=0.32682069167130456, recall=0.5980573984880437, fmeasure=0.33098633903109864), high=Score(precision=0.36822060019354413, recall=0.6376970725122829, fmeasure=0.3693156680048924))</td>\n",
       "      <td>AggregateScore(low=Score(precision=0.18723517331720968, recall=0.3563894392346486, fmeasure=0.18619333163886362), mid=Score(precision=0.2211431803218449, recall=0.4043284548703883, fmeasure=0.22144031682558618), high=Score(precision=0.260007618158587, recall=0.45105372656756526, fmeasure=0.25913629813511524))</td>\n",
       "      <td>AggregateScore(low=Score(precision=0.283591387775436, recall=0.5396729301891878, fmeasure=0.28875254576733167), mid=Score(precision=0.32140998707039004, recall=0.5798076056781463, fmeasure=0.3240715901011826), high=Score(precision=0.36217139430745454, recall=0.6206414495550268, fmeasure=0.36185466082694945))</td>\n",
       "      <td>AggregateScore(low=Score(precision=0.27893138529107786, recall=0.5362532102411011, fmeasure=0.2852361474684943), mid=Score(precision=0.32202196002683314, recall=0.5787729896852729, fmeasure=0.3246710300379262), high=Score(precision=0.3645845615052086, recall=0.6198125578762589, fmeasure=0.36262602388010884))</td>\n",
       "      <td>65.690000</td>\n",
       "      <td>0.335873</td>\n",
       "    </tr>\n",
       "    <tr>\n",
       "      <td>5</td>\n",
       "      <td>0.656600</td>\n",
       "      <td>0.907933</td>\n",
       "      <td>AggregateScore(low=Score(precision=0.3027516331064462, recall=0.5625509888456591, fmeasure=0.3093141162126701), mid=Score(precision=0.3440379637279086, recall=0.6024944287063012, fmeasure=0.3477385274143827), high=Score(precision=0.38369475419857324, recall=0.6402305151472648, fmeasure=0.3859188266194074))</td>\n",
       "      <td>AggregateScore(low=Score(precision=0.19456153148199704, recall=0.3573511752326901, fmeasure=0.1936421803357612), mid=Score(precision=0.23114517685611335, recall=0.4039603343830347, fmeasure=0.22955161264875637), high=Score(precision=0.27010400522283295, recall=0.4532327153677308, fmeasure=0.2664425174898097))</td>\n",
       "      <td>AggregateScore(low=Score(precision=0.2996287478599547, recall=0.5437031959926559, fmeasure=0.3029389702915962), mid=Score(precision=0.34065115641287524, recall=0.5835040295956303, fmeasure=0.34130265338377197), high=Score(precision=0.37875602334374764, recall=0.6249513417749529, fmeasure=0.37876101534647866))</td>\n",
       "      <td>AggregateScore(low=Score(precision=0.29832056750600544, recall=0.5395340214062594, fmeasure=0.30126990629991746), mid=Score(precision=0.33957776731437117, recall=0.5825667681846012, fmeasure=0.34077027446274155), high=Score(precision=0.3810891002875667, recall=0.622722350719774, fmeasure=0.3781409459507686))</td>\n",
       "      <td>61.707500</td>\n",
       "      <td>0.346829</td>\n",
       "    </tr>\n",
       "  </tbody>\n",
       "</table><p>"
      ],
      "text/plain": [
       "<IPython.core.display.HTML object>"
      ]
     },
     "metadata": {},
     "output_type": "display_data"
    },
    {
     "name": "stderr",
     "output_type": "stream",
     "text": [
      "/opt/conda/lib/python3.10/site-packages/torch/nn/parallel/_functions.py:68: UserWarning: Was asked to gather along dimension 0, but all input tensors were scalars; will instead unsqueeze and return a vector.\n",
      "  warnings.warn('Was asked to gather along dimension 0, but all '\n",
      "/opt/conda/lib/python3.10/site-packages/torch/nn/parallel/_functions.py:68: UserWarning: Was asked to gather along dimension 0, but all input tensors were scalars; will instead unsqueeze and return a vector.\n",
      "  warnings.warn('Was asked to gather along dimension 0, but all '\n",
      "/opt/conda/lib/python3.10/site-packages/torch/nn/parallel/_functions.py:68: UserWarning: Was asked to gather along dimension 0, but all input tensors were scalars; will instead unsqueeze and return a vector.\n",
      "  warnings.warn('Was asked to gather along dimension 0, but all '\n",
      "Trainer is attempting to log a value of \"AggregateScore(low=Score(precision=0.24628097910713675, recall=0.41986237118493025, fmeasure=0.22990848732744718), mid=Score(precision=0.2862022726578733, recall=0.46188258431096557, fmeasure=0.2653623879957385), high=Score(precision=0.3249143592888828, recall=0.5019671405980572, fmeasure=0.30028857612104465))\" of type <class 'str'> for key \"eval/rouge1\" as a scalar. This invocation of Tensorboard's writer.add_scalar() is incorrect so we dropped this attribute.\n",
      "Trainer is attempting to log a value of \"AggregateScore(low=Score(precision=0.14806040423252875, recall=0.23929296270855183, fmeasure=0.13946881464651714), mid=Score(precision=0.18308328655451628, recall=0.2817589084478894, fmeasure=0.17230127204381274), high=Score(precision=0.21678151116577288, recall=0.323251102794603, fmeasure=0.20194104979804048))\" of type <class 'str'> for key \"eval/rouge2\" as a scalar. This invocation of Tensorboard's writer.add_scalar() is incorrect so we dropped this attribute.\n",
      "Trainer is attempting to log a value of \"AggregateScore(low=Score(precision=0.2430645607874304, recall=0.4038452872871756, fmeasure=0.22500901782789468), mid=Score(precision=0.2803297853732496, recall=0.4436819979531053, fmeasure=0.25795069770919465), high=Score(precision=0.3194574933392108, recall=0.48446578961584347, fmeasure=0.29254127369869576))\" of type <class 'str'> for key \"eval/rougeL\" as a scalar. This invocation of Tensorboard's writer.add_scalar() is incorrect so we dropped this attribute.\n",
      "Trainer is attempting to log a value of \"AggregateScore(low=Score(precision=0.23966740044618806, recall=0.4010994405916909, fmeasure=0.22146066757758617), mid=Score(precision=0.2798645119214068, recall=0.4443353935454596, fmeasure=0.2577542860391422), high=Score(precision=0.31887215490981824, recall=0.486833748173268, fmeasure=0.2932378748407193))\" of type <class 'str'> for key \"eval/rougeLsum\" as a scalar. This invocation of Tensorboard's writer.add_scalar() is incorrect so we dropped this attribute.\n",
      "/opt/conda/lib/python3.10/site-packages/torch/nn/parallel/_functions.py:68: UserWarning: Was asked to gather along dimension 0, but all input tensors were scalars; will instead unsqueeze and return a vector.\n",
      "  warnings.warn('Was asked to gather along dimension 0, but all '\n",
      "/opt/conda/lib/python3.10/site-packages/torch/nn/parallel/_functions.py:68: UserWarning: Was asked to gather along dimension 0, but all input tensors were scalars; will instead unsqueeze and return a vector.\n",
      "  warnings.warn('Was asked to gather along dimension 0, but all '\n",
      "/opt/conda/lib/python3.10/site-packages/torch/nn/parallel/_functions.py:68: UserWarning: Was asked to gather along dimension 0, but all input tensors were scalars; will instead unsqueeze and return a vector.\n",
      "  warnings.warn('Was asked to gather along dimension 0, but all '\n",
      "Trainer is attempting to log a value of \"AggregateScore(low=Score(precision=0.22862190311691918, recall=0.5955972867995483, fmeasure=0.23963356064871089), mid=Score(precision=0.26582002787129155, recall=0.6362516587023884, fmeasure=0.27576230853326567), high=Score(precision=0.30471204801781426, recall=0.6760755142240837, fmeasure=0.3110834803397294))\" of type <class 'str'> for key \"eval/rouge1\" as a scalar. This invocation of Tensorboard's writer.add_scalar() is incorrect so we dropped this attribute.\n",
      "Trainer is attempting to log a value of \"AggregateScore(low=Score(precision=0.14810619805034622, recall=0.38765329143276267, fmeasure=0.15688884462644329), mid=Score(precision=0.17948693430640447, recall=0.4363519529623744, fmeasure=0.18805618954680658), high=Score(precision=0.21274689088863857, recall=0.48319940003809236, fmeasure=0.21963048229393684))\" of type <class 'str'> for key \"eval/rouge2\" as a scalar. This invocation of Tensorboard's writer.add_scalar() is incorrect so we dropped this attribute.\n",
      "Trainer is attempting to log a value of \"AggregateScore(low=Score(precision=0.2232455326946719, recall=0.5705462040864219, fmeasure=0.23539468059251803), mid=Score(precision=0.2615321393139576, recall=0.6106389991166343, fmeasure=0.2696626376770601), high=Score(precision=0.3000187884200645, recall=0.6504502996179476, fmeasure=0.3036208840399516))\" of type <class 'str'> for key \"eval/rougeL\" as a scalar. This invocation of Tensorboard's writer.add_scalar() is incorrect so we dropped this attribute.\n",
      "Trainer is attempting to log a value of \"AggregateScore(low=Score(precision=0.22483826208704782, recall=0.5683872174033404, fmeasure=0.2339612361666698), mid=Score(precision=0.26105646790711473, recall=0.6091422904767065, fmeasure=0.2678712160974015), high=Score(precision=0.3004533680275738, recall=0.6509082791953084, fmeasure=0.30463375597269515))\" of type <class 'str'> for key \"eval/rougeLsum\" as a scalar. This invocation of Tensorboard's writer.add_scalar() is incorrect so we dropped this attribute.\n",
      "/opt/conda/lib/python3.10/site-packages/torch/nn/parallel/_functions.py:68: UserWarning: Was asked to gather along dimension 0, but all input tensors were scalars; will instead unsqueeze and return a vector.\n",
      "  warnings.warn('Was asked to gather along dimension 0, but all '\n",
      "/opt/conda/lib/python3.10/site-packages/torch/nn/parallel/_functions.py:68: UserWarning: Was asked to gather along dimension 0, but all input tensors were scalars; will instead unsqueeze and return a vector.\n",
      "  warnings.warn('Was asked to gather along dimension 0, but all '\n",
      "/opt/conda/lib/python3.10/site-packages/torch/nn/parallel/_functions.py:68: UserWarning: Was asked to gather along dimension 0, but all input tensors were scalars; will instead unsqueeze and return a vector.\n",
      "  warnings.warn('Was asked to gather along dimension 0, but all '\n",
      "Trainer is attempting to log a value of \"AggregateScore(low=Score(precision=0.2586079778805374, recall=0.5710597204610669, fmeasure=0.26153105963836276), mid=Score(precision=0.2981327336985621, recall=0.6109280804596432, fmeasure=0.300465609949633), high=Score(precision=0.33597077397952674, recall=0.651342970548212, fmeasure=0.33543563310845953))\" of type <class 'str'> for key \"eval/rouge1\" as a scalar. This invocation of Tensorboard's writer.add_scalar() is incorrect so we dropped this attribute.\n",
      "Trainer is attempting to log a value of \"AggregateScore(low=Score(precision=0.15982170677495108, recall=0.3645420421756696, fmeasure=0.16306572407263853), mid=Score(precision=0.19262496439621657, recall=0.4103737079888205, fmeasure=0.19634974084825085), high=Score(precision=0.22818731783827567, recall=0.4583549894983925, fmeasure=0.22975049355249566))\" of type <class 'str'> for key \"eval/rouge2\" as a scalar. This invocation of Tensorboard's writer.add_scalar() is incorrect so we dropped this attribute.\n",
      "Trainer is attempting to log a value of \"AggregateScore(low=Score(precision=0.25561289088205646, recall=0.5513253211642193, fmeasure=0.2592533310822096), mid=Score(precision=0.29451239470439217, recall=0.5924679233363203, fmeasure=0.2947803897181004), high=Score(precision=0.33327492771906503, recall=0.6294394663158751, fmeasure=0.3315271016714977))\" of type <class 'str'> for key \"eval/rougeL\" as a scalar. This invocation of Tensorboard's writer.add_scalar() is incorrect so we dropped this attribute.\n",
      "Trainer is attempting to log a value of \"AggregateScore(low=Score(precision=0.25661046944649, recall=0.5460630924921959, fmeasure=0.25862777755802835), mid=Score(precision=0.29481964355607765, recall=0.5909083727150113, fmeasure=0.2950511211734774), high=Score(precision=0.33316010857944, recall=0.6296523788158012, fmeasure=0.3302688654942524))\" of type <class 'str'> for key \"eval/rougeLsum\" as a scalar. This invocation of Tensorboard's writer.add_scalar() is incorrect so we dropped this attribute.\n",
      "/opt/conda/lib/python3.10/site-packages/torch/nn/parallel/_functions.py:68: UserWarning: Was asked to gather along dimension 0, but all input tensors were scalars; will instead unsqueeze and return a vector.\n",
      "  warnings.warn('Was asked to gather along dimension 0, but all '\n",
      "/opt/conda/lib/python3.10/site-packages/torch/nn/parallel/_functions.py:68: UserWarning: Was asked to gather along dimension 0, but all input tensors were scalars; will instead unsqueeze and return a vector.\n",
      "  warnings.warn('Was asked to gather along dimension 0, but all '\n",
      "/opt/conda/lib/python3.10/site-packages/torch/nn/parallel/_functions.py:68: UserWarning: Was asked to gather along dimension 0, but all input tensors were scalars; will instead unsqueeze and return a vector.\n",
      "  warnings.warn('Was asked to gather along dimension 0, but all '\n",
      "Trainer is attempting to log a value of \"AggregateScore(low=Score(precision=0.2848288246030056, recall=0.5599035225088015, fmeasure=0.2906600297761948), mid=Score(precision=0.32682069167130456, recall=0.5980573984880437, fmeasure=0.33098633903109864), high=Score(precision=0.36822060019354413, recall=0.6376970725122829, fmeasure=0.3693156680048924))\" of type <class 'str'> for key \"eval/rouge1\" as a scalar. This invocation of Tensorboard's writer.add_scalar() is incorrect so we dropped this attribute.\n",
      "Trainer is attempting to log a value of \"AggregateScore(low=Score(precision=0.18723517331720968, recall=0.3563894392346486, fmeasure=0.18619333163886362), mid=Score(precision=0.2211431803218449, recall=0.4043284548703883, fmeasure=0.22144031682558618), high=Score(precision=0.260007618158587, recall=0.45105372656756526, fmeasure=0.25913629813511524))\" of type <class 'str'> for key \"eval/rouge2\" as a scalar. This invocation of Tensorboard's writer.add_scalar() is incorrect so we dropped this attribute.\n",
      "Trainer is attempting to log a value of \"AggregateScore(low=Score(precision=0.283591387775436, recall=0.5396729301891878, fmeasure=0.28875254576733167), mid=Score(precision=0.32140998707039004, recall=0.5798076056781463, fmeasure=0.3240715901011826), high=Score(precision=0.36217139430745454, recall=0.6206414495550268, fmeasure=0.36185466082694945))\" of type <class 'str'> for key \"eval/rougeL\" as a scalar. This invocation of Tensorboard's writer.add_scalar() is incorrect so we dropped this attribute.\n",
      "Trainer is attempting to log a value of \"AggregateScore(low=Score(precision=0.27893138529107786, recall=0.5362532102411011, fmeasure=0.2852361474684943), mid=Score(precision=0.32202196002683314, recall=0.5787729896852729, fmeasure=0.3246710300379262), high=Score(precision=0.3645845615052086, recall=0.6198125578762589, fmeasure=0.36262602388010884))\" of type <class 'str'> for key \"eval/rougeLsum\" as a scalar. This invocation of Tensorboard's writer.add_scalar() is incorrect so we dropped this attribute.\n",
      "/opt/conda/lib/python3.10/site-packages/torch/nn/parallel/_functions.py:68: UserWarning: Was asked to gather along dimension 0, but all input tensors were scalars; will instead unsqueeze and return a vector.\n",
      "  warnings.warn('Was asked to gather along dimension 0, but all '\n",
      "/opt/conda/lib/python3.10/site-packages/torch/nn/parallel/_functions.py:68: UserWarning: Was asked to gather along dimension 0, but all input tensors were scalars; will instead unsqueeze and return a vector.\n",
      "  warnings.warn('Was asked to gather along dimension 0, but all '\n",
      "/opt/conda/lib/python3.10/site-packages/torch/nn/parallel/_functions.py:68: UserWarning: Was asked to gather along dimension 0, but all input tensors were scalars; will instead unsqueeze and return a vector.\n",
      "  warnings.warn('Was asked to gather along dimension 0, but all '\n",
      "/opt/conda/lib/python3.10/site-packages/torch/nn/parallel/_functions.py:68: UserWarning: Was asked to gather along dimension 0, but all input tensors were scalars; will instead unsqueeze and return a vector.\n",
      "  warnings.warn('Was asked to gather along dimension 0, but all '\n",
      "Trainer is attempting to log a value of \"AggregateScore(low=Score(precision=0.3027516331064462, recall=0.5625509888456591, fmeasure=0.3093141162126701), mid=Score(precision=0.3440379637279086, recall=0.6024944287063012, fmeasure=0.3477385274143827), high=Score(precision=0.38369475419857324, recall=0.6402305151472648, fmeasure=0.3859188266194074))\" of type <class 'str'> for key \"eval/rouge1\" as a scalar. This invocation of Tensorboard's writer.add_scalar() is incorrect so we dropped this attribute.\n",
      "Trainer is attempting to log a value of \"AggregateScore(low=Score(precision=0.19456153148199704, recall=0.3573511752326901, fmeasure=0.1936421803357612), mid=Score(precision=0.23114517685611335, recall=0.4039603343830347, fmeasure=0.22955161264875637), high=Score(precision=0.27010400522283295, recall=0.4532327153677308, fmeasure=0.2664425174898097))\" of type <class 'str'> for key \"eval/rouge2\" as a scalar. This invocation of Tensorboard's writer.add_scalar() is incorrect so we dropped this attribute.\n",
      "Trainer is attempting to log a value of \"AggregateScore(low=Score(precision=0.2996287478599547, recall=0.5437031959926559, fmeasure=0.3029389702915962), mid=Score(precision=0.34065115641287524, recall=0.5835040295956303, fmeasure=0.34130265338377197), high=Score(precision=0.37875602334374764, recall=0.6249513417749529, fmeasure=0.37876101534647866))\" of type <class 'str'> for key \"eval/rougeL\" as a scalar. This invocation of Tensorboard's writer.add_scalar() is incorrect so we dropped this attribute.\n",
      "Trainer is attempting to log a value of \"AggregateScore(low=Score(precision=0.29832056750600544, recall=0.5395340214062594, fmeasure=0.30126990629991746), mid=Score(precision=0.33957776731437117, recall=0.5825667681846012, fmeasure=0.34077027446274155), high=Score(precision=0.3810891002875667, recall=0.622722350719774, fmeasure=0.3781409459507686))\" of type <class 'str'> for key \"eval/rougeLsum\" as a scalar. This invocation of Tensorboard's writer.add_scalar() is incorrect so we dropped this attribute.\n"
     ]
    },
    {
     "data": {
      "text/plain": [
       "TrainOutput(global_step=8000, training_loss=0.9445085639953613, metrics={'train_runtime': 11016.3404, 'train_samples_per_second': 1.452, 'train_steps_per_second': 0.726, 'total_flos': 1.3059313988161536e+16, 'train_loss': 0.9445085639953613, 'epoch': 5.0})"
      ]
     },
     "execution_count": 37,
     "metadata": {},
     "output_type": "execute_result"
    }
   ],
   "source": [
    "trainer.train()"
   ]
  },
  {
   "cell_type": "code",
   "execution_count": 38,
   "metadata": {
    "execution": {
     "iopub.execute_input": "2023-07-29T22:28:11.082964Z",
     "iopub.status.busy": "2023-07-29T22:28:11.082198Z",
     "iopub.status.idle": "2023-07-29T22:28:11.100914Z",
     "shell.execute_reply": "2023-07-29T22:28:11.099951Z",
     "shell.execute_reply.started": "2023-07-29T22:28:11.082922Z"
    }
   },
   "outputs": [
    {
     "name": "stdout",
     "output_type": "stream",
     "text": [
      "{'id': 0, 'text': \"He Tackles A Nurse At The Hospital Then You See What's On The Floor Next To Them  Male Nurse Breaks Down When His Friend Reveals He Can Give Him A KidneyWhen you think about your good friends, many things come to mind how bland life would be without them, how they make you laugh and smile when you need it, and how they are there to support you in any situation You may even ask yourself the question — what would I do for them in return? For 24yearold Graham McMillan, the answer is simple there is simply no limit to what he would do for his friends So, when his buddy Danny Kolzow, a 23yearold nurse at Baylor All Saints in Fort Worth, TX, found himself in need of a kidney, McMillan didn’t hesitate to find out if he could donate one of his As it turned out, he was a match He decided to surprise his friend with the good news, and did so in the most incredible way In this emotional clip, McMillan walks into the hospital where Kolzow works He has balloons and a sign in hand that reads, Heard urine need of a kidney, want mine? It seems like the young man is quite the jokester The moment Kolzow sees him, he understandably breaks down into tears He can barely believe his good luck not only does he get a kidney, but he knows that he also has a great friend who will be by his side through thick and thin The gift of life and the gift of friendship are both priceless\"}\n"
     ]
    }
   ],
   "source": [
    "print(test_data[\"train\"][0])"
   ]
  },
  {
   "cell_type": "code",
   "execution_count": 39,
   "metadata": {
    "execution": {
     "iopub.execute_input": "2023-07-29T22:28:11.102624Z",
     "iopub.status.busy": "2023-07-29T22:28:11.102172Z",
     "iopub.status.idle": "2023-07-29T22:42:04.287988Z",
     "shell.execute_reply": "2023-07-29T22:42:04.287053Z",
     "shell.execute_reply.started": "2023-07-29T22:28:11.102589Z"
    }
   },
   "outputs": [
    {
     "name": "stderr",
     "output_type": "stream",
     "text": [
      "/tmp/ipykernel_28/2650016477.py:10: UserWarning: To copy construct from a tensor, it is recommended to use sourceTensor.clone().detach() or sourceTensor.clone().detach().requires_grad_(True), rather than torch.tensor(sourceTensor).\n",
      "  batch_input = {k: torch.tensor(v).to(model.device) for k, v in batch_input.items()}\n",
      "/opt/conda/lib/python3.10/site-packages/transformers/generation/utils.py:1369: UserWarning: Using `max_length`'s default (16384) to control the generation length. This behaviour is deprecated and will be removed from the config in v5 of Transformers -- we recommend using `max_new_tokens` to control the maximum length of the generation.\n",
      "  warnings.warn(\n",
      "/tmp/ipykernel_28/2650016477.py:14: UserWarning: To copy construct from a tensor, it is recommended to use sourceTensor.clone().detach() or sourceTensor.clone().detach().requires_grad_(True), rather than torch.tensor(sourceTensor).\n",
      "  output = [torch.tensor(o).to(model.device) for o in output]\n"
     ]
    },
    {
     "name": "stdout",
     "output_type": "stream",
     "text": [
      "id: 0, spoiler: 24yearold Graham McMillan, the answer is simple there is simply no limit to what he would do for his friends So, when his buddy Danny Kolzow, a 23yearold nurse at Baylor All Saints in Fort Worth, TX, found himself in need of a kidney, McMillan didn’t hesitate to find out if he could donate one of his As it turned out, he was a match He decided to surprise his friend with the good news, and did so in the most incredible way In this emotional clip, McMillan walks into the hospital where Kolzow works He has balloons and a sign in hand that reads, Heard urine need of a kidney, want mine?\n",
      "id: 1, spoiler: Giving at the expense of your own wellbeing damages your chance of longterm success In an article for The Harvard Business Review, Wharton School of the University of Pennsylvania professor, Dr Adam Grant and Wharton People Analytics researcher Reb Rebele explore the 'generosity burnout' They believe that selflessness at work leads to exhaustion, and ironically often hurts the people you intended to help 'Although givers are the most valuable people in organizations, they’re also at the greatest risk for burnout’, the authors wrote in The Harvard Business Review 'When they don’t protect themselves, their investments in others can cause them to feel overloaded and fatigued, fall behind in their work goals, and face more stress and conflict at home', they said In their currently unpublished research, authors Dr Grant and Mr Rebele studied a range of jobs One data set came from a study conducted with more than 400 teachers in schools throughout the US At the start of the year they asked them questions about their approach to helping others Their answers allowed the authors to predict how well their students would do in their exams at the end of the year Here is a sample question from their test, quoted in Business Insider 1 Prioritise say yes when it matters most 2 Give in a way that is in your own interest and preserves your own energy resources 3 Don't be afraid to refer work to other people when you don't have time 4 Amplify your impact look for ways to help many people in a single gesture 5 Dedicate blocks of time to giving rather than doing it all the time\n",
      "id: 2, spoiler: Meditating inside a beautiful stockphoto room filled with plants is just one health benefit not available to poor people\n",
      "id: 3, spoiler: Braconid\n",
      "id: 4, spoiler: 1 Start by combining 1 cup salt and 1 cup sugar in a bowl Mix well to combine Place half the mixture in a small baking dish 2 Separate 4 egg yolks, saving the whites for another use Carefully place each egg yolk on top of the saltsugar mixture, and gently sprinkle the yolks with the rest of the saltsugar mixture\n",
      "id: 5, spoiler: John Williams\n",
      "id: 6, spoiler: 1 Take a long, warm shower with sweetsmelling essential oils\n",
      "id: 7, spoiler: assistance dogs are trained to go from being on to off in a few seconds, from hanging out with a chew toy to helping their human in the blink of an eye When strangers stop to play with assistance dogs, they can interfere with their work They're not a piece of equipment, Reiss said They can be distracted Hailey's story illustrates just how important service animals are for their humans — and why their vests shouldn't be ignored\n",
      "id: 8, spoiler: Lord Ivar Mountbatten\n",
      "id: 9, spoiler: saving isn't everything\n",
      "id: 10, spoiler: If I were a single mother, the question might be valid But as a married mom whose husband has an equal hand in raising our brood to adulthood, it's quite astonishing to be asked that question again and again No, I didn't hire a babysitter at least not for the nights or weekends No, I didn't leave them with the grandparents\n",
      "id: 11, spoiler: authenticity\n",
      "id: 12, spoiler: Born rsula Hilaria Celia de la Caridad Cruz Alfonso to a workingclass family in Havana in 1925, Cruz took up singing as a child an interest later encouraged by her aunt, who introduced her to the world of Cuba's nightclubs, according to Billboard A student of Cuba's Conservatory of Music, Cruz's career took off in 1950 when she joined La Sonora Matancera, one of Cuba's most prominent dance orchestras\n",
      "id: 13, spoiler: I know how all this works, but what I think is disrespectful is when people start making out that it's something I have said I've got three more years on my contract with United and the desire to win more titles here\n",
      "id: 14, spoiler: The protagonist of Malibu, the third short story in Ottessa Moshfegh’s new collection, spends his time making up job applications so he can continue to receive unemployment benefits and try to coax money out of his aging uncle, who has a colostomy bag and does little but eat fatty meals in front of daytime TV\n",
      "id: 15, spoiler: 117 billion\n",
      "id: 16, spoiler: The letter explained that once someone transforms into a pig, it's irreversible, and Miyazaki used the metaphor to describe the real world and how greed changes people\n",
      "id: 17, spoiler: The title, AlMaria says, is in part a reference to the American national holiday of shopping, but also a nod to the holy nature of Fridays in Islam The exhibition posits the thought that shopping malls have become a kind of replacement for religious structures in our contemporary consumer society, she says Gulf Futurism Black Friday sits comfortably in AlMaria's roster of projects Exemplifying of a new generation of creative polymaths, the writerfilmmakerartist has produced photos, directed films, written articles and screenplays, and published a critically acclaimed memoir, The Girl Who Fell to Earth In her memoir AlMaria talks about being brought up between two vastly different cultures Born to an American mother and a Qatari Bedouin father, she spent her childhood in the US before moving to Qatar There, she experienced the intense and rapid technological and cultural development of the Gulf Still from The Future was Desert Part II 2016 by Sophia AlMaria Witnessing this evolution inspired her to coin the term Gulf Futurism, inspired by the idea that time travel had literally occurred in one generation in Qatar, from a sort of preagrarian society at least in terms of Bedouin culture deep into hyper capitalism and consumerism, as AlMaria describes it Technopessimism More than anything, Gulf Futurism is perhaps an investigation into some of the more negative aspects of a hyperconnected digital society that can sometimes be a lonely place a perspective\n",
      "id: 18, spoiler: 1 Get an education\n",
      "id: 19, spoiler: Feline nails, unlike ours, are attached to their bones To remove them, vets have to cut through tendon and nerves in order to fully remove the nail and bone The human equivalent, as the Human Society of the United States describes it, is cutting off each finger at the last knuckle The gravity of the procedure is why lobbyists are hoping to make it illegal in New York It's the equivalent of taking a cigar cutter and cutting the end joint off, veterinarian Jennifer Conrad, who helped lobby for the cause, told a Daily Freeman reporter Kristine Brabson, site director of GoodHousekeepingcom and devout cat lover she has six of them, strongly opposes declawing It's torture to cats Why would Mother Nature give your cat claws, for you just to pay to rip them out?\n",
      "id: 20, spoiler: Michael Sam\n",
      "id: 21, spoiler: police in western Sweden initially thought a man whose car was stuck in the snow was Danish, but after a while they realized he slurring his words because he was drunk thelocalse\n",
      "id: 22, spoiler: Swoggi\n",
      "id: 23, spoiler: longline yellow raincoat\n",
      "id: 24, spoiler: The Polish Man Project’s At first glance, one painted fingernail on a guy might be determined to be ‘weird’ But upon further inspection, one could learn about the reason of the painted fingernail, and be referred to learn more about the project by visiting The Polish Man Project’s webpage On the website, people can donate to sexual abuse trauma and recovery prevention For this reason, The Polished Man Project is very worthy of attention and admiration Already, the project has taken off in Australia, parts of Europe, and the United States It has inspired countless men to raise awareness about sexual abuse against children, and has compelled some to ‘be the change’ by donating to recovery programs Remember, 1 in 5 children are – or have been – victims of sexual abuse Please raise awareness about this dilemma by sharing this article and commenting your thoughts below\n",
      "id: 25, spoiler: gender matters not when you're rocking the Force like you are\n",
      "id: 26, spoiler: The death of Officer Smith made Jessica think about her own family\n",
      "id: 27, spoiler: The poll finds that 28 percent of Americans think Typhoon Haiyan specifically was caused by climate change Another 32 percent said it was not, and 41 percent said they weren't sure Although scientists can't say with certainty whether a specific storm was caused by climate change, rising sea levels make storm surges from hurricanes and typhoons potentially more deadly in coastal areas, contributing to increased destruction\n",
      "id: 28, spoiler: 1 pm, one source with Clinton’s campaign said, the Democrats were worried Republicans were crushing the vote in the Panhandle, Southwest Florida and smaller conservativeleaning counties By 5 pm, our voters showed again, the source, not authorized to speak by the campaign, said We felt pretty good The size of the vote was historic in populous Democratic strongholds like Broward, MiamiDade and Palm Beach counties But turnout was even higher in Republican areas By the end of the night, Trump’s lead was so big that, even if turnout in Florida was modeled at 80 percent – far higher than recent elections – Clinton would still not win if she beat Trump by double digits\n",
      "id: 29, spoiler: Universal Basic Income\n",
      "id: 30, spoiler: 1 Iceland\n",
      "id: 31, spoiler: you know you’re in trouble when you get this look from your dog After being left for an appointment at the vet, this owner is coming back to pick up their dogand their dog let’s them know exactly how he feels about having been left at the vet\n",
      "id: 32, spoiler: So supermarkets egg us on to overlook what we already have and to buy much more than we need They encourage us to hazard a weekly guess about what we’ll consume, rather than focusing on what’s in our fridges and larders daytoday If the untouched remnants of last week’s order are stacking up in the fridge when the supermarket van arrives at our door, most people will consign them to the bin, schooled to believe, thanks to supermarket use by and best before dates, that judging freshness is best left to distant experts Once we sniffed the milk and pared mould off cheese, now we live in dread of poisoning\n",
      "id: 33, spoiler: Not many video game hardware projects are absolute nobrainers, but the Mini NES Classic Edition — officially going by the unwieldy name Nintendo Entertainment System NES Classic Edition — checks off all the boxes Not only does it give you serious bang for the buck by including 30 popular Nintendo games for a suggested retail price of just 60, but it allows people to stop using emulators or figuring out ways to get their original console to work with today’s TV tech\n",
      "id: 34, spoiler: They've been able to keep raising prices because students are 'captive consumers' They have to buy whatever books they're assigned, Nicole Allen, a spokeswoman for the Scholarly Publishing and Academic Resources Coalition, told NBC Some publishers contest the idea that textbook prices have risen exorbitantly, claiming that what may look like stark increases in percentages actually represent more modest increases in whole dollars\n",
      "id: 35, spoiler: While he listens to a bunch of different things at the gym, he keeps them all organized in one spot\n",
      "id: 36, spoiler: lazy isn’t necessarily a bad thing In fact, it can make you more successful Lewis said he doesn’t see laziness as a trait to avoid, because it focuses his efforts on the things that matter He explained that he doesn’t feel uncomfortable doing nothing, if nothing has captured his interest and it’s better to do nothing than waste time trying not to waste time He said People waste years of their lives not being willing to waste hours of their lives If you mistake busyness for importance, which we do a lot, you're not able to see what really is important Laziness, he said, stops you from wasting time on things that aren’t worth your time My laziness serves as a filter Something has to be really good before I'll decide to work on it This is coming from the man who’s written six books in the last ten years, while also working as an editor at Vanity Fair – so his advice may be worth listening to\n",
      "id: 37, spoiler: Austin\n",
      "id: 38, spoiler: ALS, which is also known as a motorneuron disease—and colloquially as Lou Gehrig's disease in the US—is a neurodegenerative disease Each muscle is controlled by motor neurons that reside in the brain in the frontal lobe These are controlled electrically and are synaptically connected to motor neurons that reside lower down in the brain—as well as motor neurons that reside in the spinal cord The guys in the brain are called the upper motor neurons, and the guys in the spine are called the lower motor neurons\n",
      "id: 39, spoiler: YInMn blue\n",
      "id: 40, spoiler: A study of 20 adults who wore either bluelight blocking or ultravioletlight blocking glasses for three hours before sleep found that both sleep quality and mood improved among those in the group who wore bluelight blocking glasses, compared to the ultravioletlight blocking group\n",
      "id: 41, spoiler: The bizarre bottle shape appears to have a red, green and white label and even a cork or cap at the end Scroll down for video Pareidolia is the psychological response to seeing faces and other significant and everyday items in random stimulus It is a form of apophenia, when people see patterns in random, unconnected data There have been multiple occasions when people have claimed to see religious images and themes in unexpected places On the red planet, one of the most famous is the 'face on Mars' spotted by one of the Viking orbiters in 1976 This was later proven to just be a chance alignment of shifting sand dunes The pictures were taken by Nasa's Spirit rover during a mission on the surface of Mars in November 2007 Vigilante Mars 'anomaly hunter' Thomas Miller, 64, spotted the strange shape while he was sifting through Curiosity's latest snaps of the red planet 'This find is exceptionally clear the design of the bottle is a bit different but recognisable,' Mr Miller, a Canadian musician, told MailOnline 'Of course there's no way to know for sure it's a beer bottle, I'm going out on limb calling it that 'If someday we visit their planet it would be nice to think we could sit down and have a beer with them'\n",
      "id: 42, spoiler: Only seven episodes into Season 5, Kristina is collapsing into happy tears at the podium as she campaigns for mayor, Amber and Sarah are screamcrying over wedding plans and Julia is an emotional wreck\n",
      "id: 43, spoiler: A census conducted in July 2015 showed that the city had a population density of over 27,000 people per square mile To put that into perspective, the US, on average, holds only 80 people per square mile That much combined body odor alone could be enough to scare anyone away With such an insanely huge number of people living in just one city, it should come as no surprise that there is also an insanely huge amount of garbage produced Although residents of the city produce 12,000 tons of waste every day, New York City doesn’t have any of its own landfills or incinerators Garbage piles up in dumpsters until it can all be taken across the Hudson River to be incinerated in New Jersey, or, if possible, recycled locally and overseas But even after most of this waste has been incinerated across the river, strong winds can still carry the stench back over to the city on a hot day\n",
      "id: 44, spoiler: Five raccoons were trapped inside the Coonskin Park trash receptacle, and one of those raccoons was like nothing he'd ever seen before As to how they got stuck, James said, The dumpster had apparently been emptied and the garbage level was low and the raccoons couldn’t reach the top to get back out And that rare raccoon?\n",
      "id: 45, spoiler: Jason Aldean\n",
      "id: 46, spoiler: she thought for a moment, then said ‘no’, and hung up The phrase ‘Harry pocketed it’ appeared in the next four books Perhaps JK Rowling really does belong in Slytherin?\n",
      "id: 47, spoiler: I decided to allot 30 days to complete the trail, even though the website also noted that you would need to hike 18 miles per day without any rest days to finish the trail in that time, which seems completely insane I repeated this process for every single task on Buzzfeed's lists Again, there are over a thousand individual tasks Here is a time table showing a small sample of the time I allotted for certain tasks Some of the lists contained fast, easy tasks that be completed entirely from your couch—like this one, which requires you to look at 20 pictures of miniature pigs before you die—but for most of them, you have to travel Some of the lists, like the Five Highest Places to Visit Before You Die, require you to jetset from the Haiku Stairs of Oahu, Hawaii to the Petronas Towers of Kuala Lumpur, Malaysia, to the Taihang Mountains in China In order to accomplish all of the tasks most effectively, you would need to travel the world So I decided to calculate the travel time that it would take to work your way around the world, in an order most efficient for accomplishing each of the BuzzFeed tasks I decided to begin my hypothetical bucketlist journey in Boston, where I live, and work my way west through North America\n",
      "id: 48, spoiler: I’m Gonna Be Ready by Yolanda Adams\n",
      "id: 49, spoiler: Expo markers\n",
      "id: 50, spoiler: The former Vanderbilt quarterback is set to appear on the SEC Network as a college football analyst this season, and an ESPN executive says Rodgers earned the role on his talent alone Our talent office had Jordan on their radar for some time His name was in the initial group of names that we discussed when looking at people to bring to Charlotte where the SEC Network is located for auditions, Senior VP Stephanie Druley told SIcom He played at Vanderbilt He played quarterback We had seen some interviews that he had done So we reached out to him Rodgers was unavailable for an audition at the time\n",
      "id: 51, spoiler: Thea The Awakening\n",
      "id: 52, spoiler: The show was consistently among the top five series we wrote about in terms of readership, and a welltimed thinkpiece always had the potential to blow up The Mad Men audience overlaps so neatly with the audience of people who read about TV on the internet that the Venn diagram of the two might as well be a single circle\n",
      "id: 53, spoiler: 1 Eat legumes Legumes and pulses, including baked beans, kidney beans, chick peas, lentils and split peas\n",
      "id: 54, spoiler: Pennsylvania\n",
      "id: 55, spoiler: The press release that was given fromlocated in SchleswigHolstein, shows that many of the stranded whales stomachs were actually filled to the brim with plastic debris, which includes a 70 cm piece of plastic known to be apart of a car, a 13meterlong fishing net, and a variety of other plastic debris that was found as well Clearly, with this much debris in a whales stomach, there is no possible way for them to digest and get the nutrition necessary in order to survive Having a full stomach and dying of starvation is one of the cruelest ways any marine animal could perish\n",
      "id: 56, spoiler: The older you are, the more likely you are to have ever remarried, because you have more time in your life to have married once, gotten divorced or widowed and found someone else and remarried, Livingston said Younger Americans went the opposite direction 75 percent of people ages 25 to 34 and eligible to remarry were remarried in 1960, while only 43 percent of that same demographic were remarried in 2013 It's very possible that this younger group of contemporary divorcees and widows hasn't soured on the institution of marriage completely, however Livingston pointed out that, since younger demographics have tended to delay marriage the average age of first marriage is now is about 27 for women and 29 for men, as opposed to 21 for women and 24 for men in 1960 perhaps this group is content to cohabit with partners or advance the relationship in other ways, rather than jump into marriage number two\n",
      "id: 57, spoiler: Amber Galloway Gallego\n",
      "id: 58, spoiler: parrot in the video below has a talent that you would definitely not expect Kili the Senegal parrot has somehow managed to become a master at playing dead We’ve all seen dogs do this trick really well, but this is the first time I’ve ever seen a parrot do it In all fairness, Kili has been practicing this move for about half a year know, and his owner says she’s only gotten better over time Kili can now lye motionless on her back for 10 seconds or more and keep her head down to the floor No matter what is going on around her, the parrot won’t move until she gets the cue If you wouldn’t know what was going on, you would totally think this parrot was dead And this is not the only trick she knows In fact, Kili’s owner managed to teach her over thirteen tricks In case you were wondering, Kili is of the species Poicephalus Senegalus which is a green and black parrot native to West Africa\n",
      "id: 59, spoiler: Miley Cyrus\n",
      "id: 60, spoiler: stressmanaging worksheet\n",
      "id: 61, spoiler: You will now be able to obtain all the rare Pokemon in Pokemon Go by using the trick All you’ll have to is to follow the steps of the following guide carefully Step 1 At first, you’ll need to use the items in normal ways Simply use the Lucky Egg to gain double XP for the next 30 minutes, or use the Incense to attract Pokemon towards your location\n",
      "id: 62, spoiler: When researchers hid in a public restroom in a Michigan college town, they reported that 10 percent of people didn't wash their hands after using the bathroom, and nearly one in four just rinsed with water\n",
      "id: 63, spoiler: Jussie Smollett\n",
      "id: 64, spoiler: If Mr Trump can’t reunify Republicanleaning voters, Mrs Clinton really could win in a landslide\n",
      "id: 65, spoiler: read the barcodes on your boarding pass and provide someone else access to your travel informationyour phone number, frequent flyer number, and information not only about the flight in question but also all future flights booked through the same number With access to your boarding pass, someone could even change your seat on the plane, cancel any future flights, and reset your account PIN number\n",
      "id: 66, spoiler: Delaware\n",
      "id: 67, spoiler: Kevin Hart\n",
      "id: 68, spoiler: 99 per year\n",
      "id: 69, spoiler: 25,000 per month\n",
      "id: 70, spoiler: 1 Goodbye Sapphire\n",
      "id: 71, spoiler: The university allows students like Gieselman to select their own identity — a new first name, regardless of whether they’ve legally changed it, as well as a chosen pronoun — and records these details in the campuswide information system so that professors have the correct terminology at their fingertips For years, writers and academics have argued that gender identity is not a malefemale binary but a continuum along which any individual may fall, depending on a variety of factors, including anatomy, chromosomes, hormones and feelings But the dichotomy is so deeply embedded in our culture that even the most radical activists had been focused mainly on expanding the definitions of the two preexisting categories Today, a growing number of students are embracing the idea that when it comes to classifying gender, there should be more than two options — something now afforded by the dating website OkCupid and by Facebook, which last year added a tab for custom alongside male and female, with some 50 options, including agender, androgyne, pangender and trans person, as well as an option for controlling who can see the customized version\n",
      "id: 72, spoiler: Doors open based on who you know\n",
      "id: 73, spoiler: 1 Museum of Modern Art\n",
      "id: 74, spoiler: Vegan athletes do need to be diligent about consuming sufficient protein, said Nancy Clark, a sports nutrition expert in Massachusetts and the author of Nancy Clark’s Sports Nutrition Guidebook Plants, seeds and soy provide protein but in a form that is less absorbable than protein from meat So you need to eat a lot of it, Ms Clark said I have clients who say, ‘Oh, I put a few chickpeas in my salad’ That’s not going to do it You need to eat cupfuls of chickpeas\n",
      "id: 75, spoiler: The inmate, Thomas McFadden, says returning to his old cell scared him But I always wanted to go back to Bolivia, and there was always a strong connection between me and Rusty Rusty Young wrote Marching Powder in his twenties, when as a young backpacker from Sydney, Australia, he stayed in the prison, and later helped secure Mr McFadden's release by posing as an international human rights lawyer\n",
      "id: 76, spoiler: it’s in orbit image analysis lead and paper coauthor Alex Parker tweeted If the moon is very dark, it accounts for most previous thermal measurements Makemake is the secondfarthest away of the official dwarf planets Eris is the farthest and the secondbrightest after Pluto While it may seem strange that astronomers had been able to see moons around farther and dimmer planets while missing Makemake’s moon, the reality is that this moon, informally called MK2, was very good at remaining hidden MK2 is over 1300 times dimmer and much smaller than Makemake, and its orbit appears to be edgeon to Earth, so we don’t see it circling Makemake, only oscillating back and forth Looking for it is like looking for it is like looking for a firefly flitting back and forth across a spotlight If you watch it long enough and are lucky enough to look at the right time, as this team of astronomers did, the firefly might look obvious in Parker’s words, not actually that faint, but it was easy to miss before Part of a team from the Southwest Research Institute in Boulder, Colorado, Parker was the first to notice Makemake’s moon in data from the Hubble Space Telescope\n",
      "id: 77, spoiler: Tokyo\n",
      "id: 78, spoiler: The cosmetics company has revealed that they'll be teasing their collaboration on Snapchat, the photo and videosharing app that deletes photos mere seconds after a recipient views them\n",
      "id: 79, spoiler: The Professional Golf Association PGA has decided to not hold their PGA Tour event at Miami’s Trump Doral resort Instead, they will be moving the prized golf tournament – which has been held in Miami since 1962 away to Mexico City It only took the New York real estate mogul and scam university pitchman four short years to destroy the relationship and lose the deal The orangefaced one is surely red in the face with embarrassment and rage as Mexicans publicly make a loser out of the profane bigot who dreams of building border walls at Mexico’s expense There is little doubt that the racist Republican’s presidential campaign has cost the vulgarian’s company the prestigious PGA Cadillac Championship tournament at Trump Doral Resort, home to the famed Blue Monster Mexican conglomerate Grupo Salinas has picked up sponsorship when no American corporation would, and the television production and financial service behemoth got the golf tournament location they wanted in return Mexico City\n",
      "id: 80, spoiler: he is totally killing it with the bearded look and thank god the daughter doesn’t realize how he looks, or else she would have made a disapproving and embarrassed face we all make when our fathers try too hard to be cute M S Dhoni is certainly spending quality time with his family as he takes a break from ODIs as the Indian cricket team prepares for their series with West Indies We are sure his daughter will look back at these pictures in happiness\n",
      "id: 81, spoiler: She started gaining weight in November 2013 She couldn’t tell why, since she had always been slender She went from 126 pounds to 224 pounds in two years When she went to her doctor to try to find a reason she was gaining weight so rapidly, they told her that it was just her metabolism slowing down, and if she wanted it to come off she should eat less calories So she did But even eating 1000 calories per day, nothing changed Not only that, but she experienced a rash on her face She decided to do some private research And when she paid for an MRI scan herself after doctors wouldn’t help her, she found that there was a 4 mm tumor in her brain\n",
      "id: 82, spoiler: Ask your barber to scissorcut the top of your head to about an inch and a half, adding a bit of texture to the ends with a razor\n",
      "id: 83, spoiler: The agent would not represent her unless she got eye surgery After describing her struggle over the decision, Chen showed before and after pictures of herself, saying that the procedure gave her bigger eyes and that she looked more alert than before Now, it's like I sometimes wonder — but I will say after I had that done everything kind of, the ball did roll for me I struggle with, 'Wow Did I give in to the man in doing this?' she said The revelation came as part of Secrets Week on The Talk, when one cohost reveals a secret everyday I don't like to live with regrets,\n",
      "id: 84, spoiler: The Best Skin Solution You've Never Heard Of Dr Oz had always kept this wrinkle secret reserved for his high paying celebrity clients until recently He said he felt like he had to let his viewers know because he was tired of hearing the countless stories of his viewers throwing away thousands of dollars on expensive anti aging products or dangerous surgical procedures that make big promises that often do far more harm than good As a result, a few weeks ago he shared the simple solution he had previously only shared with his celeb clients to everyone watching his show He actually discovered this anti aging miracle when multiple celebrity friends and clients were constantly reaching out to him hoping for a solution to look younger to prolong their career without going in for surgery\n",
      "id: 85, spoiler: going allout in a metcon workout can help you improve your work capacity, making your body more efficient for all those other activities you love doing, says Lawson In other words, you’ll have an increased ability to lift more weights, and go for longer periods of time and distances without getting tired, he says Basically, becoming a more awesome human overall Try It Yourself While there are tons of great metcon classes out there to choose from, you don’t have to shell out tons of cash on a fancy gym membership to give this workout a try Lawson suggests choosing three or four exercises and cycling through them with little rest between rounds or none at all for a predetermined number of rounds The more muscle groups each move works, the better Try this 5 dumbbell goblet squats 10 jumping jacks 5 dumbbell push presses 5 medicine ball slams Rest for zero to 30 seconds rest between exercises, and zero to 60 seconds of rest between rounds The more fit you are, the less rest you’ll need Repeat three to five times depending on your level of fitness When you first get going, Lawson suggests starting with just three of the exercises above instead of all four Decreasing the number of total rounds you complete, as well as increasing the amount of rest time between each exercise, will allow you to work your way up to more intense workouts in a safe yet effective way, says Lawson\n",
      "id: 86, spoiler: The pop star uploaded a photo of her posing with the flowers to Instagram, writing, Congrats to all the samelove couples tonight\n",
      "id: 87, spoiler: The Netherlands launched legal proceedings against Russia on Friday, saying it had unlawfully detained Greenpeace activists on a Dutchregistered ship for protesting against oil drilling in the Arctic Two Dutch citizens were among 30 people on board the Arctic Sunrise, a Greenpeace ship, which was seized by Russian authorities last month after activists staged the protest at the Prirazlomnaya offshore oil platform\n",
      "id: 88, spoiler: nurse from Accra, Ghana\n",
      "id: 89, spoiler: World War I\n",
      "id: 90, spoiler: A photograph of a doormat glued to two pieces of foam\n",
      "id: 91, spoiler: 1 A SINGLE TABLESPOON HAS MORE SUGAR THAN A CHOCOLATE CHIP COOKIE\n",
      "id: 92, spoiler: Hooters girl As a teenager, she wanted to be a corporate lawyer and needed to save for college So, at age 17, she became a hostess at a local Hooters and then, when she turned 18, a waitress — a Hooters girl But she was a gogetter and by 19 was asked by the company to travel to different countries to help open foreign markets At 23, she was in charge of global training for employees and managers She never finished the bachelor’s degree, although eventually she got her MBA I was lucky that Hooters wasn’t a more sophisticated company, because there’s no way someone my age would have had had those chances, she said It wasn’t like people graduating from Ivy League schools were dying to get a corporate job at Hooters Richard Branson Position Founder and Chairman, Virgin Group Unusual Start Hit record producer Branson started a magazine when he was only 16, but really set off his career as an entrepreneur at 22 when he opened a recording studio and brought in singer Mike Oldfield The result was a single called Tubular Bells, which stayed on the UK charts for close to five years On the back of that, we built a record company, and one thing led to another, he told BusinessInsider Mark Cuban Position Owner, Dallas Mavericks, Coowner, WagnerCuban Companies, Chairman and CEO of AXS tv, investor Unusual Start Disco dancing instructor Mark Cuban was an entrepreneur from his early years, when he sold garbage bags to pay for basketball shoes when he was 12 He started a number of businesses when a student at Indiana University, but the most colorful had to be teaching disco dancing\n",
      "id: 93, spoiler: Bugatti Type 57S\n",
      "id: 94, spoiler: I like Donald Trump because he speaks from the heart\n",
      "id: 95, spoiler: Peter Pilotto\n",
      "id: 96, spoiler: polycystic ovarian disorder\n",
      "id: 97, spoiler: I had my full security, like, I was like, 'Find Donald Trump,' she told Norton\n",
      "id: 98, spoiler: Nebraska\n",
      "id: 99, spoiler: cancel the Paris Climate Plan\n",
      "id: 100, spoiler: 1 Adventurous Christmas Chile\n",
      "id: 101, spoiler: NEW REALITY\n",
      "id: 102, spoiler: A new survey says that, not taking into account sleeping time, Thai people spend the majority of their waking hours being completely sedentary We’re talking 14 hours that are spent not using their bodies for much of anything\n",
      "id: 103, spoiler: We are sorry to confirm that a serious issue exists in the Xbox One Terraria update that was published on July 6, version KTCP20160531, 505 said We are sorry to confirm that a serious issue exists in the Xbox One Terraria update that was published on July 6, version KTCP20160531, 505 said via VideoGamercom Online multiplayer is broken, and players should avoid trying to use that game mode for now Singleplayer and local multiplayer are not affected, and can be safely used\n",
      "id: 104, spoiler: raw apple and raw lettuce\n",
      "id: 105, spoiler: A simple way to prevent the severe and deadly reaction is with an EpiPen which injects a measured dose of epinephrine into your body to stop the reaction, but it must be taken in a very short time window after being stung\n",
      "id: 106, spoiler: fettuccine Alfredo\n",
      "id: 107, spoiler: The pungent smell of taurine, acid, and a million different chemicals is enough to have me running for the hills But for some people, energy drinks are a habit that’s as hard to break as the strongest alcohol or drug addiction\n",
      "id: 108, spoiler: Delores Curtis\n",
      "id: 109, spoiler: no properties were lost during a bushfire around the town of Gwindinup southeast of Bunbury\n",
      "id: 110, spoiler: Margaret Osuma Oshien from Siaya, Kenya — A person who received just under 1,000 cash unconditionally from GiveDirectlyorg My wife, Adrienne, and I are longtime supporters of unconditional cash giving From handing 5 to a homeless person on the street in Manhattan to raising 450 to give to a working father of one in rural South Africa — we believe in the virtues of sharing abundance in an empowering fashion that enables people to decide how best to allocate their resources themselves When we found GiveDirectly in November 2015, an org that gives 1,000, unconditionally, to people who are in extreme poverty, as a solution to get them out of extreme poverty, we fell in love Unconditional — they can do anything they want with it — which is incredibly empowering to recipients, but many people in ‘the west’ think it’s riskyor even foolish We’ve told countless friends and family about GiveDirectly, and the concept of transferring cash is met with much skepticism soliciting responses such as eh, I only give people food, and others such as How do they make sure people aren’t defrauding them or stealing the cash?\n",
      "id: 111, spoiler: The logic of the drugs war only leads one way the police get smarter, so the criminals get nastier things can only ever go from bad to worse, from savagery to savagery, says Woods Now, after having left the force, he is chairman of LEAP UK Law Enforcement Against Prohibition, a prodrug legalization activist group consisting of exlaw enforcement officials But to what extent are Woods and his colleagues at LEAP UK—and those currently employed in the police force—rare specimens?\n",
      "id: 112, spoiler: the parasite has to steal food from the host, and the host has to suffer as consequence The people who were not able to eat that delicious spiced chicken because, gross, a bird was in it, definitely suffered And it's not just human food Gulls and some other birds will steal food right from the clutches of other birds, midflight Seabirds breaks down the percentage of which species of seabirds get their food from robbing There are some, like the Arctic skua aka the parasitic jaeger, that feast primarily on the food of others Gulls are what's known as opportunistic kleptoparasites, meaning they don't derive 100 percent of their diets from heist but rather just steal when the opportunity arises And a big vat of tikka masala is an opportunity no gull can afford to miss\n",
      "id: 113, spoiler: The original title of Stephen King's novella doesn’t do any better job telling you anything about what the movie actually is, Hearing that the reason the title was shortened was so that it could fit on theater marquees is almost quaint\n",
      "id: 114, spoiler: Shamus Beaglehole Wins 2014 Name of the Year ContestShamus Beaglehole Wins 2014 Name of the Year Contest\n",
      "id: 115, spoiler: A new hightech, controversial law enforcement procedure has some people worried it threatens the privacy of our DNA\n",
      "id: 116, spoiler: West Midlands\n",
      "id: 117, spoiler: 1 He started out by filling all of these bread tins with water and food colouring\n",
      "id: 118, spoiler: Little White LI n the Superman comics there is a character called Bizarro, a twisted, villainous inversion of the iconic hero Bizarro looks and acts like Superman but lives by the exact reverse logic he says adjectives to mean their opposite, he sees it as a crime to do good, and so on\n",
      "id: 119, spoiler: Receive a free burger up to 10 value with the purchase of an adult entree on Sunday at Ruby Tuesday RT\n",
      "id: 120, spoiler: investors are basically banging down the door for the guarantee that they will only lose a little bit of money over the next decade or two\n",
      "id: 121, spoiler: 29cent washcloths\n",
      "id: 122, spoiler: J Crew\n",
      "id: 123, spoiler: Andy Stern\n",
      "id: 124, spoiler: One reason is practical because the movies are 80 or 90 minutes long, and Disney films are about growing up says Hahn Bambi's mother gets killed, so he has to grow up Belle only has a father, but he gets lost, so she has to step into that position It's a story shorthand Hahn went on to explain that this isn't a method Disney created himself, but one that he borrowed from many of the fairy tales his movies were based on But that's not the only possible reason for the lack of motherhood in his movies\n",
      "id: 125, spoiler: Trump’s role in the porn is relatively benign and centers around him breaking a bottle of champagne on a Playboybranded limo while several of the playmates are visiting New York City BuzzFeed News obtained the footage from the onlineonly Buffalo, New York–based video store Cinema Cornucopia Other scenes from the film feature fully nude women posing in sexual positions, dancing naked, touching themselves while naked, touching each other sensually, rubbing honey on themselves, taking a bath, and dressing in costumes The VHS cover of the video reads From luxuriating in a warm, soapy tub, to reveling at an exclusive night club, Carol and Darlene bare their sex appeal and lead you on a sensual journey of discovery On a bus tour hunt for the 2000 Playmate of the Year around the country, the Playmates travel to different cities including New York, Las Vegas, Chicago, Nashville, and San Diego Trump welcomes the Playmates in New York and pops a bottle of champagne to kick off the New York stop Trump then pours it over the Playboy bunny logo Beauty is beauty, and let’s see what happens with New York, Trump says Trump on Friday attacked former Miss Universe Alicia Machado, who has spoken out about how Trump treated her in the late 1990s, for her sex tape — a grainy nightvision video of her having sex while appearing on a reality show False rumors spread on rightwing websites earlier this week that Machado appeared in a number of online porn videos The videos under her name on porn sites around the web don’t feature the former beauty queen\n",
      "id: 126, spoiler: 1 First of all, we can't talk about jeans without stating how good Kendall Jenner looks in hers\n",
      "id: 127, spoiler: Smooth, pink, fleshy, and unbearably smelly, this chunky conundrum simply couldn’t be identified – at least at first Mark Watkins, a fisherman of 21 years, had clearly never seen anything like it When we got closer we realized it had to be a dead whale because of the smell, he told the West Australian Its stomach was full of gas so it was all bloated up The stomachs of whales tend to be full of gas during life, but this is normally kept under control Floating up to the surface some time after death, the Sun's rays began to hit the whale's abdomen, causing the gases to expand and ultimately forcing the stomach to swell up\n",
      "id: 128, spoiler: He sounds like an actor unsure of his character, without a director to indicate who he’s supposed to be\n",
      "id: 129, spoiler: The fact that the Playstation 4, which is still a relatively beefy system three years postlaunch, needs an upgrade reeks of the days of gaming past, when kids had to walk uphill both ways to find an N64 ram pack so they could finally play coop Perfect Dark Needless to say, pundits, hardcore gamers and industry leaders aren’t impressed Yes, technology is moving faster than ever, but had even a whiff of this been known back when Sony was the altruistic heroes of the Xbox DRM meltdown before the launch of the nextgen systems, most gamers may have saved up their cash for a gaming PC\n",
      "id: 130, spoiler: The warehouse retailer’s 16year partnership with has expired, and as of June 20 members who had Costco AmEx cards should switch over to the new Costco Visa Anywhere card is now the only credit card accepted at Costco Debit cards, EBT cards, and cash are still accepted as payment too Costco members who have Costco AmEx accounts should have already been sent new Costco Visa cards in the mail automatically In many ways, the card change works to the benefit of Costco members The new Visa cards provide members with 4 cash back on up to 7,000 of gas purchases annually, plus 3 back on restaurant and eligible travel purchases, 2 back for Costco purchases, and 1 back on everything else The old Costco AmEx card, by comparison, gave 3 cash back on gas purchases up to 4,000 annually In the case of both of the new and old Costcoaffiliated credit cards, the cash back can be redeemed only at Costco What’s more, Costco now accepts any Visa card, so you don’t need to use the one the retailer sent as a replacement for the old AmEx card And there may be times when you probably should use a nonCostco Visa card for your Costco purchases For instance, the Chase Freedom Visa card is offering an outstanding 5 cash back on purchases at warehouse clubs such as Costco, BJ’s, and Sam’s Club\n",
      "id: 131, spoiler: online gaming eventually gave him a sense of purpose\n",
      "id: 132, spoiler: Howard has been told he resembles the infamous dictator since 2011, when Kim took power In full makeup, hair and suit, the two are almost indistinguishable According to Barcroft TV, it was only when a picture of Howard went viral on Facebook last April that Howard decided to embrace the accidental fame He then capitalized on his physique by setting up a Facebook page to advertise his services as an impersonator\n",
      "id: 133, spoiler: 1 participant out of 85 correctly recalled the Apple logo, and fewer than half of all participants correctly identified the logo, the researchers wrote\n",
      "id: 134, spoiler: not having the opportunity to see one another to discuss trial strategies and pray together My right to live is being violated,'' defendant Ryan Bundy wrote All of my First Amendment rights are being violatedI am not allowed to see my brother and move aboutThis violates my freedom of assemblyMy Second Amendment rights are being violated I never waived that right''\n",
      "id: 135, spoiler: frostbite\n",
      "id: 136, spoiler: whitewashing\n",
      "id: 137, spoiler: Christine Tink Newman\n",
      "id: 138, spoiler: discarded under beds and women flashing the porter\n",
      "id: 139, spoiler: Bad languageill thoughtsrude ideasnegative radical viewsI don’t need httpstcoXPOTE6lz80 — Shah Rukh Khan iamsrk July 11, 2016 Well, it’s okay to promote your favorite celebrity but it’s surely wrong to deliberately abuse others\n",
      "id: 140, spoiler: José José\n",
      "id: 141, spoiler: 634 billion\n",
      "id: 142, spoiler: The unemployment rate in November fell to 46 percent, the lowest in nine years, the Labor Department said earlier this month To compare When President Obama took office in 2009, the unemployment rate was at 78 percent With 14 total world championship medals, 19yearold Simon Biles arrived in Rio already a star It was her nearperfect performance at the Olympics, however — which netted four golds and a bronze — that cemented her legacy as the greatest female gymnast who ever lived No matter what team you root for, it was hard not celebrate alongside the Chicago Cubs after they won their first World Series in 108 years\n",
      "id: 143, spoiler: Thousands of genes have evolved recently in the last 40,000 years Changes we are seeing include smaller brains more efficient, not dumber, resistance to diseases, increases in ADHD and blue eyes Yes, blue eyes Genetic analysis says the first blueeyed human appeared 6,00010,000 years ago somewhere in the Black Sea region For whatever reason, the phenotype became very popular conferring a 5 greater chance for reproduction and today about half a billion blueeyed folk exist Another famous example is HgbS sickling hemoglobin, a gene that makes humans immune to malaria Malaria is the number one killer of humans, so it makes sense that a mutation eventually arose that makes human red blood cells resistant to the malaria parasites, and for the gene to rise in frequency in malariaprone populations subSaharan Africa Unfortunately, the same gene also causes sickle cell anemia We all have two copies of every gene in our body one from mom, one from dad, and if one copy is the malariaresistant mutant HgbS, you're fine, but if both are the mutant, you get sickle cell disease\n",
      "id: 144, spoiler: The bench allowed a plea of a Mumbaibased 22yearold woman to terminate her pregnancy after taking into account her medical report which of a team of seven doctors of King Edward MemorialKEM hospital in Mumbai\n",
      "id: 145, spoiler: Delayed panic\n",
      "id: 146, spoiler: The team, led by Sascha Usenko, a environmental scientist at Baylor University in Waco, Texas, extracted an earplug from a blue whale Balaenoptera musculus killed in a collision with a ship off the coast of Santa Barbara, California, in 2007 and found it had come into contact with several organic pollutants and contained high levels of the stress hormone cortisol as it reached sexual maturity It’s difficult to recover timespecific information on chemical exposure for almost any animal, says Stephen Trumble, a biologist also at Baylor and a coauthor of the study, published in Proceedings of the National Academy of Sciences this week That is especially true of the relatively rare blue whale, the world’s largest inhabitant Decimated by historic whaling practices, blue whales number just 5,000–12,000 individuals worldwide, and they are threatened by entanglement in fishing nets, environmental noise and pollution\n",
      "id: 147, spoiler: Sanatan Dharma Mandir\n",
      "id: 148, spoiler: No, she apparently replied, before pointing at the policeman and adding But he has The group were still none the wiser and left without realising whose company they had just shared Balmoral Castle and Estate was purchased by Queen Victoria and passed down to members of the Royal family The grounds are opened to the public from May to July each year\n",
      "id: 149, spoiler: Sunday, May 8, at 7 pm UK time 2 pm Eastern time, and physically June 17\n",
      "id: 150, spoiler: I think it depends on the attitude you take towards it, basically If you say, yes, Potter was the biggest thing that I'm ever going to do and I'm never going to come close to that again, and it's going to hold me back from getting parts, then probably all of those things will come true But if you take the attitude that this is the most amazing platform, in a way, to get set for a career in the world, it's an amazing start to have had and it's something that can be capitalized on rather than being something that holds you back And I just have such fun doing my job, as well Like, the most interesting way for me to do it is by picking diverse, varied things like The F Word and Kill Your Darlings And I think there's definitely an element of you grow up for 10 years on a set and you don't really have peers when you're 12 or 13 that you look to in other films When you're 16 or 17, you start becoming aware of guys like Aaron Johnson or Eddie Redmayne or Ben Whishaw or James McAvoy And you start being fans of them and you also start kind of going, Oh, I want to do what they're doing I want to have loads of different parts as well So it builds up this desire to get out there\n",
      "id: 151, spoiler: The Rock, which sits out on the water off Zanzibar's Michanwi Pingwe beach\n",
      "id: 152, spoiler: Jackson Vroman\n",
      "id: 153, spoiler: 1 Ideas Have Consequences by Richard Weaver Originally published in 1948, Ideas Have Consequences foresaw the corrosive influences of moral and cultural relativism decades before the Left harnessed those forces to undermine Western civilization One of America’s greatest conservative intellectuals and an esteemed twentiethcentury rhetorical scholar, Richard Weaver erected an intellectual fortress around Absolute Truth long before progressives mounted their frontal assault on notions of right versus wrong, good versus evil 2 The Road to Serfdom by FA Hayek In the age of Bernie Sanders, today’s young generation of wouldbe socialists would do well to read Friedrich Hayek’s 1944 classic broadside against socialism, The Road to Serfdom A member of the Austrian School of economics and a winner of the Nobel Prize in economics, Hayek warned of the totalitarian realities of socialism’s conceits As he put it elsewhere A claim for equality of material position can be met only by a government with totalitarian powers 3 The Closing of the American Mind by Allan Bloom Long before antiMILO rioters sparked violence at UC Berkeley, a University of Chicago professor named Allan Bloom lit academia ablaze with this 1987 classic taking the professoriate to task for eroding higher education curriculum with progressive pablum\n",
      "id: 154, spoiler: A decade ago, a group at MIT demonstrated the ability to look through a sealed envelope using terahertz waves – the band of electromagnetic radiation between microwaves and infrared light\n",
      "id: 155, spoiler: she can cost you time every single day of shooting wardrobe issues, not getting out of the trailer, questioning the script every single day Except it wasn't just Heigl causing problems on set her mother was often part of the problem The Life As We Know It source added I have never experienced anything like Nancy Heigl It's about the mouth 'F you You are a fing liar' Whatever you'd say, you were an idiot The call would be, 'This is the worst craft service we've ever had There's nothing to eat This is the worst wardrobe' You knew that every day, you were going to get slammed\n",
      "id: 156, spoiler: Kiwi The kiwi or kiwifruit is a small, ovalshaped fruit popularly associated with New Zealand even though it is grown in numerous countries There are both green and gold varieties, but green kiwis are produced in greater numbers Kiwifruit possess numerous vitamins and minerals, most notably vitamins C and E as well as potassium and folate Some research has found that eating kiwi can improve sleep In a study, people who ate two kiwis one hour before bedtime found that they fell asleep faster, slept more, and had better sleep quality It is not known for sure why kiwis may help with sleep, but researchers believe that it could relate to their antioxidant properties, ability to address folate deficiencies, andor high concentration of serotonin Tart Cherries and Tart Cherry Juice As the name indicates, tart cherries have a distinct flavor from sweet cherries Sometimes called sour cherries, these include cultivars like Richmond, Montmorency, and English morello They may be sold whole or as a tart cherry juice Several studies have found sleep benefits for people who drink tart cherry juice In one study, people who drank two onecup servings of tart cherry juice per day were found to have more total sleep time and higher sleep efficiency These benefits may come from the fact that tart cherries have been found to have aboveaverage concentrations of melatonin, which is a hormone that helps regulate circadian rhythm and promote healthy sleep Tart cherries have been found to have aboveaverage concentrations of melatonin, which is a hormone that helps regulate circadian rhythm and promote healthy sleep\n",
      "id: 157, spoiler: ‘Presto How I Made Over 100 Pounds Disappear and Other Magical Tales’ outlines his weight loss journey in hilarious detail but actually cautions readers that he does not actually recommend his method ABC Breaking News Latest News Videos\n",
      "id: 158, spoiler: applying your foundation, blusher and concealer incorrectly can add decades to your looks\n",
      "id: 159, spoiler: Jay Pharoah\n",
      "id: 160, spoiler: Idaho\n",
      "id: 161, spoiler: In 2012, Standford University did research into why this is According to neuroscientist Bob Dougherty, The right patterns of ink on a page can create vivid mental imagery and instill powerful emotions Your brain does amazing things while you’re reading, the breadth of which researchers are still defining And by placing yourself into the world of a great novel, you are given the chance to experience something new that could be informative in your interactions with other people This compassion was notably detected in children reading Harry Potter\n",
      "id: 162, spoiler: It makes me sick, Katrina Henry told CBS affiliate WDJT in Milwaukee Distressed by what it showed, she said, That’s not me I would never do something like that But in the grip of her addiction, she did Jon Adams said he started recording after someone called 911 to get the woman help People need to see what happens, Adams said in the video As the drugs overwhelmed her, Henry lost control and crashed into a parked car, unconscious behind the wheel Luckily, no one was hurt, but Henry knows it could have been much, much worse I can’t bring myself to think about it, Katrina told WDJT I do, and I hate myself so much\n",
      "id: 163, spoiler: It doesn’t matter if someone’s favorite rapper is Kodak Black or Kendrick Lamar—it doesn’t in any way reflect someone’s intelligence Now, I can’t really speak on the actual IQ numbers of the people I know, but I can say with confidence that I know a lot of very intelligent people who like rappers who aren’t considered lyrical rappers My sister, who does have a giftedlevel IQ, has become a big Future fan One of my college roommates frequently listens to Migos, and he will be attending law school next fall My girlfriend, who is an awardwinning writer, and who could run laps around most people with her expert grasp of language, gets hype to Flocka like none other My favorite hip hop project of the year if I’m not considering the force that is Death Grips’ Bottomless Pit a rap album, which I’m not is Lil Yachty’s Lil Boat mixtape, and I just graduated from my liberal arts college with departmental honors And I think Minnesota Remix, which ironically features Quavo of Migos and Young Thug, is one of the most fun hip hop songs I’ve heard all year\n",
      "id: 164, spoiler: Ernestine Shepherd\n",
      "id: 165, spoiler: synaptic pruning\n",
      "id: 166, spoiler: If they managed to nab 11 extra medals in London, when their doping program was still relatively new, you can bet they could get at least that number and then some Noland figures the Russians would have come away with about 80 medals\n",
      "id: 167, spoiler: huge penis\n",
      "id: 168, spoiler: 1 Don't touch her bump\n",
      "id: 169, spoiler: I got off benefits and wrote the first four Harry Potter books as a single mother, but nothing makes me prouder than what Jessica told me recently about the first five years of her life ‘I never knew we were poor I just remember being happy’ Despite her fame and success, Rowling writes that the single parent stigma persisted There was still no escaping the Single Parent tag it followed me to financial stability and fame just as it had clung to me in poverty and obscurity, she wrote I became Single Parent Writes AwardWinning Children’s BookEarns Record American AdvanceGets Film Deal\n",
      "id: 170, spoiler: 765,759\n",
      "id: 171, spoiler: laws that make it illegal for people under age 21 to drink are linked to lower rates of drunkdriving deaths among young people Researchers also found that current drinking restrictions have not resulted in more binge drinking among teens, as some have suggested Recent research has reinforced the position that the current law has served the nation well by reducing alcoholrelated traffic crashes and alcohol consumption among youths, the researchers wrote in their study published today Feb 24 in the Journal of Studies on Alcohol and Drugs\n",
      "id: 172, spoiler: Oregon\n",
      "id: 173, spoiler: Almost every space pops with color\n",
      "id: 174, spoiler: Ronaldinho\n",
      "id: 175, spoiler: Alister Jennifer Lawrence\n",
      "id: 176, spoiler: Julie Apicella lost her beautiful girl Emily after a threeyear battle with cancer, and while this amazing mother got the chance to get a photo of her little girl’s first day of school back in 2015, when it came time to do the same thing the next year it was too late Julie took a photo of where her daughter stood a year before, with her future ahead of her, only her daughter wasn’t there anymore While it’s heartbreaking to realize what this mother must be going through, she somehow had the clarity of mind to write a thoughtful post about never taking things for granted and helping spread awareness of children’s cancer The main problem is no one seems to really think about children’s cancer, and without that awareness it doesn’t make much money in the fundraising sense Precious money needed to fund research to help save more children’s lives One in 285 is a scary number to think about, but we have to think about it to help kids like Emily So if you see anyone with a golden ribbon, you can now know that it’s to help fight children’s cancer\n",
      "id: 177, spoiler: The drop in price seems reactionary, a reflection of some sellers’ fear that the market would implode\n",
      "id: 178, spoiler: tahini\n",
      "id: 179, spoiler: Greg Puciato\n",
      "id: 180, spoiler: The mischievous bear entered the Colorado Cherry Company by breaking through a window and climbing onto the oven, where he proceeded to eat two dozen pies as well as bags of cocoa and a bag of sugar, the owner's daughter Mikaela Lehnert told The Guardian While it sounds as if the bear was indiscriminate in his tastes, he actually had quite the discerning palate He went for the apple and the cherry and left behind the strawberry rhubarb, so he was a picky little guy\n",
      "id: 181, spoiler: paper bag\n",
      "id: 182, spoiler: But it now seems that by cutting a small cross in the base of each sprout all this time, we have all simply been doing it wrongly And instead of boiling them, we should be steaming, stirfrying or even microwaving Brussels to get that perfectly crunchy consistency\n",
      "id: 183, spoiler: a moisturizer that locks in moisture and provides some protection of the dermis to encourage healing, but still lets the skin breathe\n",
      "id: 184, spoiler: Jimmy Smits\n",
      "id: 185, spoiler: FreeBSD is a venerable operating system, often deployed on servers due to the project’s focus on performance and stability At the beginning of April the FreeBSD project released version 103 of their operating system The release announcement for FreeBSD 103 mentioned several features and improvements which caught my attention Specifically the availability of ZFS boot environments, 64bit Linux compatibility and jail improvements were of interest to me I was especially eager to try out FreeBSD’s new jails technology using the iocage frontend The iocage software has been presented as an improvement on and replacement for Warden, a friendly frontend for handling jail environments One of the first things I wanted to do was experiment with boot environments For those who have not used them before, a boot environment is basically a snapshot of our operating system Before performing any major configuration change or software upgrade we can take a snapshot of the operating system This gives us a point in time when we knew the operating system was working We then perform any changes or upgrades we want When we boot the system we can choose, from the boot menu, which snapshot we want to use This allows us to effectively move backward in time and boot older copies of the system This makes the operating system virtually bullet proof as almost any change short of hardware failure can be fixed by simply rebooting and selecting to boot an older copy of the operating system\n",
      "id: 186, spoiler: 1 Stand in front of her with 1 to 15 meters between you 2 Have a relaxed, easygoing smile 3 Is she hasn’t already looked up at you, simply get her attention with a wave of your hand Wave your hand in her direct line of vision so she can’t ignore it 4 When she looks at you, smile and point to her headphones and say, Take off your headphones for a minute and pretend to be taking headphones off your head, so she fully understands If she doesn’t understand most women will, simply gesture that you want to talk to her by briefly pointing back and forth from you to her and say, I want to talk to you for a minute In most cases, you won’t have to go to that extreme, but some girls are shy and will be hesitant to take the headphones off right away because they are feeling a lot of nervousness and excitement about what is happening 5 Then, do what we call Acknowledging the Awkwardness by quickly mentioning something about the awkwardness of the moment see the conversation example below, to demonstrate you understand that approaching a woman in this way isn’t the most common of experiences for either party\n",
      "id: 187, spoiler: He said Take this moment to listen and try not to give me a hat or whatever you’re trying to throw onto the stage right now, because I probably don’t want that shit In fairness to Biebs though, he quickly apologised for his behaviour, saying it was a bit ‘mean’ before launching into a nonsensical rant about the meaning of life Getty He babbled I just wanted to take this moment to acknowledge the fact that we all have a purpose, that we all have a meaning to life and it’s not, like, we just don’t live to die And this life is not all struggles I know that sometimes when we wake up in the morning, and it’s like ‘God another day’ When he finally stopped spouting the verbal equivalent of mattress filler he offered another apology, telling the fan Sorry for throwing your hat, but you ruined the moment Fair enough Justin, you’re still a bag of dick tips though\n",
      "id: 188, spoiler: 4 Kingdom Hearts 3 For a certain segment of fans, the Kingdom Hearts games are a dream come true They combine beloved Disney characters with fan favorites from Square Enix’s Final Fantasy series If you happen to fit into the target audience, chances are you’re well aware of this longrunning series The original Kingdom Hearts came out for PlayStation 2 in 2002 and has seen seven sequels in the interim So it’s kind of strange that the series hasn’t managed to produce a third official installment, instead sticking to prequels, remakes, and — some would say — filler Never fear A third installment is on its way, and it’s coming only to PlayStation 4 and Xbox One No release date has been set, but have faith that this one will actually happen When we might see it Hopefully by 2017 3 Final Fantasy XV Fun fact The game that’s currently called Final Fantasy XV began under the title Final Fantasy XIII Versus, which was first shown to the public way back in 2006 Here we are closing in on a decade later, and this game still hasn’t make it to market\n",
      "id: 189, spoiler: thrust his ratherdeadly gun complete with ratherpointy bayonet in his face\n",
      "id: 190, spoiler: The girl was playing hideandseek with her friends around 9 pm at the Waterside Gardens apartment complex in Brick, New Jersey, when two men approached her, police said The men called to the girl to come with them, and when she refused, they followed her, according to police One of the men then allegedly told her that he would force her to go and grabbed her by the arm\n",
      "id: 191, spoiler: Laura Bush\n",
      "id: 192, spoiler: Michael Brain\n",
      "id: 193, spoiler: The Rolling in the Deep sing admitted the news to a sea of fans in America Talking to the onlooking crowd, Adele admitted I can’t eat pizza anymore guys, how bad is that?\n",
      "id: 194, spoiler: a female fan suddenly reached up from the audience and tried to grab a piece of the 33yearold performer's glutes Undeterred by the handsy fan, JT managed to swat away the woman while still keeping rhythm\n",
      "id: 195, spoiler: It's not realistic to expect we wouldn't have any pesticides in our bodies in this day and age, but that would be the ideal We just don’t know enough about the health effects Some organic food skeptics have also pointed out that nonsynthetic pesticides are used on some organic farms as well and the science is still hazy as to whether or not those compounds have ill effects\n",
      "id: 196, spoiler: 1 Because with 300 days of sunshine, Colorado is one of the sunniest places in America And who doesn't love a sunny day?\n",
      "id: 197, spoiler: 234,000\n",
      "id: 198, spoiler: We feel we need to invest, to build some breathing space, Lego's finance chief John Goodwin explained Lego, a familyowned company founded in Denmark in 1932, has enjoyed booming growth for decades\n",
      "id: 199, spoiler: I’m not killing off Harrison Ford at the end of it\n",
      "id: 200, spoiler: New generation epassport featuring enhanced security features such as biometric details may soon be rolled out by the government Minister of State for External Affairs V K Singh said in the Lok Sabha that the government was in the process of procuring devices for epassport\n",
      "id: 201, spoiler: 1 The action’s going to pick back up in Fall of 1984 So plan accordingly by getting all your friends the correct walkie talkies to discuss the finer points of Steve’s hair\n",
      "id: 202, spoiler: John Slattery\n",
      "id: 203, spoiler: The guy bought a used car through the local police department, thinking he’d get a great deal on a car that had been confiscated The car needed some fixing, so in order to save money, he tried to do the repairs himself When he tore through the plastic on the inside of the door, he noticed something A black bag, hidden inside Inside the bag were bricklike objects covered in tape Unwrapping them revealed the last thing he’d ever expected to find stacks upon stacks of bills\n",
      "id: 204, spoiler: slowed his vehicle in a treecovered section of the road\n",
      "id: 205, spoiler: 35yearold man from Bhiwandi who used his fourwheeler to ferry school children, has been arrested for allegedly raping two minor girls for the last six months, police said today The accused molested and raped the victims, aged around 8 to 9, on several occasions inside his SUV and also at some other secluded places in the past six months, the officer said It is suspected that Manera might have sexually abused more girls travelling in his car and as of now only two have disclosed about the offence It was only after the teachers enquired with the parents of the victims about their absence from the school, the offence came to the light The two girls confided in their parents and told them about their sexual abuse The parents then informed the school authority about it and subsequently a case was lodged by a teacher, Jadhav said The accused has been charged under sections 376 rape, 323 voluntarily causing hurt, 506 criminal intimidation of the Indian Penal Code and under relevant sections of Protection of Children from Sexual Offences POCSO Act2012, he said, adding, further probe was on\n",
      "id: 206, spoiler: Ailish Sheehan\n",
      "id: 207, spoiler: We risk feeling bad about ourselves and feeling incompetent when we constantly compare present state to our final goals, which can only lessen our chances of making progress We are prone to the feeling of failure and depression when our goals can’t be achieved The increased amount of stress we have to cope with when we work on getting it all and now is counterproductive, as it blocks our productivity and weakens our physical health Once we change the perspective from big to small and break our final goal into smaller, achievable chunks, we take the pressure off and avoid the risks to our health By focusing on everyday progress, we automatically feel much more motivated, which causes our brain to get hooked on the positive rush and the feeling of accomplishment striving to achieve more Understanding the importance of small wins and knowing how to apply it to your everyday life will cause tremendous benefits to your goal achieving and your overall health\n",
      "id: 208, spoiler: Chicago\n",
      "id: 209, spoiler: It's like being raised in a red room, being pulled out of that room, and asked to describe the color red She added that girls may grow up believing that being objectified is actually empowering because American culture teaches that to be a sex object is to be valuable However, the consequences of objectification to society are far from positive, and side effects among women include body shame, depression, eating disorders, low selfesteem and even decreased sexual pleasure, according to Heldman Instead of being involved and engaged in what is happening, you tend to view yourself from a thirdparty perspective A spectator's perspective, where you're worried about rolls of fat hanging out, what that leg looks like it gets in the way of sexual pleasure So if there's anything I can pitch to you about why you don't want to live in a culture that sexually objectifies it diminishes your sexual pleasure\n",
      "id: 210, spoiler: We took these extraordinary steps because press access to prisons and jails has been vastly curtailed in recent decades, even as inmates have seen their ability to sue prisons—often the only way potential abuses would pop up on the radar of news organizations or advocates—dramatically reduced There is no other way to know what truly happens inside but to go there But here's the other reason investigations like this one have grown so rare\n",
      "id: 211, spoiler: french fry\n",
      "id: 212, spoiler: the caver stumbled across something extraordinary—a vast chamber where several stalagmites had been deliberately broken Most of the 400 pieces had been arranged into two rings—a large one between 4 and 7 metres across, and a smaller one just 2 metres wide Others had been propped up against these donuts Yet others had been stacked into four piles Traces of fire were everywhere, and there was a mass of burnt bones These weren’t natural formations, and they weren’t the work of bears They were built by people Recognizing the site’s value, the caver brought in archaeologist Francois Rouzaud Using carbondating, Rouzaud estimated that a burnt bear bone found within the chamber was 47,600 years old, which meant that the stalagmite rings were older than any known cave painting It also meant that they couldn’t have been the work of Homo sapiens Their builders must have been the only early humans in the south of France at the time Neanderthals The discovery suggested that Neanderthals were more sophisticated than anyone had given them credit for They wielded fire, ventured deep underground, and shaped the subterranean rock into complex constructions Perhaps they even carried out rituals after all, there was no evidence that anyone actually lived in the cave, so what else were the rings and mounds for?\n",
      "id: 213, spoiler: adult film star posted online I just came off the road, this happens to me for going around having erotic dreams, jejejejeje Thank God I am safe and sound I want to give peace to all those who love me and worry about me So let’s carry on enjoying life with more zest and love than ever I love you all Personally, I smell bullsht here, but the emergency services and the tow company who were called to the accident weren’t complaining They comforted Gomez after she lost control of her vehicle, by taking a few photos with her\n",
      "id: 214, spoiler: My ex raised the thing to eye level, looked at me, and pushed the button And the thing in his hand sprang open My relative's foot shavings ERUPTED from within the Ped Egg like an explosion of flesh confetti\n",
      "id: 215, spoiler: They are prolific and ruthless — a juggernaut of the highest order If anything, the Warriors have given the Cavs opportunities in the first two games of the series In Game 1, the Splash Brothers combined to shoot 30 percent from the floor and the Warriors only made nine 3pointers total In Game 2, Golden State turned the ball over 20 times Those were windows — the cracks might have been small, but there was a gap there, and the Cavs couldn't take advantage of it\n",
      "id: 216, spoiler: Eatsa, an innovative, vegetarian automated restaurant chain, which just opened its first East Coast location in New York on Wednesday, is looking to revolutionize the food industry by offering customers a oneofakind food experience\n",
      "id: 217, spoiler: Phase One Iron Man 585,174,222\n",
      "id: 218, spoiler: 19993673767\n",
      "id: 219, spoiler: Fiftyeight percent of adults ages 18 to 24 consider rising student debt levels in the United States a major problem, according to survey results released exclusively to The Huffington Post on Tuesday by the Harvard University Institute of Politics\n",
      "id: 220, spoiler: Fadi al Qanbar\n",
      "id: 221, spoiler: According to an exclusive ET Online report, a source quotes that they are making it work They also come right out and say that they don’t know if they will ever get a divorce They still have not officially filed paperwork for a divorce, the source reiterates ET also noted since their split, the two have established a coparenting routine with ben remaining close to Jen and the kids They’re still legally married, but separated\n",
      "id: 222, spoiler: The irony of her exhortation to value life was not lost on observers and blame was quick to be handed out Newspapers accused the government of murdering her, with many saying it failed to come up with effective ways to stamp out pet abandonment or prevent strays from reproducing Some accused higherlevel bureaucrats of trying to convince the public that Ms Chien simply couldn't handle her work pressures\n",
      "id: 223, spoiler: Boone Police Chief Dana Crawford said a tip from High Country Crime Stoppers led to the arrests I stated this case was a priority for us, Crawford said to Fox News Thanks to the involvement of citizens who came forward, we resolved this case in short order I applaud the community for their overwhelming response I would also like to thank High Country Crime Stoppers for their invaluable service\n",
      "id: 224, spoiler: It was the very last time I heard from Emily Now I think it was some sort of premonition It felt so strange to me I’m not a superstitious person but after what happened, the text makes sense to me The family is now calling for tighter restrictions on privately owned boats and stronger maritime regulations in the UK Her mom, Debbie, added, We want speedboat drivers to have compulsory licenses and for it to be the law that all passengers wear properfitted life jackets We’ll make it our mission to ensure safeguards are on the statute books to stop similar tragedies and to prevent those left behind from falling apart like we have Emily was wearing a buoyancy aid when the tragedy took place — not a life jacket\n",
      "id: 225, spoiler: Oakland Raiders\n",
      "id: 226, spoiler: Feeling This\n",
      "id: 227, spoiler: the 32yearold has been looking amazing and recently revealed she has been doing the Atkins diet She is eating lots of lean proteins, healthy fats like nuts and avocado, carbs, fruits, veggies and cheese, a rep for Atkins told Us Weekly about Kardashian's diet She wanted to be a healthy, nursing mom and not toxify her milk with her diet or lose weight too quickly She's been doing Atkins since her doctor approved it at the end of June\n",
      "id: 228, spoiler: Sombra\n",
      "id: 229, spoiler: He was young when I was playing, so I appreciate that, but I'm not upset about it My criticism was fair, and I'm good with that Despite drawing the ire of one of the biggest names in the sport, Barkley said he doesn't plan to rein in his opinions Some of the stuff he said about me is correct doesn't make the message I said about him incorrect, Barkley said Some of them are intimidated about LeBron, but I'm not intimidated at all\n",
      "id: 230, spoiler: Dr Joshua Stephany\n",
      "id: 231, spoiler: Korean pear juice\n",
      "id: 232, spoiler: Blake McIver\n",
      "id: 233, spoiler: hunt for catfish with pitchforks or spears\n",
      "id: 234, spoiler: Paul Li\n",
      "id: 235, spoiler: 1 Miley Cyrus\n",
      "id: 236, spoiler: I know I’m not the only one, she began, adding St wrong words St, st, st I started singing the chorus, she explained Sorry Watch the hilarious moment below Adele forgot the lyrics to her song and this was her reaction  pictwittercomn1EyHwXM56 — Pop Crave PopCrave May 25, 2016\n",
      "id: 237, spoiler: Caitlyn Cannon\n",
      "id: 238, spoiler: big belly rub\n",
      "id: 239, spoiler: Aaron Sorkin’s popular HBO series will be skewered through parody on tonight’s episode of Inside Amy Schumer\n",
      "id: 240, spoiler: A right triangle has a hypotenuse equal to 10 and an altitude to the hypotenuse equal to 6 Find the area of the triangle\n",
      "id: 241, spoiler: UK Prime Minister has said that negotiations with the European Union over the country’s exit will require the engagement of the Scottish, Welsh and Northern Ireland governments\n",
      "id: 242, spoiler: purpose\n",
      "id: 243, spoiler: right in that moment of selfpity, he saw a 60yearold woman sitting alone in her car reading a book She looked lonely and sad, but things got even more emotional for Conway when he realized she was completely bald Now he doesn’t know for sure what was going on in that woman’s life, but he made the assumption that it must be something pretty big, and right at that moment, Conway got the sudden urge to give that lady a small gift He went back into the store he was just in, still cranky and mad at his job, but he got that lady a present and said something to her that proves there must be angels in the world\n",
      "id: 244, spoiler: Emperor Palpatine's granddaughter YouTuber Vincent Vendetta uploaded a video compiling the evidence to support this theory, and honestly it's pretty compelling There's the matter of their fighting styles Both Rey and Palpatine are the only two characters in the Star Wars universe who use this forwardthrust move This mirroring is equally powerful when you realise the first move we see each of them perform is this forward thrust Rey's first lightsaber battle has several other visual references to Palpatine's fighting style, almost too many to be coincidental This cyclical referencing also works in the sense that the earlier films have followed a pattern of Skywalker vs Palpatine tension In The Force Awakens, if Rey's parentage does stem from Palpatine, her battle against Kylo Ren continues the SkywalkerPalpatine tension, flipping the dark and light sides For now That's because Rey is already struggling with the pull of the dark side\n",
      "id: 245, spoiler: Superior mesenteric artery syndrome\n",
      "id: 246, spoiler: The idea was to challenge friends to either dump a bucket of ice water over their heads or donate to the ALS Association\n",
      "id: 247, spoiler: Apollo Holes\n",
      "id: 248, spoiler: athletes say they are using it to ease aches and pains, and to help with recovery from the physical toil of constant training and competing Image copyright Getty Images Image caption Alex Naddour and other members of the US gymnastics team told USA Today they swear by cupping Image copyright AFP Image caption Michael Phelps sported some particularly pronounced marks There are plenty of other recovery techniques competitors use including sports massage, sauna, ice baths and compression garments but US gymnast Alex Naddour told USA Today that cupping was better than any money I've spent on anything else That's been the secret that I have had through this year that keeps me healthy, Naddour told the paper, adding that it had saved him from a lot of pain His team captain Chris Brooks added that many on the squad had started doityourself cupping, with cups that can be suctioned with a pump rather than with a flame You're like, 'OK, I'm sore here,' said Brooks Throw a cup on, and your roommate will help you or you can do it yourself The marks visible on Michael Phelps as he competed in the men's 4x100m freestyle relay on Sunday had people on social media speculating what they might be, with some guessing he might have been playing paintball or attacked by a giant octopus\n",
      "id: 249, spoiler: Hamas security forces violently dispersed the protesters, with shots fired in the air to clear the crowds and a number of protesters and local journalists assaulted\n",
      "id: 250, spoiler: trees might sleep after dark, according to precise laser measurements that detected the plants' branches drooping at night Credit Eetu Puttonen Our results show that the whole tree droops during night, which can be seen as position change in leaves and branches, study lead author Eetu Puttonen, a researcher at the Finnish Geospatial Research Institute, said in a statement The changes are not too large, only up to 10 centimeters 4 inches for trees with a height of about 5 meters 16 feet It's unclear if the sun woke up the trees or if they relied on their own internal circadian rhythm, the researchers said But the fact that some branches started returning to their daytime position already before sunrise would suggest this internal circadian clock hypothesis is right, the researchers wrote in the study, which was published online on Feb 29, 2016, in the journal Frontiers in Plant Science\n",
      "id: 251, spoiler: I think it's a very good thing, and I hope he does a very good job because frankly that would be very, very good Because I think if he does a great job, it will really — you lead by example, always lead by example If he does a good job and frankly if he does a great job, that would be a terrific thing\n",
      "id: 252, spoiler: Berlin\n",
      "id: 253, spoiler: They're the best I've had in Manila because unlike others, they’re wellbalanced—the sweetness is just right and isn’t overwhelming, thanks to the good chocolate worked skillfully by the bakers, and the delicate touch taken with the confectioner’s sugar\n",
      "id: 254, spoiler: 478\n",
      "id: 255, spoiler: A retired police officer who carried a young girl to safety nearly 20 years ago was reunited with her during her college graduation CNN affiliate WTIC has more\n",
      "id: 256, spoiler: The chopsticks are not meant to be broken apart just yet without doing this first, important clever step that Twitter user Trash Panda discovered Who would’ve thought that that little bit of wood may actually be useful?\n",
      "id: 257, spoiler: Organize Your Drawers With Egg Cartons And Ice Cube TraysFor 20 years, Bruce Lubin and his wife Jeanne have been collecting tips and hints to save time, money, and make everyday tasks easier Their book Who Knew?by TeleBrands includes thousands of moneysaving secrets for cooking, cleaning and other tasks around your home As you move from room to room, you'll discover how to affordably clean your home using allnatural, homemade cleaners get rid of any kind of stain on the planet organize like a whiz keep your car at its best and perform simple household repairs\n",
      "id: 258, spoiler: One factor to consider is that sexual violence does not occur in a vacuum\n",
      "id: 259, spoiler: You can increase the size of your penis — visually The way you can do it is by losing weight This is not a trap When you have excess fat around your pubic area and stomach, it could make your penis seem smaller If you lose weight, you can actually gain an inch or two because the pubic fat would be less, says Fisch So if you've noticed a little extra weight around that area, losing a few might come with the added bonus of looking bigger where you actually want to If you're not sure where to start, check out our Clean Eating Challenge and our 28Day Get Fit Challenge for some inspiration\n",
      "id: 260, spoiler: If this election is close which seems likely, then if someone votes for a writein candidate instead of voting for Trump, this action will directly help Hillary Clinton, because she will need one less vote to win Therefore the question that Christians should ask is this Which vote most likely to bring the best results for the nation?\n",
      "id: 261, spoiler: You don’t have to stop taking each seed out but instead of throwing them out, use them Watermelon seeds are packed with nutrients that are beneficial and healthy for you The small seeds resemble sunflower seeds in look and flavour And it’s easy to eat them as a standalone snack or add them to your salads and tea Either way, enjoy the benefits of eating the watermelon seeds without actually growing one in your belly\n",
      "id: 262, spoiler: Ben Bernanke\n",
      "id: 263, spoiler: Jordan Klepper\n",
      "id: 264, spoiler: 1 Reason Not To Go Online If You Live In The US Are You Protected When You Use The Internet?Earlier this month we saw thousands of people across get their hands on the the the latest Online ID protection from SaferWeb, after yet another increase in identity theft and webhistory monitoring If you live in and have a computer, tablet or smartphone connected to the internet, then this may be the most important news you read all year We have however been advised that because of its unexpected popularity, availability is very limited and is now on a first come first serve basis Experts Are Now Calling SaferWeb, A Game Changer For Internet Users As part of the special promotion due to end, a group of Engineers teamed up with innovative new software provider SaferWeb, to provide the latest ID Protection thats just gone viral\n",
      "id: 265, spoiler: sleep deprivation\n",
      "id: 266, spoiler: Ozymandias\n",
      "id: 267, spoiler: In very small amounts say, a few teaspoons, and if the blood is free from pathogens such as the many bloodborne diseases, blood might not harm you\n",
      "id: 268, spoiler: money and talking about money is one of the highest stressors in relationships, which makes sense Whether we like it or not, money affects our everyday lives, from where we live to what we eat\n",
      "id: 269, spoiler: polymyalgia rheumatica\n",
      "id: 270, spoiler: the Cubs poured it on in the 10th inning, scoring 2 runs to provide the cushion they needed World Series MVP Ben Zobrist hit a goahead double, and Miguel Montero followed up with an RBI single to give the Cubs the insurance run they needed It is their third title in the World Series, a competition that was introduced in 1903, but this may be the sweetest and hardestearned championship in the history of American sports Making it even more sweet was that the Cubs trailed in the series by three games to one Upon the final out the players jumped and celebrated on the diamond while thousands of visiting Cubs fans screamed joyfully in the stands Back in Chicago, where fans in the North Side of Chicago have waited generations for this day, revelers poured into the streets for party that will probably last days In Cleveland, a city with its own hardluck sports history, the wait continues The Indians have not won the World Series since 1948, and they now own the longest drought in baseball without a title At least the Cleveland Cavaliers, many of whom were in attendance Wednesday at Progressive Field, broke Cleveland’s 52year span without a major professional sports title by winning the NBA championship in June For the Cubs, whose long history is riddled with the mythology of billy goat curses, black cats and a fan who was vilified for interfering with a foul ball, theirs is now a history of winning, and their identity changes forever\n",
      "id: 271, spoiler: You can eat a cheeseburger with your knee as you put on makeup with your elbow and steer the car with your chin, and you’ve done it before That’s the problem Sponsored I tried catching Pokémon while parked in a drivethru Even then, I felt dumb when I didn’t move up immediately because there was a Poliwag in sight Park somewhere where you’ll stay parked to catch Pokémon Pokémon Pokémon Go requires your full attention Driving also requires your full attention Yes, there’s the augmented reality mode, and you can leave that AR feature on to put Pokémon on a backdrop of whatever’s in front of you Problem is, you’re then focusing on catching the Pokémon instead of the background of reality The little suckers move around in AR mode, too It’s one thing to walk around your apartment trying to catch a particularly jumphappy Pokémon It’s much worse to do so while also trying to drive You can’t easily spin around in the driver’s seat if a Pokémon darts sideways, and it takes an absurd amount of your attention to follow them around anyway\n",
      "id: 272, spoiler: A Chinese takeout dish folds out to a nice little plate\n",
      "id: 273, spoiler: Buying a pet as for someone you care about is a wonderful idea over the holidays It gives them a lifetime of companionship, and it gives a pet the chance to go to a loving home Unfortunately, the choice to give an animal as a surprise present during the silly season can sometimes be a shotgun decisionand the gift isn’t always so well received Some people simply do not have the means to keep a pet, the time to train themor unfortunately they are genuinely not wanted at all As a result, many people will take their pet to the RSPCA or local animal shelter to surrender it\n",
      "id: 274, spoiler: Minnesota\n",
      "id: 275, spoiler: Her made its world premiere at the New York Film Festival on Saturday night, and the Warner Bros release could factor into the Oscar race like no other film ever before That's because Scarlett Johansson who costars with Joaquin Phoenix in the film, but doesn't appear onscreen gives such a remarkable performance that she could wind up with an historic Academy Award nomination for Best Supporting Actress Jonze's film, a nearfuture tale about a man Phoenix who falls in love with his computer operating system voiced by Johansson, received high praise from many critics following its debut, with most singling out Johansson's voice work as exceptional It's Johansson who pulls off the trickiest feat She creates a complex, fullbodied character without any body at all Detached from her lethally curvaceous figure, the actress' breathy contralto is no less seductive, but it also alights with tenderness and wonder as Samantha, both here on Earth and up there in the Cloud, voraciously devours literature, philosophy and human experience, wrote Variety critic Scott Foundas Johansson's work in the film is lovely, and the best thing about the way she plays the part is that there's nothing calculated or'sexy' about the way she approaches it\n",
      "id: 276, spoiler: all humans had brown eyes, although genetic variation relating to a gene called OCA2 resulted in changes to the amount of pigment produced by different individuals, resulting in the emergence of different shades of brown Armed with this information, scientists had for many years searched for the source of blue eyes on the OCA2 gene, but without success More recently, a mutation to a separate, nearby gene called HERC2 has been identified as the cause of blue eyes This alteration switches off OCA2, the gene that determines the amount of the brown pigment melanin that we make\n",
      "id: 277, spoiler: Dawn Grace lost her son four years ago, and now she meets the man who received his heart in a transplant\n",
      "id: 278, spoiler: I was about to become Daenerys Targaryen Bring it onSo, on the morning of May 18, I took one last selfie as a brunette, grabbed a coffee, and headed over to Hairstory Studio in New York City — specifically colorist and megababe Roxie Darling Roxie put me at ease It will change your life because you will be received so much differently, she says People's eyes are naturally drawn to light, and naturally drawn away from darkness Basically, I was about to become Daenerys Targaryen Bring it onSo, on the morning of May 18, I took one last selfie as a brunette, grabbed a coffee, and headed over to Hairstory for my transformation Ahead, see what the experience of going blond was like\n",
      "id: 279, spoiler: THE MUSIC\n",
      "id: 280, spoiler: adding a teaspoon of coconut oil to boiling water with a halfcup of nonfortified white rice\n",
      "id: 281, spoiler: 1 There are many theories about why cats knead their paws into you, but many researchers agree that they’re trying to return the affection that you’re showing them\n",
      "id: 282, spoiler: spy camera Hidden inside a wall hook\n",
      "id: 283, spoiler: Oprah Winfrey\n",
      "id: 284, spoiler: Louisville\n",
      "id: 285, spoiler: racial\n",
      "id: 286, spoiler: a woman takes off her shirt by lifting from the front, elegantly crossing her arms over her chest and gracefully pulling her shirt over her head at least that’s how it’s done in the movies\n",
      "id: 287, spoiler: The castle at Winterfell was adorned with the gruesome Bolton sigil, which is a picture of a flayed man hanging upsidedown It’s a nasty image but one that’s meant to strike fear into the Bolton’s enemies the house was infamous for the centuriesold practice, and because Ramsay had taken over Winterfell, the sigil was prominently displayed in the show’s opening credits But as of Sunday’s finale, the Stark sigil was back in its rightful place It was a subtle change but a big moment for the show because of how important Battle of the Bastards was Fans were understandably pumped about the change all seems right in the Game of Thrones universe—at least for now\n",
      "id: 288, spoiler: the spring color worked surprisingly well on all the different models' skin tones, however, it stood out particularly on the redheads With such a vibrant eyeshadow color on the lids, it is key to keep the rest of the face pared down Romy Soleimani for Beautycom achieved this at Lela Rose by using a combination of Stila Color Pigments in Light Show and Cha Cha Eyeshadow on the eyes Then she balanced it with Color Balm Lipstick in Betsey a creamy pink MAC Cosmetics lead makeup artist Maki perfected a natural and breathable look on the Costello Tagliapietra girls by working MAC Pro Sculpting Creams underneath the cheekbones and opting for Lofty Brown Zoom Lash Mascara instead of traditional black She finished by blending MAC Pro Lime Eye Shadow over the upper and lower eyelids to get a soft wash color These makeup techniques not only brought out the golden undertones in the redhead models' complexions which gave them a subtle glow, but it also accentuated the fiery hues in their hair color\n",
      "id: 289, spoiler: If there is nothing in the way, he is hitting it 550 There aren’t many guys that can hit the ball as far as him in batting practice, if any, Holliday said Obviously, Stanton is the easy one that comes to mind that I’ve played against Barry Bonds, too Holliday has seen Stanton do his damage only as an opponent, while he receives a daily dose of Judge He said it might just be familiarity, but he would take Judge in a distance contest Mark Teixeira, who just completed a 14year career in which he swatted 409 homers, said he used to watch Nelson Cruz launch some balls in the Arlington heat when they were teammates in Texas In 2013, Teixeira played with Stanton in the World Baseball Classic Judge’s power is right there with those two guys, said Teixeira, now an ESPN analyst In 2016, Judge struck out in 42 of his 84 atbats, a performance so bad it made the Yankees hesitant to hand him the rightfield job in spring training, even with a full winter endorsement from team owner Hal Steinbrenner\n",
      "id: 290, spoiler: Thiruvananthapuram, India\n",
      "id: 291, spoiler: highly processed foods share pharmacokinetic properties eg concentrated dose, rapid rate of absorption with drugs of abuse, due to the addition of fat andor refined carbohydrates and the rapid rate the refined carbohydrates are absorbed into the system, write graduate student Erica Schulte and Dr Ashley Gearhardt of the University of Michigan in PLOS ONE The authors characterize addictiveness by factors such as loss of control over consumption, continued use despite negative consequences, and an inability to cut down despite the desire to do so They back up their claims with a study of 504 participants, who helped them assess which foods are hardest to resist Although the causes of obesity are multifactorial, one potential contributing factor is the idea certain foods may be capable of triggering an addictive response in some individuals, which may lead to unintended overeating, the authors write To test the differences between foods, the authors had 120 undergraduate students fill out the Yale Food Addiction Scale, of which Gearhardt was one of the original authors, to determine the individuals' substance dependence\n",
      "id: 292, spoiler: 1 Ecuador\n",
      "id: 293, spoiler: Not getting enough sleep may cause changes to gut bacteria that could fundamentally change our metabolism, affecting a host of bodily systems Gut microbiota are the trillions of microorganisms living in our intestines that help keep our metabolism, immune system and other bodily functions running normally, explained senior study author Jonathan Cedernaes, a sleep researcher at Uppsala University in Sweden Mounting evidence has linked an unhealthy gut microbiota with inflammatory bowel disease, allergies, neurodegenerative diseases and metabolic diseases including obesity and diabetes\n",
      "id: 294, spoiler: Warning\n",
      "id: 295, spoiler: A cut off of her fourth studio album, BANGERZ, Adore You\n",
      "id: 296, spoiler: Andrew Luttrell\n",
      "id: 297, spoiler: Buffy the Vampire Slayer\n",
      "id: 298, spoiler: fill out this form, change your identity, and you will receive seven free burgers a week until the day you die Oh, and you'll have to move to Australia too Only the first ten people who legally change their name by July 31, and are above the age of 18 will be eligible for the contest Triplets can be a handful\n",
      "id: 299, spoiler: The hot dogs are made of pork, beef and chicken Factories often use leftovers from cutting steaks and pork chops as well as edible slaughter byproducts such as animal feet or head, fatty tissue and skinsDuring the process, these ingredients are mixed together, and additives such as sat, corn syrup, nitrates, large amount of salt and chemicals are added Most of these added ingredients have been continuously linked to cancer\n",
      "id: 300, spoiler: Peter Facinelli has been gracing the big and small screen for years, capturing the attention of many in 1998's beloved film Can't Hardly Wait But his role as Dr Carlisle Cullen in the Twilight movies catapulted him into an unchartered territory of success and he's been prominently in the spotlight ever since HuffPost Celebrity met up with the handsome actor and fatherofthree Facinelli has three daughters, Luca, Lola and Fiona, with exwife Jennie Garth at GQ's Gentleman's Ball at IAC HQ in NYC on Oct 23, where he was honored for his work with Recycle Across America\n",
      "id: 301, spoiler: Chris Pratt\n",
      "id: 302, spoiler: Diagnostic medical sonographer\n",
      "id: 303, spoiler: CEO Lawyer Media TV and radio Salesperson Surgeon Journalist Police officer Clergyperson Chef Civil servant\n",
      "id: 304, spoiler: rosemary\n",
      "id: 305, spoiler: 1,240\n",
      "id: 306, spoiler: Google's free music service comes two years after it introduced its paid version, which gives users access to more than 30 million songs for 10 per month By creating free online radio stations, the tech giant is hoping to better compete against Spotify and Pandora, which have gained huge followings with their free music streaming services, and convert some free Google listeners into paying customers Tuesday's premiere by Google coincides with recent tensions between streaming services and music artists\n",
      "id: 307, spoiler: 1 CHILI PEPPERS Capsaicin, a compound in chilli peppers, stimulates the body to burn energy and create heat\n",
      "id: 308, spoiler: Intrepid\n",
      "id: 309, spoiler: go poop every morning after you wake up in order for it to be considered beneficial\n",
      "id: 310, spoiler: University of California, Los Angeles\n",
      "id: 311, spoiler: The chances that a stranger will abduct and kill or not return a child, the great fear driving the new norm, is about 000007 per cent or one in 14 million annually It’s much more dangerous to drive a child somewhere, or even to walk with one across a parking lot, than to leave a kid alone in a wellventilated car\n",
      "id: 312, spoiler: capture the pigeon\n",
      "id: 313, spoiler: ChalNaKatrina GirlLove BeBaywatch VictoriaLeeds\n",
      "id: 314, spoiler: February 24 at 9 pm\n",
      "id: 315, spoiler: A recent study by VU University Medical Centre in the A recent study by VU University Medical Centre in the Netherlands looked at the relationship between sleep duration, insulin sensitivity and the potential onset of diabetes and heart disease\n",
      "id: 316, spoiler: The indie made a splash at the Tribeca Film Festival in April of this year, winning fans with its pop culture acuity and a Spotifyready soundtrack that included Tegan and Sara GBF debuts on DirecTV in November before a ondemand and limited theatrical rollout in January of next year\n",
      "id: 317, spoiler: Come on down to the Muncie Animal Shelter to walk one of our dogs while you get your steps in\n",
      "id: 318, spoiler: Shout it out because I don’t want to say it, Trump continued, smirking OK, you’re not allowed to say and I never expect to hear that from you again\n",
      "id: 319, spoiler: Ryan said And then we will give the financing to Secretary Kelly and the border security plan So, it’s really up to them as to how fast they can execute this policy I think that’s great He’s the kind of guy that can get this sort of thing done He will have the funding to do it and he already has the authorization to do it\n",
      "id: 320, spoiler: If she is elected president, she may get to add both to her impeccable track record of war, bloodshed and destruction and in the process spark World War III, if it has not already begun as a result of US policy toward the Middle East\n",
      "id: 321, spoiler: Damion Soward\n",
      "id: 322, spoiler: Carrer Aviny, a gorgeous Barcelona apartment designed by David Kohn Architects\n",
      "id: 323, spoiler: Nick Johnson\n",
      "id: 324, spoiler: He handed her a plate of food and bottles of water for her family and let her know that a tow truck was on its way and that his wife was going to drive them home\n",
      "id: 325, spoiler: choice\n",
      "id: 326, spoiler: The first barrier is the hormonal changes after conception that stop the ovaries from releasing another egg\n",
      "id: 327, spoiler: Colin Quinn\n",
      "id: 328, spoiler: It doesn’t require conversing parties to be available simultaneously, as a phone call or video chat does, nor does it assume that people would rather correspond asynchronously, as with email Text messages also offer a better representation of a person’s relationships by focusing on longterm conversations\n",
      "id: 329, spoiler: Jose Antonio Nievas made the find near a stream on his farm in Carlos Spegazzi, which is 25 miles from Buenos Aires, Argentina He found the shell partly covered in mud and dug around it to find out what it was\n",
      "id: 330, spoiler: 1,175\n",
      "id: 331, spoiler: It would be a mistake, he said, not to ascribe to the collectibles market the general rule of market value historically That particular rule hit the market for CocaCola collectibles hard Back in the 1940s and 1950s, America seemingly couldn't get enough of Coke brand merchandise, and the company obliged, pumping out paraphernalia from clocks and coolers to more exotic fare, such as the iconic gas station pumps and even flatware sets Contrary to popular rumor, however, the Smith Wesson Coke bottle grip was simply named after the shape, not a marketing partnership\n",
      "id: 332, spoiler: The evacuation of civilians and opposition fighters from eastern Aleppo have been suspended after rebels opened fire on a convoy at one of the crossing points of the rebelheld enclave, according to Syrian state TV It was not immediately clear how long the suspension, which was announced within a couple of hours after the evacuations resumed on Friday, would last Ikhbariya TV also claimed that the rebels tried to take with them captives they had seized and were holding in the rebel enclave However, a military news service run by Lebanon’s proDamascus Hizbullah group said the evacuation had been halted partly due to a failure to evacuate wounded people from two Shia villages besieged by rebels in Idlib It also cited previous reasons given for the suspension of the evacuation that rebels had sought to take prisoners with them and had bombarded a road due to be used by the buses set to conduct the evacuation from the two villages, alFoua and Kefraya Hizbullah, an Iranbacked Lebanese Shia group, is fighting on the side of president Bashar alAssad in Syria’s civil war\n",
      "id: 333, spoiler: Skara Brae\n",
      "id: 334, spoiler: Former rugby players Gareth Thomas and Jason Robinson OBE also appear on the lineup as does former Premier League footballer Robbie Fowler and gymnast Louis Smith who has a Strictly Come Dancing win to his name Expect the usual array of reality TV stars with The Only Way Is Essex's Lydia Bright and Spencer Matthews who made his name on Made In Chelsea\n",
      "id: 335, spoiler: it's possible to beat Watch Dogs 2 without ever firing a gun\n",
      "id: 336, spoiler: The goal certainly is for him to play 16 games But he's 36 this season, not 26 Every time he gets hit, the Dallas sideline will be holding its breath\n",
      "id: 337, spoiler: Pikaqiu\n",
      "id: 338, spoiler: Whitney Thompson\n",
      "id: 339, spoiler: The impact of capitalist and heavily industrialised societies is equivalent to how an asteroid would impact the planet An equation aids in creating a manifestation of the risks of climate change through largescale and widespread alterations to the planet\n",
      "id: 340, spoiler: Rasputin\n",
      "id: 341, spoiler: It could represent the danger of a snake or another predator, Mugford continued I suspect that there would be the same reaction to a model spider, a plastic fish or a human face mask Well, there’s only one way to find out This is, after all, for science\n",
      "id: 342, spoiler: A sample of 89 women who usually drank diet beverages, with BMIs of 2740 slightly to moderately overweight, were parsed into two groups those who would continue to drink diet beverages after eating their lunch and those who would replace their diet drinks with water\n",
      "id: 343, spoiler: Captain Phillips\n",
      "id: 344, spoiler: It looks like it's all going to end in complete disaster but just as the big cat goes to pounce, the man spins around and starts laughing and playing with him like they're bezzie mates\n",
      "id: 345, spoiler: rag\n",
      "id: 346, spoiler: Blue Lives Matter is a movement that counters BLM by encouraging citizens to support police officers that put their lives on the line every single day for citizens across the country Police officers are here to protect citizens and will do so regardless of color, as long as you cooperate and obey the law To show support for law enforcement, ChickfilA has unveiled their Back The Blue tshirts\n",
      "id: 347, spoiler: Charges have been filed against 29 people, six of whom have been convicted, since the city launched an effort in 2013 to test 6,663 rape kits — some of which dated back nearly three decades Testing was completed in the fall, and the results have now been uploaded to a database used by investigators nationwide to compare DNA profiles of possible suspects, Mayor Annise Parker said This milestone is of special importance to rape survivors and their families and friends because it means their cases are receiving the attention they should have years ago, Parker said at a news conference, where she joined local law enforcement officials to announce the results Police are continuing to review the matches to see if charges can be filed in other cases\n",
      "id: 348, spoiler: In May, after almost a decade and three moves, they finally decided to open the box, and found two handwritten notes wrapped around some cash, as well as wine glasses and bath products The note to Kathy told her to buy pizza or something you both like and prepare a bath, and the note to Brandon said, Go get flowers and a bottle of wineIn the end, Kathy wrote that they had been enjoying this gift for almost a decade, even though the box – which she calls the greatest wedding gift of all – hadn't been openedI realized that the tools for creating a strong, healthy marriage were never within that box – they were within us\n",
      "id: 349, spoiler: That's why the fact that some retailers — including Bed Bath Beyond, Staples, ChickfilA, and Panera Bread — don't have chip card readers up and running at all of their locations is a big concern You see, if you swipe a chip card instead of inserting it into slot, the merchant is responsible for covering any fraudulent charges — not the bank And some retailers aren't in a financial position to cover major security breaches, like that corner store you picked up a gallon of milk from in a pinch That means you get stuck covering the snafu, according to Adam Levin, founder of Identity Theft 911 and author of Swiped Most Popular However, retailers claim the readers must be certified by credit card companies to make sure they work before using Some have even been waiting up to six months to get certified, even though the new system was supposed to be fully implemented by October 2015 Either way, if you approach a checkout without a chip insert, just pay with cash instead\n",
      "id: 350, spoiler: Elle\n",
      "id: 351, spoiler: freezing your jeans as a way to kill bacteria and the stench, although there is no scientific proof that this method is effective It is clear that freezing does not kill most of the bacteria, said Redl, but puts them in a dormant state Bacteria stops growing in the freezer, but will become active again once you slip your pants back on and those germs are warmed up by the heat of your body I think airing your jeans outdoors in the sunlight would be a more effective method of getting rid of odors and a lot of bacteria, said McQueen\n",
      "id: 352, spoiler: Donald Trump during the first presidential debate Screenshot As the anxiety and anticipation leading up to the first presidential debate between Hillary Clinton and Donald Trump came to a head last night, some viewers turned to alcohol Others turned to something stronger—Twitter\n",
      "id: 353, spoiler: turmeric, an ancient medicinal herb, helps removes plaque some that's not evident to the naked eye, which causes discoloration But as opposed to harsh bleaches you'll find in overthecounter treatments, its natural antioxidant and antiinflammatory properties make it super healthy for your oral health, much like it is for the skin\n",
      "id: 354, spoiler: it’s chockfull of nutrients and electrolytes like potassium, which not only keep you hydrated but also take longer for your body to process so you buy some time between bathroom breaks\n",
      "id: 355, spoiler: The listApplying for a parttime job when you’re a teenager is pretty stressful Your parents are bugging you to get out of the house, you don’t have any experience yet, and really you just want to hang with your mates But then you actually get an interview, and you go and try to make the best impression you possibly can in the hopes that you'll get it That’s what happened to 18yearold Megan Dixon, who went for a job at a new Miller and Carter steakhouse in Leicestershire\n",
      "id: 356, spoiler: Chris Crocker\n",
      "id: 357, spoiler: Men are potentially more likely than women to shovel, particularly after heavy snowfalls\n",
      "id: 358, spoiler: Aubrey wrapped in motorcycle gloves\n",
      "id: 359, spoiler: Ranch BLT with either grilled or crispy chicken\n",
      "id: 360, spoiler: Minnesota\n",
      "id: 361, spoiler: If you are dropping off your son’s forgotten lunch, books, homework, equipment, etc, please TURN AROUND and exit the building, the sign read Your son will learn to problemsolve in your absence\n",
      "id: 362, spoiler: There's no denying that Super Smash Bros 4 on the 3DS is a great game The release date brought a fighter with many characters, lots of gameplay modes and frantic itemthrowing fun But nothing's perfect in the case of Smash Bros 4, the mulitplayer lag is a huge issue Whether it be local multiplayer in Sm4sh or online, the game stutters early and often The game is superb which is why it pains us that no matter what stage we choose, our Smash Bros 4 fights always take place in Lag City We got a hint of this when we did our review for SSB43DS but chalked it up to all other players being located halfway across the world in Japan Now that the game's out in our country, we thought our lag issues would be alleviated Boy were we wrong Now, don't get us wrong we agree with Louis CK The fact that we can play a video game with anyone around the world is amazing But Smash is serious business Despite being a fighting game, the lag is pretty consistent\n",
      "id: 363, spoiler: They use sleight of hand and will check pockets without the victim knowing — Constable Hannah Meredith, Sandwell Police They use sleight of hand and will check pockets without the victim knowing The Ford did a Uturn and the women then went inside Police Constable Hannah Meredith, from Sandwell Police, told the Telegraph These people are very cunning in the way they operate and we would urge people to be wary about anyone who is overfriendly in these type of circumstances They use sleight of hand and will check pockets without the victim knowing\n",
      "id: 364, spoiler: Cecily Strong\n",
      "id: 365, spoiler: 1 When it comes to food, you won’t just eat any old thing\n",
      "id: 366, spoiler: Arizona\n",
      "id: 367, spoiler: aircraft are designed with general row positioning and spacing recommendations that align with the airplane windows However, airlines rarely follow those recommendations And the resulting misalignment has to do how they tinker with seat size and seat pitch\n",
      "id: 368, spoiler: Oregon\n",
      "id: 369, spoiler: a stray dog named Norah, the folks at Take Me Home Pet Rescue feared she’d be dead Much to their surprise, Norah picked her head up as she lay on the side of the highway, all alone Norah was notoriously elusive, and wouldn’t let humans near The team would watch with baited breath as Norah crossed the busy Texas highways, back and forth, walking the streets Finally, after several weeks of trying to trap Norah, they succeeded They realized she looked a lot thinner than usual, and were shocked to learn that Norah had been pregnant Just a few days before her rescue, Norah had given birth to nine tiny puppies She’d been hiding them in the courtyard of a nearby church, safe inside the shrubs and bushes That’s right – of all the nearby places, Norah and her pups took refuge at the United House of Prayer Once the entire family was back at the rescue, Norah continued to nurse and bond with her babies – only now, they had a warm, safe environment and were off the streets for good\n",
      "id: 370, spoiler: The first game to make use of Microsoft’s crossnetwork features would be Rocket League, that’ll allow Xbox One and PC players to compete against each other Interestingly, the PS4 version of the game already has this feature implemented, allowing Steam users to compete against PS4 players\n",
      "id: 371, spoiler: Pb — the abbreviation for lead in the Periodic Table of Elements — etched on them\n",
      "id: 372, spoiler: postmicturition convulsion syndrome\n",
      "id: 373, spoiler: a gargantuan milelong asteroid is heading towards Earth and will brush past us in just a matter of hours Scientists have claimed that the rock, known as 2004 BO41, will have a ‘near Earth pass’ later this afternoon But don’t stress too much The end is not near, as a ‘near Earth pass’ isn’t actually that near at all – in fact, the asteroid is going to go past the Earth 73 million miles away that’s 30 times further away than the moon, reports the Daily Star It is known as a near Earth pass simply because of how terrifyingly large the Universe is Pexels However, don’t stop panicking completely just yet, as NASA has also confirmed that a much smaller asteroid is heading towards Earth at a speed of 31,000 mph Why is NASA choosing to terrify us all today?\n",
      "id: 374, spoiler: Where do you see yourself in five years?\n",
      "id: 375, spoiler: Dumb British blond fucks 15 million people at once\n",
      "id: 376, spoiler: Pat Patterson\n",
      "id: 377, spoiler: It’s very hard to tell somebody at that point that bullshit doesn’t work because look at results\n",
      "id: 378, spoiler: Yvette Nicole Brown\n",
      "id: 379, spoiler: Florida\n",
      "id: 380, spoiler: It's a very difficult spell In both the books and the films, the Patronus charm is one of the most powerful defense spells a witch or wizard can cast to ward off Dementors, the dark creatures that feed off human happiness It's one of the most complex spells in the wizarding world, and in order to conjure a Patronus, a wizard needs to draw upon his most powerful happy memory The Charm conjures a magical guardian in the shape of the animal with whom the witch or wizard shares the greatest affinity\n",
      "id: 381, spoiler: Jason Kander looks to be running very strongly in the exit polls\n",
      "id: 382, spoiler: The best study we have estimating the average time to ejaculation in the general population involved 500 couples from around the world timing themselves having sex over a fourweek period – using a stopwatch That is as practically awkward as it sounds participants pressed start at penile penetration and stop at ejaculation You may note this could affect the mood somewhat, and might perhaps not exactly reflect the natural flow of things But – science is rarely perfect, and this is the best we’ve got So what did the researchers find?\n",
      "id: 383, spoiler: During a briefing in the White House on cybersecurity, Trump introduced the man he's chosen to fight the War on Hacking former New York City Mayor Rudy Giuliani But then the above video happened With that I wanna introduce Rudy Giuliani and he's gonna be working with Jared Kushner and with Tom Bossert who are also here Rudy's very much of an expert on cyber security it's been a very important thing to him, and to what he does and maybe I'll ask Rudy to say a few words\n",
      "id: 384, spoiler: The antibodies of the film look like wriggly bits of string that rush at her and then adapt themselves to the shape of her body For an immunologist Fantastic Voyage is interesting as it was made when there were competing theories of how antibodies worked One, the instructional theory, suggested that all antibody molecules were the same, but they folded themselves around their target and learned its shape – to forestall future invasions – before destroying it The alternative – clonal selection theory – says that there were billions of different antibodies, each with a different shape Each B cell a type of immune cell specialises in making just one type of immune cell specialises in making just one type of antibody When a foreign invader, such as bacteria, enters the body, only one B cell will recognise it That B cell would begin to rapidly divide, making large numbers of clones These newly cloned B cells secrete large amounts of antibody which stick to the invader and mark it for destruction\n",
      "id: 385, spoiler: BOOM – Portugal\n",
      "id: 386, spoiler: white pepper\n",
      "id: 387, spoiler: The phenomenon of heterosexual guys participating in all sorts of arse play is something different, though I’ve seen femaleonmale strapon sex go from the sort of thing tittered about in women’s magazines to hearing a male friend once drunkenly blurting out in a bar that he loved it\n",
      "id: 388, spoiler: Banking on bad movies\n",
      "id: 389, spoiler: Klefki\n",
      "id: 390, spoiler: Liz, the fiercest old Hollywood dame of all I don’t pretend to be an ordinary housewife I am not and couldn’t be, the mom of four once remarked And it was true — the actress was anything but ordinary While her peers played the perfect housewife in photo spreads for Life and Look magazines, La Liz made no bones about her career ambition and racked up husbands like it was NBD at a time when divorce wasn’t nearly as accepted as it is now She was seriously a woman before her time Taylor’s fifth and sixth husband Richard Burton waxed poetic about his wife in his private diaries She is shy and witty, she is nobody’s fool, she is a brilliant actress, she is beautiful beyond the dreams of pornography, he wrote She can be arrogant and willful, she is clement and loving, Dulcis Imperatrix, she is Sunday’s child, she can tolerate my impossibilities and my drunkenness, she is an ache in the stomach when I am away from her, and she loves me Yeah, we think we could get used to someone fawning over us like that\n",
      "id: 391, spoiler: ‘An election between the Democrat Clinton and, let’s say, the Republican Jeb Bush or John Kasich or Marco Rubio, even the hyperideological Ted Cruz, would spark a muchneeded debate about the role of government and the nation’s future, about each candidate’s experience and abilities To choose the candidate who defeated them — fairly and decisively, we should point out — is to repudiate the most basic notions of competence and capability’\n",
      "id: 392, spoiler: It started out as a simple urban exploration video, but turned into something much more lifethreatening in mere moments Check out the pictures and video he captured, and how this attempt at urban exploration was almost his last He starts out his journey in a small alleyway formed by the abandoned building This place looks like something out of a horror movie Dan had passed by this scary abandoned apartment for a few weeks, and just couldn’t seem to get it off his mind\n",
      "id: 393, spoiler: Faster services expansion, slower productivity growth\n",
      "id: 394, spoiler: deadly water hemlock\n",
      "id: 395, spoiler: stack of cash\n",
      "id: 396, spoiler: Christopher Suprun\n",
      "id: 397, spoiler: High fat vegan plant based diet nothing processed Real whole foods, natural minimal skin care routine\n",
      "id: 398, spoiler: 1 John Kerry 4bb96075acadc3d80b5ac872874c3037a386f4f595fe99e687439aabd0219809\n",
      "id: 399, spoiler: Richard Belzer\n"
     ]
    }
   ],
   "source": [
    "import torch\n",
    "# Function to generate spoilers using the trained model and tokenizer\n",
    "def generate_spoilers(encoded_input, batch_size=1):\n",
    "    with torch.no_grad():\n",
    "        num_samples = len(encoded_input[\"input_ids\"])\n",
    "        decoded_spoilers = []\n",
    "\n",
    "        for i in range(0, num_samples, batch_size):\n",
    "            batch_input = {k: v[i:i+batch_size] for k, v in encoded_input.items()}\n",
    "            batch_input = {k: torch.tensor(v).to(model.device) for k, v in batch_input.items()}\n",
    "            output = model.generate(**batch_input)\n",
    "            \n",
    "            # Convert output to a list of tensors\n",
    "            output = [torch.tensor(o).to(model.device) for o in output]\n",
    "\n",
    "            # Perform batch decoding\n",
    "            batch_decoded = tokenizer.batch_decode(output, skip_special_tokens=True)\n",
    "            decoded_spoilers.extend(batch_decoded)\n",
    "\n",
    "    return decoded_spoilers\n",
    "\n",
    "# Generate spoilers for the test_data using the trained model\n",
    "test_texts = test_data[\"train\"][\"text\"]\n",
    "encoded_input = tokenizer(test_texts, padding=True, truncation=True, return_tensors=\"pt\")\n",
    "batch_size = 4\n",
    "decoded_test_preds = generate_spoilers(encoded_input, batch_size=batch_size)\n",
    "# decoded_test_preds = generate_spoilers(encoded_input)\n",
    "\n",
    "# Print the generated spoilers along with their corresponding ids\n",
    "for spoiler, sample_id in zip(decoded_test_preds, test_data[\"train\"][\"id\"]):\n",
    "    print(f\"id: {sample_id}, spoiler: {spoiler}\")\n",
    "    \n",
    "# Create a DataFrame to store the spoilers and their IDs\n",
    "spoilers_df = pd.DataFrame({\"id\": test_data[\"train\"][\"id\"], \"spoiler\": decoded_test_preds})\n",
    "\n",
    "# Strip leading and trailing whitespaces in the \"spoiler\" column\n",
    "spoilers_df[\"spoiler\"] = spoilers_df[\"spoiler\"].str.strip()\n",
    "\n",
    "# Check for any other representations of null spoilers (e.g., empty strings or NaN)\n",
    "null_spoilers = spoilers_df[spoilers_df[\"spoiler\"].isna() | (spoilers_df[\"spoiler\"] == \"\")]\n",
    "\n",
    "if not null_spoilers.empty:\n",
    "    print(\"Null spoilers found. Replacing alternative representations...\")\n",
    "    print(null_spoilers)\n",
    "    spoilers_df.replace({\"\": np.nan}, inplace=True)  # Replace empty strings with NaN\n",
    "    spoilers_df[\"spoiler\"].fillna(\"No Spoilers Generated\", inplace=True)\n",
    "\n",
    "    # Print rows with null spoilers\n",
    "    print(spoilers_df[spoilers_df[\"spoiler\"].isnull()])\n",
    "    \n",
    "# Save the DataFrame to a CSV file\n",
    "spoilers_df.to_csv(\"generated_spoilers_pegasus-x-base_5.csv\", index=False)"
   ]
  },
  {
   "cell_type": "code",
   "execution_count": 40,
   "metadata": {
    "execution": {
     "iopub.execute_input": "2023-07-29T22:42:04.289424Z",
     "iopub.status.busy": "2023-07-29T22:42:04.289029Z",
     "iopub.status.idle": "2023-07-29T22:42:04.301531Z",
     "shell.execute_reply": "2023-07-29T22:42:04.299856Z",
     "shell.execute_reply.started": "2023-07-29T22:42:04.289351Z"
    }
   },
   "outputs": [],
   "source": [
    "### print the number of trainable parameters in the tranformers model\n",
    "# from transformers import AutoModel, AutoTokenizer, MODEL_NAMES_MAPPING\n",
    "\n",
    "# # Get a list of all available transformer model names\n",
    "# all_model_names = list(MODEL_NAMES_MAPPING.keys())\n",
    "\n",
    "# for model_name in all_model_names:\n",
    "#     try:\n",
    "#         # Load the model\n",
    "#         model_class = AutoModel.from_pretrained(model_name)\n",
    "\n",
    "#         # Count the number of trainable parameters\n",
    "#         num_trainable_params = sum(p.numel() for p in model_class.parameters() if p.requires_grad)\n",
    "\n",
    "#         print(f\"Model: {model_name}\")\n",
    "#         print(f\"Number of trainable parameters: {num_trainable_params}\")\n",
    "#         print(\"=\" * 50)\n",
    "\n",
    "#     except Exception as e:\n",
    "#         print(f\"Error loading model {model_name}: {str(e)}\")\n"
   ]
  },
  {
   "cell_type": "code",
   "execution_count": null,
   "metadata": {},
   "outputs": [],
   "source": []
  }
 ],
 "metadata": {
  "kernelspec": {
   "display_name": "Python 3 (ipykernel)",
   "language": "python",
   "name": "python3"
  },
  "language_info": {
   "codemirror_mode": {
    "name": "ipython",
    "version": 3
   },
   "file_extension": ".py",
   "mimetype": "text/x-python",
   "name": "python",
   "nbconvert_exporter": "python",
   "pygments_lexer": "ipython3",
   "version": "3.9.13"
  }
 },
 "nbformat": 4,
 "nbformat_minor": 4
}
